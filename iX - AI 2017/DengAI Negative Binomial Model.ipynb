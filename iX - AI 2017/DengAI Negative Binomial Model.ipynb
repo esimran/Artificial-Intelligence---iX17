{
 "cells": [
  {
   "cell_type": "code",
   "execution_count": 6,
   "metadata": {},
   "outputs": [
    {
     "name": "stderr",
     "output_type": "stream",
     "text": [
      "/Users/Simran/anaconda/lib/python3.6/site-packages/statsmodels/compat/pandas.py:56: FutureWarning: The pandas.core.datetools module is deprecated and will be removed in a future version. Please use the pandas.tseries module instead.\n",
      "  from pandas.core import datetools\n"
     ]
    }
   ],
   "source": [
    "import tensorflow as tf\n",
    "import numpy as np\n",
    "import pandas as pd\n",
    "from sklearn import datasets\n",
    "from sklearn import metrics\n",
    "from sklearn import model_selection\n",
    "from sklearn.model_selection import train_test_split\n",
    "import datetime\n",
    "from statsmodels.tools import eval_measures\n",
    "import statsmodels.formula.api as smf\n",
    "import statsmodels.api as sm\n",
    "from matplotlib import pyplot as plt"
   ]
  },
  {
   "cell_type": "code",
   "execution_count": 8,
   "metadata": {},
   "outputs": [],
   "source": [
    "total_labels = pd.read_csv('./input/dengue_labels_train.csv')\n",
    "total_features = pd.read_csv('./input/dengue_features_train.csv')\n",
    "total_test_features = pd.read_csv('./input/dengue_features_test.csv')\n",
    "total_labels = total_labels.drop(total_labels.columns[[0, 1, 2]], axis=1) "
   ]
  },
  {
   "cell_type": "code",
   "execution_count": 11,
   "metadata": {
    "collapsed": true
   },
   "outputs": [],
   "source": [
    "def preprocess_data(data_path, labels_path):\n",
    "    # load data and set index to city, year, weekofyear\n",
    "    df = pd.read_csv(data_path, index_col=[0, 1, 2])\n",
    "    \n",
    "    # select features we want\n",
    "    features = ['reanalysis_specific_humidity_g_per_kg', \n",
    "                 'reanalysis_dew_point_temp_k', \n",
    "                 'station_avg_temp_c', \n",
    "                 'station_min_temp_c']\n",
    "    \n",
    "    df = df[features]\n",
    "    \n",
    "    # fill missing values\n",
    "    df.fillna(method='ffill', inplace=True)\n",
    "\n",
    "    # add labels to dataframe\n",
    "    if labels_path:\n",
    "        labels = pd.read_csv(labels_path, index_col=[0, 1, 2])\n",
    "        df = df.join(labels)\n",
    "    \n",
    "    # separate san juan and iquitos\n",
    "    sj = df.loc['sj']\n",
    "    iq = df.loc['iq']\n",
    "\n",
    "    return sj, iq"
   ]
  },
  {
   "cell_type": "code",
   "execution_count": 10,
   "metadata": {},
   "outputs": [
    {
     "name": "stdout",
     "output_type": "stream",
     "text": [
      "                      reanalysis_specific_humidity_g_per_kg  \\\n",
      "city year weekofyear                                          \n",
      "sj   1990 18                                      14.012857   \n",
      "          19                                      15.372857   \n",
      "          20                                      16.848571   \n",
      "          21                                      16.672857   \n",
      "          22                                      17.210000   \n",
      "\n",
      "                      reanalysis_dew_point_temp_k  station_avg_temp_c  \\\n",
      "city year weekofyear                                                    \n",
      "sj   1990 18                           292.414286           25.442857   \n",
      "          19                           293.951429           26.714286   \n",
      "          20                           295.434286           26.714286   \n",
      "          21                           295.310000           27.471429   \n",
      "          22                           295.821429           28.942857   \n",
      "\n",
      "                      station_min_temp_c  total_cases  \n",
      "city year weekofyear                                   \n",
      "sj   1990 18                        20.0            4  \n",
      "          19                        22.2            5  \n",
      "          20                        22.8            4  \n",
      "          21                        23.3            3  \n",
      "          22                        23.9            6  \n"
     ]
    }
   ],
   "source": [
    "sj_train, iq_train = preprocess_data('./input/dengue_features_train.csv',\n",
    "                                    './input/dengue_labels_train.csv')"
   ]
  },
  {
   "cell_type": "code",
   "execution_count": 335,
   "metadata": {
    "collapsed": true
   },
   "outputs": [],
   "source": [
    "sj_train_subtrain = sj_train.head(800)\n",
    "sj_train_subtest = sj_train.tail(sj_train.shape[0] - 800)\n",
    "\n",
    "iq_train_subtrain = iq_train.head(400)\n",
    "iq_train_subtest = iq_train.tail(iq_train.shape[0] - 400)"
   ]
  },
  {
   "cell_type": "code",
   "execution_count": 336,
   "metadata": {},
   "outputs": [
    {
     "name": "stderr",
     "output_type": "stream",
     "text": [
      "/Users/Simran/anaconda/lib/python3.6/site-packages/ipykernel_launcher.py:2: SettingWithCopyWarning: \n",
      "A value is trying to be set on a copy of a slice from a DataFrame.\n",
      "Try using .loc[row_indexer,col_indexer] = value instead\n",
      "\n",
      "See the caveats in the documentation: http://pandas.pydata.org/pandas-docs/stable/indexing.html#indexing-view-versus-copy\n",
      "  \n",
      "/Users/Simran/anaconda/lib/python3.6/site-packages/ipykernel_launcher.py:3: SettingWithCopyWarning: \n",
      "A value is trying to be set on a copy of a slice from a DataFrame.\n",
      "Try using .loc[row_indexer,col_indexer] = value instead\n",
      "\n",
      "See the caveats in the documentation: http://pandas.pydata.org/pandas-docs/stable/indexing.html#indexing-view-versus-copy\n",
      "  This is separate from the ipykernel package so we can avoid doing imports until\n",
      "/Users/Simran/anaconda/lib/python3.6/site-packages/ipykernel_launcher.py:4: SettingWithCopyWarning: \n",
      "A value is trying to be set on a copy of a slice from a DataFrame.\n",
      "Try using .loc[row_indexer,col_indexer] = value instead\n",
      "\n",
      "See the caveats in the documentation: http://pandas.pydata.org/pandas-docs/stable/indexing.html#indexing-view-versus-copy\n",
      "  after removing the cwd from sys.path.\n",
      "/Users/Simran/anaconda/lib/python3.6/site-packages/ipykernel_launcher.py:5: SettingWithCopyWarning: \n",
      "A value is trying to be set on a copy of a slice from a DataFrame.\n",
      "Try using .loc[row_indexer,col_indexer] = value instead\n",
      "\n",
      "See the caveats in the documentation: http://pandas.pydata.org/pandas-docs/stable/indexing.html#indexing-view-versus-copy\n",
      "  \"\"\"\n"
     ]
    }
   ],
   "source": [
    "for title in sj_train.columns.tolist()[:3]:\n",
    "    sj_train_subtrain[title] = normalize(sj_train_subtrain[title])\n",
    "    iq_train_subtrain[title] = normalize(iq_train_subtrain[title])\n",
    "    sj_train_subtest[title] = normalize(sj_train_subtest[title])\n",
    "    iq_train_subtest[title] = normalize(iq_train_subtest[title])"
   ]
  },
  {
   "cell_type": "code",
   "execution_count": 328,
   "metadata": {},
   "outputs": [
    {
     "name": "stderr",
     "output_type": "stream",
     "text": [
      "/Users/Simran/anaconda/lib/python3.6/site-packages/ipykernel_launcher.py:1: SettingWithCopyWarning: \n",
      "A value is trying to be set on a copy of a slice from a DataFrame.\n",
      "Try using .loc[row_indexer,col_indexer] = value instead\n",
      "\n",
      "See the caveats in the documentation: http://pandas.pydata.org/pandas-docs/stable/indexing.html#indexing-view-versus-copy\n",
      "  \"\"\"Entry point for launching an IPython kernel.\n",
      "/Users/Simran/anaconda/lib/python3.6/site-packages/ipykernel_launcher.py:2: SettingWithCopyWarning: \n",
      "A value is trying to be set on a copy of a slice from a DataFrame.\n",
      "Try using .loc[row_indexer,col_indexer] = value instead\n",
      "\n",
      "See the caveats in the documentation: http://pandas.pydata.org/pandas-docs/stable/indexing.html#indexing-view-versus-copy\n",
      "  \n",
      "/Users/Simran/anaconda/lib/python3.6/site-packages/ipykernel_launcher.py:3: SettingWithCopyWarning: \n",
      "A value is trying to be set on a copy of a slice from a DataFrame.\n",
      "Try using .loc[row_indexer,col_indexer] = value instead\n",
      "\n",
      "See the caveats in the documentation: http://pandas.pydata.org/pandas-docs/stable/indexing.html#indexing-view-versus-copy\n",
      "  This is separate from the ipykernel package so we can avoid doing imports until\n",
      "/Users/Simran/anaconda/lib/python3.6/site-packages/ipykernel_launcher.py:4: SettingWithCopyWarning: \n",
      "A value is trying to be set on a copy of a slice from a DataFrame.\n",
      "Try using .loc[row_indexer,col_indexer] = value instead\n",
      "\n",
      "See the caveats in the documentation: http://pandas.pydata.org/pandas-docs/stable/indexing.html#indexing-view-versus-copy\n",
      "  after removing the cwd from sys.path.\n"
     ]
    }
   ],
   "source": [
    "sj_train_subtrain['new_feature'] = lagging_top_half(sj_train_subtrain['station_avg_temp_c'])\n",
    "iq_train_subtrain['new_feature'] = lagging_top_half(iq_train_subtrain['station_avg_temp_c'])\n",
    "sj_train_subtest['new_feature'] = lagging_top_half(sj_train_subtest['station_avg_temp_c'])\n",
    "iq_train_subtest['new_feature'] = lagging_top_half(iq_train_subtest['station_avg_temp_c'])"
   ]
  },
  {
   "cell_type": "code",
   "execution_count": 228,
   "metadata": {},
   "outputs": [
    {
     "name": "stderr",
     "output_type": "stream",
     "text": [
      "/Users/Simran/anaconda/lib/python3.6/site-packages/ipykernel_launcher.py:1: SettingWithCopyWarning: \n",
      "A value is trying to be set on a copy of a slice from a DataFrame.\n",
      "Try using .loc[row_indexer,col_indexer] = value instead\n",
      "\n",
      "See the caveats in the documentation: http://pandas.pydata.org/pandas-docs/stable/indexing.html#indexing-view-versus-copy\n",
      "  \"\"\"Entry point for launching an IPython kernel.\n",
      "/Users/Simran/anaconda/lib/python3.6/site-packages/ipykernel_launcher.py:2: SettingWithCopyWarning: \n",
      "A value is trying to be set on a copy of a slice from a DataFrame.\n",
      "Try using .loc[row_indexer,col_indexer] = value instead\n",
      "\n",
      "See the caveats in the documentation: http://pandas.pydata.org/pandas-docs/stable/indexing.html#indexing-view-versus-copy\n",
      "  \n",
      "/Users/Simran/anaconda/lib/python3.6/site-packages/ipykernel_launcher.py:3: SettingWithCopyWarning: \n",
      "A value is trying to be set on a copy of a slice from a DataFrame.\n",
      "Try using .loc[row_indexer,col_indexer] = value instead\n",
      "\n",
      "See the caveats in the documentation: http://pandas.pydata.org/pandas-docs/stable/indexing.html#indexing-view-versus-copy\n",
      "  This is separate from the ipykernel package so we can avoid doing imports until\n",
      "/Users/Simran/anaconda/lib/python3.6/site-packages/ipykernel_launcher.py:4: SettingWithCopyWarning: \n",
      "A value is trying to be set on a copy of a slice from a DataFrame.\n",
      "Try using .loc[row_indexer,col_indexer] = value instead\n",
      "\n",
      "See the caveats in the documentation: http://pandas.pydata.org/pandas-docs/stable/indexing.html#indexing-view-versus-copy\n",
      "  after removing the cwd from sys.path.\n"
     ]
    }
   ],
   "source": [
    "sj_train_subtrain['new_feature'] = top_half(sj_train_subtrain['station_avg_temp_c'])\n",
    "iq_train_subtrain['new_feature'] = top_half(iq_train_subtrain['station_avg_temp_c'])\n",
    "sj_train_subtest['new_feature'] = top_half(sj_train_subtest['station_avg_temp_c'])\n",
    "iq_train_subtest['new_feature'] = top_half(iq_train_subtest['station_avg_temp_c'])"
   ]
  },
  {
   "cell_type": "code",
   "execution_count": 184,
   "metadata": {},
   "outputs": [
    {
     "name": "stderr",
     "output_type": "stream",
     "text": [
      "/Users/Simran/anaconda/lib/python3.6/site-packages/ipykernel_launcher.py:1: SettingWithCopyWarning: \n",
      "A value is trying to be set on a copy of a slice from a DataFrame.\n",
      "Try using .loc[row_indexer,col_indexer] = value instead\n",
      "\n",
      "See the caveats in the documentation: http://pandas.pydata.org/pandas-docs/stable/indexing.html#indexing-view-versus-copy\n",
      "  \"\"\"Entry point for launching an IPython kernel.\n",
      "/Users/Simran/anaconda/lib/python3.6/site-packages/ipykernel_launcher.py:2: SettingWithCopyWarning: \n",
      "A value is trying to be set on a copy of a slice from a DataFrame.\n",
      "Try using .loc[row_indexer,col_indexer] = value instead\n",
      "\n",
      "See the caveats in the documentation: http://pandas.pydata.org/pandas-docs/stable/indexing.html#indexing-view-versus-copy\n",
      "  \n",
      "/Users/Simran/anaconda/lib/python3.6/site-packages/ipykernel_launcher.py:3: SettingWithCopyWarning: \n",
      "A value is trying to be set on a copy of a slice from a DataFrame.\n",
      "Try using .loc[row_indexer,col_indexer] = value instead\n",
      "\n",
      "See the caveats in the documentation: http://pandas.pydata.org/pandas-docs/stable/indexing.html#indexing-view-versus-copy\n",
      "  This is separate from the ipykernel package so we can avoid doing imports until\n",
      "/Users/Simran/anaconda/lib/python3.6/site-packages/ipykernel_launcher.py:4: SettingWithCopyWarning: \n",
      "A value is trying to be set on a copy of a slice from a DataFrame.\n",
      "Try using .loc[row_indexer,col_indexer] = value instead\n",
      "\n",
      "See the caveats in the documentation: http://pandas.pydata.org/pandas-docs/stable/indexing.html#indexing-view-versus-copy\n",
      "  after removing the cwd from sys.path.\n"
     ]
    }
   ],
   "source": [
    "sj_train_subtrain['new_feature'] = multiply(sj_train_subtrain['reanalysis_specific_humidity_g_per_kg'], sj_train_subtrain['reanalysis_dew_point_temp_k'])\n",
    "iq_train_subtrain['new_feature'] = multiply(iq_train_subtrain['reanalysis_specific_humidity_g_per_kg'], iq_train_subtrain['reanalysis_dew_point_temp_k'])\n",
    "sj_train_subtest['new_feature'] = multiply(sj_train_subtest['reanalysis_specific_humidity_g_per_kg'], sj_train_subtest['reanalysis_dew_point_temp_k'])\n",
    "iq_train_subtest['new_feature'] = multiply(iq_train_subtest['reanalysis_specific_humidity_g_per_kg'], iq_train_subtest['reanalysis_dew_point_temp_k'])"
   ]
  },
  {
   "cell_type": "code",
   "execution_count": 240,
   "metadata": {
    "scrolled": true
   },
   "outputs": [
    {
     "data": {
      "text/plain": [
       "['reanalysis_specific_humidity_g_per_kg',\n",
       " 'reanalysis_dew_point_temp_k',\n",
       " 'station_avg_temp_c',\n",
       " 'station_min_temp_c',\n",
       " 'total_cases',\n",
       " 'new_feature']"
      ]
     },
     "execution_count": 240,
     "metadata": {},
     "output_type": "execute_result"
    }
   ],
   "source": [
    "sj_train_subtest.columns.tolist()"
   ]
  },
  {
   "cell_type": "code",
   "execution_count": 245,
   "metadata": {},
   "outputs": [
    {
     "name": "stdout",
     "output_type": "stream",
     "text": [
      "                   reanalysis_specific_humidity_g_per_kg  \\\n",
      "year   weekofyear                                          \n",
      "2005.0 37.0                                     1.000000   \n",
      "       38.0                                     0.849655   \n",
      "       39.0                                     0.881609   \n",
      "       40.0                                     0.848506   \n",
      "       41.0                                     0.774023   \n",
      "       42.0                                     0.922529   \n",
      "       43.0                                     0.927816   \n",
      "       44.0                                     0.822989   \n",
      "       45.0                                     0.805057   \n",
      "       46.0                                     0.710115   \n",
      "       47.0                                     0.534713   \n",
      "       48.0                                     0.538391   \n",
      "       49.0                                     0.206207   \n",
      "       50.0                                     0.401609   \n",
      "       51.0                                     0.371264   \n",
      "2006.0 52.0                                     0.450805   \n",
      "       1.0                                      0.318161   \n",
      "       2.0                                      0.216552   \n",
      "       3.0                                      0.413333   \n",
      "       4.0                                      0.268966   \n",
      "       5.0                                      0.102069   \n",
      "       6.0                                      0.269195   \n",
      "       7.0                                      0.330805   \n",
      "       8.0                                      0.187126   \n",
      "       9.0                                      0.116782   \n",
      "       10.0                                     0.204598   \n",
      "       11.0                                     0.076322   \n",
      "       12.0                                     0.257011   \n",
      "       13.0                                     0.275402   \n",
      "       14.0                                     0.413333   \n",
      "...                                                  ...   \n",
      "2007.0 40.0                                     0.787356   \n",
      "       41.0                                     0.828736   \n",
      "       42.0                                     0.743448   \n",
      "       43.0                                     0.651724   \n",
      "       44.0                                     0.688276   \n",
      "       45.0                                     0.654943   \n",
      "       46.0                                     0.620690   \n",
      "       47.0                                     0.637471   \n",
      "       48.0                                     0.248276   \n",
      "       49.0                                     0.394253   \n",
      "       50.0                                     0.467356   \n",
      "       51.0                                     0.501839   \n",
      "       52.0                                     0.336782   \n",
      "2008.0 1.0                                      0.271264   \n",
      "       2.0                                      0.282299   \n",
      "       3.0                                      0.203218   \n",
      "       4.0                                      0.296092   \n",
      "       5.0                                      0.190345   \n",
      "       6.0                                      0.000000   \n",
      "       7.0                                      0.183678   \n",
      "       8.0                                      0.211264   \n",
      "       9.0                                      0.119310   \n",
      "       10.0                                     0.200920   \n",
      "       11.0                                     0.079770   \n",
      "       12.0                                     0.082299   \n",
      "       13.0                                     0.067356   \n",
      "       14.0                                     0.231264   \n",
      "       15.0                                     0.154253   \n",
      "       16.0                                     0.101839   \n",
      "       17.0                                     0.393563   \n",
      "\n",
      "                   reanalysis_dew_point_temp_k  station_avg_temp_c  \\\n",
      "year   weekofyear                                                    \n",
      "2005.0 37.0                           1.000000            0.995122   \n",
      "       38.0                           0.872860            0.882927   \n",
      "       39.0                           0.893403            0.890244   \n",
      "       40.0                           0.866012            0.785366   \n",
      "       41.0                           0.800502            0.614634   \n",
      "       42.0                           0.925131            0.790244   \n",
      "       43.0                           0.934718            0.778049   \n",
      "       44.0                           0.845926            0.775610   \n",
      "       45.0                           0.832687            0.760976   \n",
      "       46.0                           0.744122            0.639024   \n",
      "       47.0                           0.572016            0.531707   \n",
      "       48.0                           0.573157            0.480488   \n",
      "       49.0                           0.236247            0.268293   \n",
      "       50.0                           0.446702            0.348780   \n",
      "       51.0                           0.415659            0.207317   \n",
      "2006.0 52.0                           0.502625            0.421951   \n",
      "       1.0                            0.362246            0.212195   \n",
      "       2.0                            0.251084            0.109756   \n",
      "       3.0                            0.460169            0.221951   \n",
      "       4.0                            0.315681            0.148780   \n",
      "       5.0                            0.129423            0.000000   \n",
      "       6.0                            0.306779            0.085366   \n",
      "       7.0                            0.378909            0.226829   \n",
      "       8.0                            0.229171            0.246341   \n",
      "       9.0                            0.147683            0.321951   \n",
      "       10.0                           0.244921            0.360976   \n",
      "       11.0                           0.094955            0.358537   \n",
      "       12.0                           0.298562            0.387805   \n",
      "       13.0                           0.317964            0.553659   \n",
      "       14.0                           0.460397            0.343902   \n",
      "...                                        ...                 ...   \n",
      "2007.0 40.0                           0.815795            0.780488   \n",
      "       41.0                           0.846610            0.804878   \n",
      "       42.0                           0.769687            0.970732   \n",
      "       43.0                           0.692992            0.775610   \n",
      "       44.0                           0.716275            0.475610   \n",
      "       45.0                           0.687286            0.687805   \n",
      "       46.0                           0.655330            0.580488   \n",
      "       47.0                           0.673590            0.595122   \n",
      "       48.0                           0.289888            0.346341   \n",
      "       49.0                           0.439626            0.414634   \n",
      "       50.0                           0.517234            0.402439   \n",
      "       51.0                           0.549646            0.282927   \n",
      "       52.0                           0.382105            0.285366   \n",
      "2008.0 1.0                            0.315910            0.339024   \n",
      "       2.0                            0.328920            0.265854   \n",
      "       3.0                            0.236932            0.173171   \n",
      "       4.0                            0.335312            0.190244   \n",
      "       5.0                            0.226889            0.197561   \n",
      "       6.0                            0.000000            0.136585   \n",
      "       7.0                            0.224378            0.236585   \n",
      "       8.0                            0.255193            0.253659   \n",
      "       9.0                            0.154303            0.226829   \n",
      "       10.0                           0.242182            0.290244   \n",
      "       11.0                           0.105455            0.326829   \n",
      "       12.0                           0.106825            0.304878   \n",
      "       13.0                           0.089249            0.278049   \n",
      "       14.0                           0.271399            0.482927   \n",
      "       15.0                           0.191052            0.270732   \n",
      "       16.0                           0.117781            0.324390   \n",
      "       17.0                           0.438256            0.619512   \n",
      "\n",
      "                   station_min_temp_c  total_cases  new_feature  \n",
      "year   weekofyear                                                \n",
      "2005.0 37.0                      24.4        112.0   403.177896  \n",
      "       38.0                      24.4         82.0   403.177896  \n",
      "       39.0                      25.0         73.0   403.177896  \n",
      "       40.0                      23.3         43.0   403.177896  \n",
      "       41.0                      22.8         55.0   403.177896  \n",
      "       42.0                      23.3         55.0   403.177896  \n",
      "       43.0                      23.9         53.0   403.177896  \n",
      "       44.0                      23.9         46.0   403.177896  \n",
      "       45.0                      23.3         43.0   403.177896  \n",
      "       46.0                      23.3         29.0   403.177896  \n",
      "       47.0                      22.2         22.0   403.177896  \n",
      "       48.0                      22.8         26.0   403.177896  \n",
      "       49.0                      20.6         13.0   148.336238  \n",
      "       50.0                      21.1         17.0    54.575511  \n",
      "       51.0                      20.6          8.0    20.079290  \n",
      "2006.0 52.0                      21.1         13.0     7.387524  \n",
      "       1.0                       20.6         10.0     2.718000  \n",
      "       2.0                       18.9         17.0     1.000000  \n",
      "       3.0                       20.6         19.0     1.000000  \n",
      "       4.0                       20.6          9.0     1.000000  \n",
      "       5.0                       18.9          9.0     1.000000  \n",
      "       6.0                       19.4          9.0     1.000000  \n",
      "       7.0                       20.0          3.0     1.000000  \n",
      "       8.0                       21.1          7.0     1.000000  \n",
      "       9.0                       21.1          7.0     1.000000  \n",
      "       10.0                      21.1          0.0     1.000000  \n",
      "       11.0                      21.7          2.0     1.000000  \n",
      "       12.0                      21.7          3.0     1.000000  \n",
      "       13.0                      22.2          3.0     1.000000  \n",
      "       14.0                      21.1          1.0     2.718000  \n",
      "...                               ...          ...          ...  \n",
      "2007.0 40.0                      22.2        170.0   403.177896  \n",
      "       41.0                      23.9        135.0   403.177896  \n",
      "       42.0                      24.4        106.0   403.177896  \n",
      "       43.0                      24.4         68.0   403.177896  \n",
      "       44.0                      22.2         48.0   403.177896  \n",
      "       45.0                      22.8         48.0   148.336238  \n",
      "       46.0                      22.8         26.0   148.336238  \n",
      "       47.0                      22.8         33.0   148.336238  \n",
      "       48.0                      22.2         29.0   148.336238  \n",
      "       49.0                      22.8         17.0    54.575511  \n",
      "       50.0                      22.2         12.0    20.079290  \n",
      "       51.0                      21.7         13.0    20.079290  \n",
      "       52.0                      21.1         17.0     7.387524  \n",
      "2008.0 1.0                       22.2         15.0     2.718000  \n",
      "       2.0                       21.1         14.0     1.000000  \n",
      "       3.0                       20.6         15.0     1.000000  \n",
      "       4.0                       21.1         10.0     1.000000  \n",
      "       5.0                       20.0          9.0     1.000000  \n",
      "       6.0                       21.1          2.0     1.000000  \n",
      "       7.0                       21.1          6.0     1.000000  \n",
      "       8.0                       21.7          8.0     1.000000  \n",
      "       9.0                       21.1          5.0     1.000000  \n",
      "       10.0                      21.1          1.0     1.000000  \n",
      "       11.0                      22.2          2.0     1.000000  \n",
      "       12.0                      20.6          3.0     1.000000  \n",
      "       13.0                      21.1          4.0     1.000000  \n",
      "       14.0                      22.2          3.0     1.000000  \n",
      "       15.0                      21.7          1.0     1.000000  \n",
      "       16.0                      21.7          3.0     1.000000  \n",
      "       17.0                      23.3          5.0     1.000000  \n",
      "\n",
      "[136 rows x 6 columns]\n"
     ]
    }
   ],
   "source": [
    "print(sj_train_subtest)"
   ]
  },
  {
   "cell_type": "code",
   "execution_count": 338,
   "metadata": {},
   "outputs": [
    {
     "name": "stdout",
     "output_type": "stream",
     "text": [
      "best alpha =  1e-08\n",
      "best score =  21.7794117647\n",
      "best alpha =  1e-08\n",
      "best score =  6.34166666667\n"
     ]
    }
   ],
   "source": [
    "def get_best_model(train, test):\n",
    "    # Step 1: specify the form of the model\n",
    "    model_formula = \"total_cases ~ 1 + \" \\\n",
    "                    \"reanalysis_specific_humidity_g_per_kg + \" \\\n",
    "                    \"reanalysis_dew_point_temp_k + \" \\\n",
    "                    \"station_min_temp_c + \" \\\n",
    "                    \"station_avg_temp_c\"\n",
    "    \n",
    "    grid = 10 ** np.arange(-8, -3, dtype=np.float64)\n",
    "                    \n",
    "    best_alpha = []\n",
    "    best_score = 1000\n",
    "        \n",
    "    # Step 2: Find the best hyper parameter, alpha\n",
    "    for alpha in grid:\n",
    "        model = smf.glm(formula=model_formula,\n",
    "                        data=train,\n",
    "                        family=sm.families.NegativeBinomial(alpha=alpha))\n",
    "\n",
    "        results = model.fit()\n",
    "        predictions = results.predict(test).astype(int)\n",
    "        score = eval_measures.meanabs(predictions, test.total_cases)\n",
    "        \n",
    "        if score < best_score:\n",
    "            best_alpha = alpha\n",
    "            best_score = score\n",
    "\n",
    "    print('best alpha = ', best_alpha)\n",
    "    print('best score = ', best_score)\n",
    "            \n",
    "    # Step 3: refit on entire dataset\n",
    "    full_dataset = pd.concat([train, test])\n",
    "    model = smf.glm(formula=model_formula,\n",
    "                    data=full_dataset,\n",
    "                    family=sm.families.NegativeBinomial(alpha=best_alpha))\n",
    "\n",
    "    fitted_model = model.fit()\n",
    "    return fitted_model\n",
    "    \n",
    "sj_best_model = get_best_model(sj_train_subtrain, sj_train_subtest)\n",
    "iq_best_model = get_best_model(iq_train_subtrain, iq_train_subtest)"
   ]
  },
  {
   "cell_type": "code",
   "execution_count": 339,
   "metadata": {
    "collapsed": true
   },
   "outputs": [],
   "source": [
    "sj_test, iq_test = preprocess_data('./input/dengue_features_test.csv', None)\n",
    "\n",
    "for title in sj_train.columns.tolist()[:3]:\n",
    "    sj_test[title] = normalize(sj_test[title])\n",
    "    iq_test[title] = normalize(iq_test[title])\n",
    "    \n",
    "sj_test['new_feature'] = lagging_top_half(sj_test['station_avg_temp_c'])\n",
    "iq_test['new_feature'] = lagging_top_half(iq_test['station_avg_temp_c'])\n",
    "\n",
    "    \n",
    "sj_predictions = sj_best_model.predict(sj_test).astype(int)\n",
    "iq_predictions = iq_best_model.predict(iq_test).astype(int)\n",
    "\n",
    "submission = pd.read_csv('./input/submission_format.csv',\n",
    "                         index_col=[0, 1, 2])\n",
    "\n",
    "submission.total_cases = np.concatenate([sj_predictions, iq_predictions])\n",
    "submission.to_csv(\"./input/new_nbm.csv\")"
   ]
  },
  {
   "cell_type": "code",
   "execution_count": 340,
   "metadata": {},
   "outputs": [
    {
     "name": "stdout",
     "output_type": "stream",
     "text": [
      "year  weekofyear\n",
      "2008  18            25\n",
      "      19            23\n",
      "      20            31\n",
      "      21            23\n",
      "      22            26\n",
      "      23            27\n",
      "      24            31\n",
      "      25            36\n",
      "      26            39\n",
      "      27            37\n",
      "      28            33\n",
      "      29            34\n",
      "      30            41\n",
      "      31            37\n",
      "      32            49\n",
      "      33            47\n",
      "      34            48\n",
      "      35            53\n",
      "      36            59\n",
      "      37            57\n",
      "      38            48\n",
      "      39            43\n",
      "      40            53\n",
      "      41            37\n",
      "      42            38\n",
      "      43            34\n",
      "      44            30\n",
      "      45            38\n",
      "      46            33\n",
      "      47            32\n",
      "                    ..\n",
      "2012  39            45\n",
      "      40            45\n",
      "      41            37\n",
      "      42            55\n",
      "      43            45\n",
      "      44            49\n",
      "      45            38\n",
      "      46            37\n",
      "      47            39\n",
      "      48            30\n",
      "      49            27\n",
      "      50            23\n",
      "      51            21\n",
      "2013  1             26\n",
      "      2             20\n",
      "      3             17\n",
      "      4             16\n",
      "      5             20\n",
      "      6             17\n",
      "      7             16\n",
      "      8             16\n",
      "      9             16\n",
      "      10            18\n",
      "      11            13\n",
      "      12            12\n",
      "      13            25\n",
      "      14            23\n",
      "      15            26\n",
      "      16            24\n",
      "      17            22\n",
      "Length: 260, dtype: int64\n"
     ]
    }
   ],
   "source": [
    "print(sj_predictions)"
   ]
  },
  {
   "cell_type": "code",
   "execution_count": 341,
   "metadata": {
    "collapsed": true
   },
   "outputs": [],
   "source": [
    "bench = np.concatenate([sj_predictions, iq_predictions])"
   ]
  },
  {
   "cell_type": "code",
   "execution_count": 121,
   "metadata": {
    "collapsed": true
   },
   "outputs": [],
   "source": [
    "testing = np.concatenate([sj_predictions, iq_predictions])"
   ]
  },
  {
   "cell_type": "code",
   "execution_count": 342,
   "metadata": {},
   "outputs": [
    {
     "name": "stdout",
     "output_type": "stream",
     "text": [
      "[25 23 31 23 26 27 31 36 39 37 33 34 41 37 49 47 48 53 59 57 48 43 53 37 38\n",
      " 34 30 38 33 32 25 15 17 22 17 17 17 21 22 25 19 17 14 16 17 15 12 15 13 16\n",
      " 18 20 22 19 25 24 39 33 32 36 33 38 43 42 47 49 40 42 43 46 45 50 43 42 48\n",
      " 48 51 48 37 31 36 38 41 29 30 30 25 25 26 24 26 24 18 20 24 24 36 28 26 36\n",
      " 27 21 21 28 44 44 31 37 41 57 53 46 48 52 56 62 53 53 51 57 51 56 58 57 55\n",
      " 48 45 48 55 43 34 38 42 26 19 19 13 25 20 17 15 23 22 22 18 19 20 19 12 16\n",
      " 11 14 22 26 18 19 18 25 17 31 40 41 45 62 59 53 47 49 43 50 44 60 51 53 52\n",
      " 43 48 43 47 51 41 39 31 44 37 36 32 30 23 26 15 17 21 21 17 16 15 17 18 17\n",
      " 18 19 16 15 19 23 23 22 19 29 26 37 34 26 39 36 39 43 40 43 42 45 41 45 53\n",
      " 45 42 36 36 37 45 45 37 55 45 49 38 37 39 30 27 23 21 26 20 17 16 20 17 16\n",
      " 16 16 18 13 12 25 23 26 24 22  6  5  8  2  2  4  6  5  6  6  6  5  4  5  4\n",
      "  4  5  8 13  6  8  9  9 12  8  5  8  7  8  7  6  6  8  8  8  8  9  8  8 11\n",
      "  8  8  8 10 10  5  9  9  7  6  8  5  7  7  3  4  5  4  4  6  2  3  5  6  6\n",
      "  9  6  8 13  8  7  8  9  8  9 10 10 11 10  9  9  6  7 10 11  8  7  6  8  7\n",
      "  6  8  7 12 11  8  8  4  9  5  7  5  3  4  4  4  4  5  4  4  3  4  4  5  4\n",
      "  4  4  5  4 10  5 12  8  8 15 17 17 10 10 13 10  6  9 11 10 12 10 10  8 10\n",
      " 11 16 12  8  8 12  8  3 10  7  7  6  7  5  5  6]\n"
     ]
    }
   ],
   "source": [
    "print(bench)"
   ]
  },
  {
   "cell_type": "code",
   "execution_count": 78,
   "metadata": {},
   "outputs": [
    {
     "data": {
      "image/png": "[encoded data removed]",
      "text/plain": [
       "<matplotlib.figure.Figure at 0x1183d3cc0>"
      ]
     },
     "metadata": {},
     "output_type": "display_data"
    }
   ],
   "source": [
    "figs, axes = plt.subplots(nrows=2, ncols=1)\n",
    "\n",
    "# plot sj\n",
    "sj_train['fitted'] = sj_best_model.fittedvalues\n",
    "sj_train.fitted.plot(ax=axes[0], label=\"Predictions\")\n",
    "sj_train.total_cases.plot(ax=axes[0], label=\"Actual\")\n",
    "\n",
    "# plot iq\n",
    "iq_train['fitted'] = iq_best_model.fittedvalues\n",
    "iq_train.fitted.plot(ax=axes[1], label=\"Predictions\")\n",
    "iq_train.total_cases.plot(ax=axes[1], label=\"Actual\")\n",
    "\n",
    "plt.suptitle(\"Dengue Predicted Cases vs. Actual Cases\")\n",
    "plt.legend()\n",
    "plt.show()"
   ]
  },
  {
   "cell_type": "code",
   "execution_count": 79,
   "metadata": {},
   "outputs": [
    {
     "data": {
      "image/png": "[encoded data removed]",
      "text/plain": [
       "<matplotlib.figure.Figure at 0x11836e2b0>"
      ]
     },
     "metadata": {},
     "output_type": "display_data"
    }
   ],
   "source": [
    "figs, axes = plt.subplots(nrows=2, ncols=1)\n",
    "# station_diur_temp_rng_c, \n",
    "# plot sj\n",
    "# print(sj_train['reanalysis_specific_humidity_g_per_kg'])\n",
    "\n",
    "total_features.ndvi_sw.plot(ax=axes[0], label=\"...\")\n",
    "\n",
    "# sj_train.total_cases.plot(ax=axes[0], label=\"Actual\")\n",
    "# print(dir(sj_train))\n",
    "\n",
    "sj_train.total_cases.plot(ax=axes[1], label=\"Actual\")\n",
    "\n",
    "# plt.suptitle(\"Dengue Predicted Cases vs. Actual Cases\")\n",
    "plt.legend()\n",
    "plt.show()"
   ]
  },
  {
   "cell_type": "code",
   "execution_count": 80,
   "metadata": {
    "collapsed": true
   },
   "outputs": [],
   "source": [
    "def normalize(column):\n",
    "    new_column = []\n",
    "    min_val = min(column)\n",
    "    max_val = max(column)\n",
    "    range_val = max_val-min_val\n",
    "    for entry in column:\n",
    "        new_column.append((entry-min_val)/range_val)\n",
    "    return new_column"
   ]
  },
  {
   "cell_type": "code",
   "execution_count": 81,
   "metadata": {
    "collapsed": true
   },
   "outputs": [],
   "source": [
    "def multiply(column1, column2, column3=None):\n",
    "    new_column = []\n",
    "    for index in range(len(column1)):\n",
    "        next_entry = column1[index]*column2[index]\n",
    "        if column3 is not None:\n",
    "            next_entry = next_entry*column3[index]\n",
    "        new_column.append(next_entry)\n",
    "    return new_column"
   ]
  },
  {
   "cell_type": "code",
   "execution_count": 162,
   "metadata": {
    "collapsed": true
   },
   "outputs": [],
   "source": [
    "def top_half(column):\n",
    "    new_column = []\n",
    "    for entry in column:\n",
    "        if entry > .5:\n",
    "            new_column.append(1)\n",
    "        else:  new_column.append(0)\n",
    "    return new_column"
   ]
  },
  {
   "cell_type": "code",
   "execution_count": 322,
   "metadata": {
    "collapsed": true
   },
   "outputs": [],
   "source": [
    "def lagging_top_half(column):\n",
    "    delay = 2\n",
    "    binary = top_half(column)\n",
    "    new_column = []\n",
    "    week_sum = sum(binary[:delay])\n",
    "    for _ in range(delay):\n",
    "        new_column.append(2.718**week_sum)\n",
    "    for index in range(delay, len(column)):\n",
    "        week_sum = sum(binary[index-delay:index])\n",
    "        new_column.append(2.718**week_sum)\n",
    "    return new_column"
   ]
  },
  {
   "cell_type": "code",
   "execution_count": null,
   "metadata": {
    "collapsed": true
   },
   "outputs": [],
   "source": []
  }
 ],
 "metadata": {
  "kernelspec": {
   "display_name": "Python 3",
   "language": "python",
   "name": "python3"
  },
  "language_info": {
   "codemirror_mode": {
    "name": "ipython",
    "version": 3
   },
   "file_extension": ".py",
   "mimetype": "text/x-python",
   "name": "python",
   "nbconvert_exporter": "python",
   "pygments_lexer": "ipython3",
   "version": "3.6.1"
  }
 },
 "nbformat": 4,
 "nbformat_minor": 2
}
