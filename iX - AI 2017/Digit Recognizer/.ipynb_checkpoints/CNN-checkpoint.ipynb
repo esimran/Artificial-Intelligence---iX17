{
 "cells": [
  {
   "cell_type": "code",
   "execution_count": 13,
   "metadata": {
    "collapsed": true
   },
   "outputs": [],
   "source": [
    "import numpy as np\n",
    "import matplotlib.pyplot as plt\n",
    "import pandas as pd\n",
    "import math\n",
    "from keras.utils import np_utils\n",
    "from pandas import Series , DataFrame, Panel\n",
    "from keras.models import Sequential\n",
    "from keras.layers import Dense\n",
    "from keras.layers import Dropout\n",
    "from keras.layers import Conv2D, MaxPooling2D, Flatten\n",
    "from keras.callbacks import EarlyStopping\n",
    "from keras import metrics\n",
    "from sklearn.decomposition import PCA"
   ]
  },
  {
   "cell_type": "code",
   "execution_count": 41,
   "metadata": {
    "collapsed": true
   },
   "outputs": [],
   "source": [
    "train = pd.read_csv('train.csv')\n",
    "TestX = (pd.read_csv('test.csv').values).astype(float)"
   ]
  },
  {
   "cell_type": "code",
   "execution_count": 42,
   "metadata": {
    "collapsed": true
   },
   "outputs": [],
   "source": [
    "labels = train.iloc[1:,0].values\n",
    "TrainX = (train.iloc[1:,1:].values).astype(float)\n",
    "TrainY = np_utils.to_categorical(labels)"
   ]
  },
  {
   "cell_type": "code",
   "execution_count": 43,
   "metadata": {
    "collapsed": true
   },
   "outputs": [],
   "source": [
    "TrainX /= 255\n",
    "TrainX -= np.std(TrainX)"
   ]
  },
  {
   "cell_type": "code",
   "execution_count": 48,
   "metadata": {},
   "outputs": [
    {
     "name": "stdout",
     "output_type": "stream",
     "text": [
      "(41999, 784)\n"
     ]
    }
   ],
   "source": [
    "print(TrainX.shape)"
   ]
  },
  {
   "cell_type": "code",
   "execution_count": 49,
   "metadata": {
    "collapsed": true
   },
   "outputs": [],
   "source": [
    "# pca = PCA(n_components=256)\n",
    "# pca.fit(TrainX)\n",
    "# TrainX = pca.transform(TrainX)\n",
    "TrainX= TrainX.reshape(TrainX.shape[0],28,28,1)"
   ]
  },
  {
   "cell_type": "code",
   "execution_count": 58,
   "metadata": {},
   "outputs": [],
   "source": [
    "np.random.seed(42)\n",
    "\n",
    "model = Sequential()\n",
    "model.add(Conv2D(64, kernel_size=(4,4),\n",
    "                 activation='relu',\n",
    "                 input_shape=(28,28,1)))\n",
    "model.add(Dropout(0.20))\n",
    "model.add(Conv2D(32, kernel_size=(4, 4),activation='relu',))\n",
    "model.add(Dropout(0.20))\n",
    "model.add(Conv2D(16, kernel_size=(4, 4),activation='relu',))\n",
    "model.add(Dropout(0.20))\n",
    "# model.add(MaxPooling2D(pool_size=(3, 3)))\n",
    "model.add(Flatten())\n",
    "model.add(Dense(128, activation = 'relu'))\n",
    "model.add(Dense(TrainY.shape[1],activation  = 'softmax'))\n",
    "early_stopping_monitor = EarlyStopping(monitor=\"acc\",min_delta=0.05,patience=2)\n",
    "\n",
    "model.compile(loss='categorical_crossentropy', optimizer='adam', metrics=['accuracy'])"
   ]
  },
  {
   "cell_type": "code",
   "execution_count": null,
   "metadata": {},
   "outputs": [
    {
     "name": "stdout",
     "output_type": "stream",
     "text": [
      "Epoch 1/16\n",
      "325s - loss: 0.1534 - acc: 0.9522\n",
      "Epoch 2/16\n",
      "300s - loss: 0.0499 - acc: 0.9847\n",
      "Epoch 3/16\n",
      "312s - loss: 0.0339 - acc: 0.9892\n",
      "Epoch 4/16\n"
     ]
    }
   ],
   "source": [
    "model.fit(TrainX,TrainY, epochs = 16, verbose = 2, batch_size =50)"
   ]
  },
  {
   "cell_type": "code",
   "execution_count": 55,
   "metadata": {
    "collapsed": true
   },
   "outputs": [],
   "source": [
    "TestX /= 255\n",
    "TestX -= np.std(TrainX)\n",
    "TestX= TestX.reshape(TestX.shape[0],28,28,1)\n",
    "Prediction = model.predict_classes(TestX , verbose = 2)"
   ]
  },
  {
   "cell_type": "code",
   "execution_count": 56,
   "metadata": {},
   "outputs": [
    {
     "data": {
      "text/plain": [
       "array([2, 2, 2, ..., 2, 2, 2])"
      ]
     },
     "execution_count": 56,
     "metadata": {},
     "output_type": "execute_result"
    }
   ],
   "source": [
    "Prediction"
   ]
  },
  {
   "cell_type": "code",
   "execution_count": 53,
   "metadata": {},
   "outputs": [
    {
     "ename": "NameError",
     "evalue": "name 'Prediction' is not defined",
     "output_type": "error",
     "traceback": [
      "\u001b[0;31m---------------------------------------------------------------------------\u001b[0m",
      "\u001b[0;31mNameError\u001b[0m                                 Traceback (most recent call last)",
      "\u001b[0;32m<ipython-input-53-c5add13daff7>\u001b[0m in \u001b[0;36m<module>\u001b[0;34m()\u001b[0m\n\u001b[0;32m----> 1\u001b[0;31m \u001b[0mpd\u001b[0m\u001b[0;34m.\u001b[0m\u001b[0mDataFrame\u001b[0m\u001b[0;34m(\u001b[0m\u001b[0;34m{\u001b[0m\u001b[0;34m\"ImageId\"\u001b[0m\u001b[0;34m:\u001b[0m \u001b[0mlist\u001b[0m\u001b[0;34m(\u001b[0m\u001b[0mrange\u001b[0m\u001b[0;34m(\u001b[0m\u001b[0;36m1\u001b[0m\u001b[0;34m,\u001b[0m\u001b[0mlen\u001b[0m\u001b[0;34m(\u001b[0m\u001b[0mPrediction\u001b[0m\u001b[0;34m)\u001b[0m\u001b[0;34m+\u001b[0m\u001b[0;36m1\u001b[0m\u001b[0;34m)\u001b[0m\u001b[0;34m)\u001b[0m\u001b[0;34m,\u001b[0m \u001b[0;34m\"Label\"\u001b[0m\u001b[0;34m:\u001b[0m \u001b[0mPrediction\u001b[0m\u001b[0;34m}\u001b[0m\u001b[0;34m)\u001b[0m\u001b[0;34m.\u001b[0m\u001b[0mto_csv\u001b[0m\u001b[0;34m(\u001b[0m\u001b[0;34m\"submissionC.csv\"\u001b[0m\u001b[0;34m,\u001b[0m \u001b[0mindex\u001b[0m\u001b[0;34m=\u001b[0m\u001b[0;32mFalse\u001b[0m\u001b[0;34m,\u001b[0m \u001b[0mheader\u001b[0m\u001b[0;34m=\u001b[0m\u001b[0;32mTrue\u001b[0m\u001b[0;34m)\u001b[0m\u001b[0;34m\u001b[0m\u001b[0m\n\u001b[0m",
      "\u001b[0;31mNameError\u001b[0m: name 'Prediction' is not defined"
     ]
    }
   ],
   "source": [
    "pd.DataFrame({\"ImageId\": list(range(1,len(Prediction)+1)), \"Label\": Prediction}).to_csv(\"submissionC.csv\", index=False, header=True)"
   ]
  },
  {
   "cell_type": "code",
   "execution_count": null,
   "metadata": {},
   "outputs": [
    {
     "name": "stdout",
     "output_type": "stream",
     "text": [
      "(3000, 256)\n",
      "Epoch 1/64\n",
      "77s - loss: 16.1181 - acc: 0.0000e+00\n",
      "Epoch 2/64\n",
      "84s - loss: 16.1181 - acc: 0.0000e+00\n",
      "Epoch 3/64\n",
      "78s - loss: 16.1181 - acc: 0.0000e+00\n",
      "Epoch 4/64\n",
      "83s - loss: 16.1181 - acc: 0.0000e+00\n",
      "Epoch 5/64\n",
      "85s - loss: 16.1181 - acc: 0.0000e+00\n",
      "Epoch 6/64\n",
      "84s - loss: 16.1152 - acc: 0.0000e+00\n",
      "Epoch 7/64\n",
      "78s - loss: 16.1127 - acc: 3.3333e-04\n",
      "Epoch 8/64\n",
      "86s - loss: 16.1127 - acc: 3.3333e-04\n",
      "Epoch 9/64\n",
      "80s - loss: 16.1127 - acc: 3.3333e-04\n",
      "Epoch 10/64\n",
      "89s - loss: 16.1127 - acc: 3.3333e-04\n",
      "Epoch 11/64\n",
      "86s - loss: 16.1127 - acc: 3.3333e-04\n",
      "Epoch 12/64\n",
      "85s - loss: 16.1127 - acc: 3.3333e-04\n",
      "Epoch 13/64\n",
      "83s - loss: 16.1127 - acc: 3.3333e-04\n",
      "Epoch 14/64\n",
      "91s - loss: 16.1127 - acc: 3.3333e-04\n",
      "Epoch 15/64\n",
      "101s - loss: 16.1127 - acc: 3.3333e-04\n",
      "Epoch 16/64\n",
      "102s - loss: 16.1127 - acc: 3.3333e-04\n",
      "Epoch 17/64\n"
     ]
    }
   ],
   "source": [
    "import numpy as np\n",
    "import matplotlib.pyplot as plt\n",
    "import pandas as pd\n",
    "import math\n",
    "from keras.utils import np_utils\n",
    "from pandas import Series , DataFrame, Panel\n",
    "from keras.models import Sequential\n",
    "from keras.layers import Dense\n",
    "from keras.layers import LSTM\n",
    "from keras.layers import Dropout\n",
    "from keras.layers import Conv2D, MaxPooling2D, Flatten\n",
    "from keras.callbacks import EarlyStopping\n",
    "from keras import metrics\n",
    "\n",
    "\n",
    "train = pd.read_csv('../input/train.csv')\n",
    "\n",
    "TestX = (pd.read_csv('../input/test.csv').values).astype(float)\n",
    "labels = train.iloc[1:,0].values\n",
    "TrainX = (train.iloc[1:,1:].values).astype(float)[:3000]\n",
    "TrainY = np_utils.to_categorical(labels)[:3000]\n",
    "\n",
    "TrainX /= 255\n",
    "TrainX -= np.std(TrainX)\n",
    "\n",
    "\n",
    "from sklearn.decomposition import PCA\n",
    "pca = PCA(n_components=256)\n",
    "pca.fit(TrainX)\n",
    "TrainX = pca.transform(TrainX)\n",
    "\n",
    "print(TrainX.shape)\n",
    "\n",
    "\n",
    "\n",
    "\n",
    "\n",
    "TrainX= TrainX.reshape(TrainX.shape[0],16,16,1)\n",
    "\n",
    "model = Sequential()\n",
    "model.add(Conv2D(64, kernel_size=(4,4),\n",
    "                 activation='relu',\n",
    "                 input_shape=(16,16,1)))\n",
    "model.add(Dropout(0.20))\n",
    "model.add(Conv2D(32, kernel_size=(2, 2),activation='relu',))\n",
    "model.add(Dropout(0.20))\n",
    "model.add(MaxPooling2D(pool_size=(3, 3)))\n",
    "model.add(Dropout(0.20))\n",
    "model.add(Flatten())\n",
    "model.add(Dense(128, activation = 'relu'))\n",
    "model.add(Dense(TrainY.shape[1],activation  = 'softmax'))\n",
    "early_stopping_monitor = EarlyStopping(monitor=\"acc\",min_delta=0.3,patience=2)\n",
    "\n",
    "model.compile(loss='categorical_crossentropy', optimizer='RMSprop', metrics=['accuracy'])\n",
    "\n",
    "model.fit(TrainX,TrainY, epochs = 64, verbose = 2, batch_size =256)\n",
    "\n",
    "\n",
    "\n",
    "\n",
    "TestX /= 255\n",
    "TestX -= np.std(TrainX)\n",
    "TestX = pca.transform(Test)\n",
    "TestX= TestX.reshape(TestX.shape[0],16,16,1)\n",
    "Prediction = model.predict_classes(TestX , verbose = 2)\n",
    "\n",
    "\n",
    "\n",
    "pd.DataFrame({\"ImageId\": list(range(1,len(Prediction)+1)), \"Label\": Prediction}).to_csv(\"submissionC.csv\", index=False, header=True)"
   ]
  },
  {
   "cell_type": "code",
   "execution_count": null,
   "metadata": {
    "collapsed": true
   },
   "outputs": [],
   "source": []
  }
 ],
 "metadata": {
  "kernelspec": {
   "display_name": "Python 3",
   "language": "python",
   "name": "python3"
  },
  "language_info": {
   "codemirror_mode": {
    "name": "ipython",
    "version": 3
   },
   "file_extension": ".py",
   "mimetype": "text/x-python",
   "name": "python",
   "nbconvert_exporter": "python",
   "pygments_lexer": "ipython3",
   "version": "3.6.1"
  }
 },
 "nbformat": 4,
 "nbformat_minor": 2
}
