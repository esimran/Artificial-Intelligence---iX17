{
 "cells": [
  {
   "cell_type": "code",
   "execution_count": 1,
   "metadata": {
    "collapsed": true,
    "slideshow": {
     "slide_type": "slide"
    }
   },
   "outputs": [],
   "source": [
    "import numpy as np # support for multi-dimensional arrays and matrices\n",
    "import pandas as pd # data processing, CSV file I/O (e.g. pd.read_csv)\n",
    "\n",
    "import warnings\n",
    "warnings.filterwarnings(\"ignore\")\n",
    "\n",
    "import seaborn as sns\n",
    "sns.set(style=\"white\", color_codes=True)\n",
    "\n",
    "import matplotlib.pyplot as plt"
   ]
  },
  {
   "cell_type": "code",
   "execution_count": 2,
   "metadata": {
    "collapsed": true,
    "slideshow": {
     "slide_type": "subslide"
    }
   },
   "outputs": [],
   "source": [
    "from sklearn.metrics import roc_auc_score"
   ]
  },
  {
   "cell_type": "code",
   "execution_count": 3,
   "metadata": {
    "collapsed": true,
    "slideshow": {
     "slide_type": "skip"
    }
   },
   "outputs": [],
   "source": [
    "from sklearn.ensemble import GradientBoostingClassifier\n",
    "from sklearn.feature_selection import SelectFromModel, VarianceThreshold"
   ]
  },
  {
   "cell_type": "code",
   "execution_count": 4,
   "metadata": {
    "slideshow": {
     "slide_type": "subslide"
    }
   },
   "outputs": [
    {
     "name": "stdout",
     "output_type": "stream",
     "text": [
      "bench_submission.csv\n",
      "clean_wap.txt\n",
      "dengue_features_test.csv\n",
      "dengue_features_train.csv\n",
      "dengue_labels_train.csv\n",
      "grail.txt\n",
      "pride.txt\n",
      "submission.csv\n",
      "submission_format.csv\n",
      "test.csv\n",
      "train.csv\n",
      "war_and_peace.txt\n",
      "\n"
     ]
    }
   ],
   "source": [
    "# Input data files are available in the \"./input/\" directory.\n",
    "\n",
    "from subprocess import check_output\n",
    "print(check_output([\"ls\", \"./input\"]).decode(\"utf8\"))"
   ]
  },
  {
   "cell_type": "code",
   "execution_count": 5,
   "metadata": {
    "slideshow": {
     "slide_type": "slide"
    }
   },
   "outputs": [
    {
     "name": "stdout",
     "output_type": "stream",
     "text": [
      "Load data...\n"
     ]
    }
   ],
   "source": [
    "print('Load data...')\n",
    "train = pd.read_csv(\"./input/train.csv\")\n",
    "train_id = train['ID'].values\n",
    "target = train['TARGET'].values\n",
    "\n",
    "test = pd.read_csv(\"./input/test.csv\")\n",
    "test_id = test['ID'].values"
   ]
  },
  {
   "cell_type": "code",
   "execution_count": 6,
   "metadata": {},
   "outputs": [
    {
     "name": "stdout",
     "output_type": "stream",
     "text": [
      "   ID  var3  var15  imp_ent_var16_ult1  imp_op_var39_comer_ult1  \\\n",
      "0   1     2     23                 0.0                      0.0   \n",
      "1   3     2     34                 0.0                      0.0   \n",
      "2   4     2     23                 0.0                      0.0   \n",
      "3   8     2     37                 0.0                    195.0   \n",
      "4  10     2     39                 0.0                      0.0   \n",
      "\n",
      "   imp_op_var39_comer_ult3  imp_op_var40_comer_ult1  imp_op_var40_comer_ult3  \\\n",
      "0                      0.0                      0.0                      0.0   \n",
      "1                      0.0                      0.0                      0.0   \n",
      "2                      0.0                      0.0                      0.0   \n",
      "3                    195.0                      0.0                      0.0   \n",
      "4                      0.0                      0.0                      0.0   \n",
      "\n",
      "   imp_op_var40_efect_ult1  imp_op_var40_efect_ult3   ...    \\\n",
      "0                      0.0                      0.0   ...     \n",
      "1                      0.0                      0.0   ...     \n",
      "2                      0.0                      0.0   ...     \n",
      "3                      0.0                      0.0   ...     \n",
      "4                      0.0                      0.0   ...     \n",
      "\n",
      "   saldo_medio_var33_hace2  saldo_medio_var33_hace3  saldo_medio_var33_ult1  \\\n",
      "0                      0.0                      0.0                     0.0   \n",
      "1                      0.0                      0.0                     0.0   \n",
      "2                      0.0                      0.0                     0.0   \n",
      "3                      0.0                      0.0                     0.0   \n",
      "4                      0.0                      0.0                     0.0   \n",
      "\n",
      "   saldo_medio_var33_ult3  saldo_medio_var44_hace2  saldo_medio_var44_hace3  \\\n",
      "0                     0.0                      0.0                      0.0   \n",
      "1                     0.0                      0.0                      0.0   \n",
      "2                     0.0                      0.0                      0.0   \n",
      "3                     0.0                      0.0                      0.0   \n",
      "4                     0.0                      0.0                      0.0   \n",
      "\n",
      "   saldo_medio_var44_ult1  saldo_medio_var44_ult3          var38  TARGET  \n",
      "0                     0.0                     0.0   39205.170000       0  \n",
      "1                     0.0                     0.0   49278.030000       0  \n",
      "2                     0.0                     0.0   67333.770000       0  \n",
      "3                     0.0                     0.0   64007.970000       0  \n",
      "4                     0.0                     0.0  117310.979016       0  \n",
      "\n",
      "[5 rows x 371 columns]\n"
     ]
    }
   ],
   "source": [
    "print(train.head(5))"
   ]
  },
  {
   "cell_type": "code",
   "execution_count": 8,
   "metadata": {
    "slideshow": {
     "slide_type": "subslide"
    }
   },
   "outputs": [
    {
     "data": {
      "text/html": [
       "<div>\n",
       "<style>\n",
       "    .dataframe thead tr:only-child th {\n",
       "        text-align: right;\n",
       "    }\n",
       "\n",
       "    .dataframe thead th {\n",
       "        text-align: left;\n",
       "    }\n",
       "\n",
       "    .dataframe tbody tr th {\n",
       "        vertical-align: top;\n",
       "    }\n",
       "</style>\n",
       "<table border=\"1\" class=\"dataframe\">\n",
       "  <thead>\n",
       "    <tr style=\"text-align: right;\">\n",
       "      <th></th>\n",
       "      <th>TARGET</th>\n",
       "      <th>Percentage</th>\n",
       "    </tr>\n",
       "  </thead>\n",
       "  <tbody>\n",
       "    <tr>\n",
       "      <th>0</th>\n",
       "      <td>73012</td>\n",
       "      <td>96.043147</td>\n",
       "    </tr>\n",
       "    <tr>\n",
       "      <th>1</th>\n",
       "      <td>3008</td>\n",
       "      <td>3.956853</td>\n",
       "    </tr>\n",
       "  </tbody>\n",
       "</table>\n",
       "</div>"
      ],
      "text/plain": [
       "   TARGET  Percentage\n",
       "0   73012   96.043147\n",
       "1    3008    3.956853"
      ]
     },
     "execution_count": 8,
     "metadata": {},
     "output_type": "execute_result"
    }
   ],
   "source": [
    "# happy customers have TARGET == 0, unhappy custormers have TARGET == 1\n",
    "# A little less then 4% are unhappy => unbalanced dataset\n",
    "df = pd.DataFrame(train.TARGET.value_counts())\n",
    "df['Percentage'] = 100*df['TARGET']/train.shape[0]\n",
    "df"
   ]
  },
  {
   "cell_type": "code",
   "execution_count": 9,
   "metadata": {
    "slideshow": {
     "slide_type": "subslide"
    }
   },
   "outputs": [
    {
     "data": {
      "text/plain": [
       "(76020, 371)"
      ]
     },
     "execution_count": 9,
     "metadata": {},
     "output_type": "execute_result"
    }
   ],
   "source": [
    "train.shape"
   ]
  },
  {
   "cell_type": "code",
   "execution_count": 10,
   "metadata": {
    "slideshow": {
     "slide_type": "subslide"
    }
   },
   "outputs": [
    {
     "data": {
      "text/html": [
       "<div>\n",
       "<style>\n",
       "    .dataframe thead tr:only-child th {\n",
       "        text-align: right;\n",
       "    }\n",
       "\n",
       "    .dataframe thead th {\n",
       "        text-align: left;\n",
       "    }\n",
       "\n",
       "    .dataframe tbody tr th {\n",
       "        vertical-align: top;\n",
       "    }\n",
       "</style>\n",
       "<table border=\"1\" class=\"dataframe\">\n",
       "  <thead>\n",
       "    <tr style=\"text-align: right;\">\n",
       "      <th></th>\n",
       "      <th>ID</th>\n",
       "      <th>var3</th>\n",
       "      <th>var15</th>\n",
       "      <th>imp_ent_var16_ult1</th>\n",
       "      <th>imp_op_var39_comer_ult1</th>\n",
       "      <th>imp_op_var39_comer_ult3</th>\n",
       "      <th>imp_op_var40_comer_ult1</th>\n",
       "      <th>imp_op_var40_comer_ult3</th>\n",
       "      <th>imp_op_var40_efect_ult1</th>\n",
       "      <th>imp_op_var40_efect_ult3</th>\n",
       "      <th>...</th>\n",
       "      <th>saldo_medio_var33_hace2</th>\n",
       "      <th>saldo_medio_var33_hace3</th>\n",
       "      <th>saldo_medio_var33_ult1</th>\n",
       "      <th>saldo_medio_var33_ult3</th>\n",
       "      <th>saldo_medio_var44_hace2</th>\n",
       "      <th>saldo_medio_var44_hace3</th>\n",
       "      <th>saldo_medio_var44_ult1</th>\n",
       "      <th>saldo_medio_var44_ult3</th>\n",
       "      <th>var38</th>\n",
       "      <th>TARGET</th>\n",
       "    </tr>\n",
       "  </thead>\n",
       "  <tbody>\n",
       "    <tr>\n",
       "      <th>0</th>\n",
       "      <td>1</td>\n",
       "      <td>2</td>\n",
       "      <td>23</td>\n",
       "      <td>0.0</td>\n",
       "      <td>0.0</td>\n",
       "      <td>0.0</td>\n",
       "      <td>0.0</td>\n",
       "      <td>0.0</td>\n",
       "      <td>0.0</td>\n",
       "      <td>0.0</td>\n",
       "      <td>...</td>\n",
       "      <td>0.0</td>\n",
       "      <td>0.0</td>\n",
       "      <td>0.0</td>\n",
       "      <td>0.0</td>\n",
       "      <td>0.0</td>\n",
       "      <td>0.0</td>\n",
       "      <td>0.0</td>\n",
       "      <td>0.0</td>\n",
       "      <td>39205.170000</td>\n",
       "      <td>0</td>\n",
       "    </tr>\n",
       "    <tr>\n",
       "      <th>1</th>\n",
       "      <td>3</td>\n",
       "      <td>2</td>\n",
       "      <td>34</td>\n",
       "      <td>0.0</td>\n",
       "      <td>0.0</td>\n",
       "      <td>0.0</td>\n",
       "      <td>0.0</td>\n",
       "      <td>0.0</td>\n",
       "      <td>0.0</td>\n",
       "      <td>0.0</td>\n",
       "      <td>...</td>\n",
       "      <td>0.0</td>\n",
       "      <td>0.0</td>\n",
       "      <td>0.0</td>\n",
       "      <td>0.0</td>\n",
       "      <td>0.0</td>\n",
       "      <td>0.0</td>\n",
       "      <td>0.0</td>\n",
       "      <td>0.0</td>\n",
       "      <td>49278.030000</td>\n",
       "      <td>0</td>\n",
       "    </tr>\n",
       "    <tr>\n",
       "      <th>2</th>\n",
       "      <td>4</td>\n",
       "      <td>2</td>\n",
       "      <td>23</td>\n",
       "      <td>0.0</td>\n",
       "      <td>0.0</td>\n",
       "      <td>0.0</td>\n",
       "      <td>0.0</td>\n",
       "      <td>0.0</td>\n",
       "      <td>0.0</td>\n",
       "      <td>0.0</td>\n",
       "      <td>...</td>\n",
       "      <td>0.0</td>\n",
       "      <td>0.0</td>\n",
       "      <td>0.0</td>\n",
       "      <td>0.0</td>\n",
       "      <td>0.0</td>\n",
       "      <td>0.0</td>\n",
       "      <td>0.0</td>\n",
       "      <td>0.0</td>\n",
       "      <td>67333.770000</td>\n",
       "      <td>0</td>\n",
       "    </tr>\n",
       "    <tr>\n",
       "      <th>3</th>\n",
       "      <td>8</td>\n",
       "      <td>2</td>\n",
       "      <td>37</td>\n",
       "      <td>0.0</td>\n",
       "      <td>195.0</td>\n",
       "      <td>195.0</td>\n",
       "      <td>0.0</td>\n",
       "      <td>0.0</td>\n",
       "      <td>0.0</td>\n",
       "      <td>0.0</td>\n",
       "      <td>...</td>\n",
       "      <td>0.0</td>\n",
       "      <td>0.0</td>\n",
       "      <td>0.0</td>\n",
       "      <td>0.0</td>\n",
       "      <td>0.0</td>\n",
       "      <td>0.0</td>\n",
       "      <td>0.0</td>\n",
       "      <td>0.0</td>\n",
       "      <td>64007.970000</td>\n",
       "      <td>0</td>\n",
       "    </tr>\n",
       "    <tr>\n",
       "      <th>4</th>\n",
       "      <td>10</td>\n",
       "      <td>2</td>\n",
       "      <td>39</td>\n",
       "      <td>0.0</td>\n",
       "      <td>0.0</td>\n",
       "      <td>0.0</td>\n",
       "      <td>0.0</td>\n",
       "      <td>0.0</td>\n",
       "      <td>0.0</td>\n",
       "      <td>0.0</td>\n",
       "      <td>...</td>\n",
       "      <td>0.0</td>\n",
       "      <td>0.0</td>\n",
       "      <td>0.0</td>\n",
       "      <td>0.0</td>\n",
       "      <td>0.0</td>\n",
       "      <td>0.0</td>\n",
       "      <td>0.0</td>\n",
       "      <td>0.0</td>\n",
       "      <td>117310.979016</td>\n",
       "      <td>0</td>\n",
       "    </tr>\n",
       "  </tbody>\n",
       "</table>\n",
       "<p>5 rows × 371 columns</p>\n",
       "</div>"
      ],
      "text/plain": [
       "   ID  var3  var15  imp_ent_var16_ult1  imp_op_var39_comer_ult1  \\\n",
       "0   1     2     23                 0.0                      0.0   \n",
       "1   3     2     34                 0.0                      0.0   \n",
       "2   4     2     23                 0.0                      0.0   \n",
       "3   8     2     37                 0.0                    195.0   \n",
       "4  10     2     39                 0.0                      0.0   \n",
       "\n",
       "   imp_op_var39_comer_ult3  imp_op_var40_comer_ult1  imp_op_var40_comer_ult3  \\\n",
       "0                      0.0                      0.0                      0.0   \n",
       "1                      0.0                      0.0                      0.0   \n",
       "2                      0.0                      0.0                      0.0   \n",
       "3                    195.0                      0.0                      0.0   \n",
       "4                      0.0                      0.0                      0.0   \n",
       "\n",
       "   imp_op_var40_efect_ult1  imp_op_var40_efect_ult3   ...    \\\n",
       "0                      0.0                      0.0   ...     \n",
       "1                      0.0                      0.0   ...     \n",
       "2                      0.0                      0.0   ...     \n",
       "3                      0.0                      0.0   ...     \n",
       "4                      0.0                      0.0   ...     \n",
       "\n",
       "   saldo_medio_var33_hace2  saldo_medio_var33_hace3  saldo_medio_var33_ult1  \\\n",
       "0                      0.0                      0.0                     0.0   \n",
       "1                      0.0                      0.0                     0.0   \n",
       "2                      0.0                      0.0                     0.0   \n",
       "3                      0.0                      0.0                     0.0   \n",
       "4                      0.0                      0.0                     0.0   \n",
       "\n",
       "   saldo_medio_var33_ult3  saldo_medio_var44_hace2  saldo_medio_var44_hace3  \\\n",
       "0                     0.0                      0.0                      0.0   \n",
       "1                     0.0                      0.0                      0.0   \n",
       "2                     0.0                      0.0                      0.0   \n",
       "3                     0.0                      0.0                      0.0   \n",
       "4                     0.0                      0.0                      0.0   \n",
       "\n",
       "   saldo_medio_var44_ult1  saldo_medio_var44_ult3          var38  TARGET  \n",
       "0                     0.0                     0.0   39205.170000       0  \n",
       "1                     0.0                     0.0   49278.030000       0  \n",
       "2                     0.0                     0.0   67333.770000       0  \n",
       "3                     0.0                     0.0   64007.970000       0  \n",
       "4                     0.0                     0.0  117310.979016       0  \n",
       "\n",
       "[5 rows x 371 columns]"
      ]
     },
     "execution_count": 10,
     "metadata": {},
     "output_type": "execute_result"
    }
   ],
   "source": [
    "train.head()"
   ]
  },
  {
   "cell_type": "code",
   "execution_count": 11,
   "metadata": {
    "slideshow": {
     "slide_type": "subslide"
    }
   },
   "outputs": [
    {
     "data": {
      "text/plain": [
       "(75818, 370)"
      ]
     },
     "execution_count": 11,
     "metadata": {},
     "output_type": "execute_result"
    }
   ],
   "source": [
    "test.shape"
   ]
  },
  {
   "cell_type": "code",
   "execution_count": 12,
   "metadata": {
    "slideshow": {
     "slide_type": "subslide"
    }
   },
   "outputs": [
    {
     "data": {
      "text/html": [
       "<div>\n",
       "<style>\n",
       "    .dataframe thead tr:only-child th {\n",
       "        text-align: right;\n",
       "    }\n",
       "\n",
       "    .dataframe thead th {\n",
       "        text-align: left;\n",
       "    }\n",
       "\n",
       "    .dataframe tbody tr th {\n",
       "        vertical-align: top;\n",
       "    }\n",
       "</style>\n",
       "<table border=\"1\" class=\"dataframe\">\n",
       "  <thead>\n",
       "    <tr style=\"text-align: right;\">\n",
       "      <th></th>\n",
       "      <th>ID</th>\n",
       "      <th>var3</th>\n",
       "      <th>var15</th>\n",
       "      <th>imp_ent_var16_ult1</th>\n",
       "      <th>imp_op_var39_comer_ult1</th>\n",
       "      <th>imp_op_var39_comer_ult3</th>\n",
       "      <th>imp_op_var40_comer_ult1</th>\n",
       "      <th>imp_op_var40_comer_ult3</th>\n",
       "      <th>imp_op_var40_efect_ult1</th>\n",
       "      <th>imp_op_var40_efect_ult3</th>\n",
       "      <th>...</th>\n",
       "      <th>saldo_medio_var29_ult3</th>\n",
       "      <th>saldo_medio_var33_hace2</th>\n",
       "      <th>saldo_medio_var33_hace3</th>\n",
       "      <th>saldo_medio_var33_ult1</th>\n",
       "      <th>saldo_medio_var33_ult3</th>\n",
       "      <th>saldo_medio_var44_hace2</th>\n",
       "      <th>saldo_medio_var44_hace3</th>\n",
       "      <th>saldo_medio_var44_ult1</th>\n",
       "      <th>saldo_medio_var44_ult3</th>\n",
       "      <th>var38</th>\n",
       "    </tr>\n",
       "  </thead>\n",
       "  <tbody>\n",
       "    <tr>\n",
       "      <th>0</th>\n",
       "      <td>2</td>\n",
       "      <td>2</td>\n",
       "      <td>32</td>\n",
       "      <td>0.0</td>\n",
       "      <td>0.0</td>\n",
       "      <td>0.0</td>\n",
       "      <td>0.0</td>\n",
       "      <td>0.0</td>\n",
       "      <td>0.0</td>\n",
       "      <td>0.0</td>\n",
       "      <td>...</td>\n",
       "      <td>0.0</td>\n",
       "      <td>0.0</td>\n",
       "      <td>0.0</td>\n",
       "      <td>0.0</td>\n",
       "      <td>0.0</td>\n",
       "      <td>0.0</td>\n",
       "      <td>0.0</td>\n",
       "      <td>0.0</td>\n",
       "      <td>0.0</td>\n",
       "      <td>40532.10</td>\n",
       "    </tr>\n",
       "    <tr>\n",
       "      <th>1</th>\n",
       "      <td>5</td>\n",
       "      <td>2</td>\n",
       "      <td>35</td>\n",
       "      <td>0.0</td>\n",
       "      <td>0.0</td>\n",
       "      <td>0.0</td>\n",
       "      <td>0.0</td>\n",
       "      <td>0.0</td>\n",
       "      <td>0.0</td>\n",
       "      <td>0.0</td>\n",
       "      <td>...</td>\n",
       "      <td>0.0</td>\n",
       "      <td>0.0</td>\n",
       "      <td>0.0</td>\n",
       "      <td>0.0</td>\n",
       "      <td>0.0</td>\n",
       "      <td>0.0</td>\n",
       "      <td>0.0</td>\n",
       "      <td>0.0</td>\n",
       "      <td>0.0</td>\n",
       "      <td>45486.72</td>\n",
       "    </tr>\n",
       "    <tr>\n",
       "      <th>2</th>\n",
       "      <td>6</td>\n",
       "      <td>2</td>\n",
       "      <td>23</td>\n",
       "      <td>0.0</td>\n",
       "      <td>0.0</td>\n",
       "      <td>0.0</td>\n",
       "      <td>0.0</td>\n",
       "      <td>0.0</td>\n",
       "      <td>0.0</td>\n",
       "      <td>0.0</td>\n",
       "      <td>...</td>\n",
       "      <td>0.0</td>\n",
       "      <td>0.0</td>\n",
       "      <td>0.0</td>\n",
       "      <td>0.0</td>\n",
       "      <td>0.0</td>\n",
       "      <td>0.0</td>\n",
       "      <td>0.0</td>\n",
       "      <td>0.0</td>\n",
       "      <td>0.0</td>\n",
       "      <td>46993.95</td>\n",
       "    </tr>\n",
       "    <tr>\n",
       "      <th>3</th>\n",
       "      <td>7</td>\n",
       "      <td>2</td>\n",
       "      <td>24</td>\n",
       "      <td>0.0</td>\n",
       "      <td>0.0</td>\n",
       "      <td>0.0</td>\n",
       "      <td>0.0</td>\n",
       "      <td>0.0</td>\n",
       "      <td>0.0</td>\n",
       "      <td>0.0</td>\n",
       "      <td>...</td>\n",
       "      <td>0.0</td>\n",
       "      <td>0.0</td>\n",
       "      <td>0.0</td>\n",
       "      <td>0.0</td>\n",
       "      <td>0.0</td>\n",
       "      <td>0.0</td>\n",
       "      <td>0.0</td>\n",
       "      <td>0.0</td>\n",
       "      <td>0.0</td>\n",
       "      <td>187898.61</td>\n",
       "    </tr>\n",
       "    <tr>\n",
       "      <th>4</th>\n",
       "      <td>9</td>\n",
       "      <td>2</td>\n",
       "      <td>23</td>\n",
       "      <td>0.0</td>\n",
       "      <td>0.0</td>\n",
       "      <td>0.0</td>\n",
       "      <td>0.0</td>\n",
       "      <td>0.0</td>\n",
       "      <td>0.0</td>\n",
       "      <td>0.0</td>\n",
       "      <td>...</td>\n",
       "      <td>0.0</td>\n",
       "      <td>0.0</td>\n",
       "      <td>0.0</td>\n",
       "      <td>0.0</td>\n",
       "      <td>0.0</td>\n",
       "      <td>0.0</td>\n",
       "      <td>0.0</td>\n",
       "      <td>0.0</td>\n",
       "      <td>0.0</td>\n",
       "      <td>73649.73</td>\n",
       "    </tr>\n",
       "  </tbody>\n",
       "</table>\n",
       "<p>5 rows × 370 columns</p>\n",
       "</div>"
      ],
      "text/plain": [
       "   ID  var3  var15  imp_ent_var16_ult1  imp_op_var39_comer_ult1  \\\n",
       "0   2     2     32                 0.0                      0.0   \n",
       "1   5     2     35                 0.0                      0.0   \n",
       "2   6     2     23                 0.0                      0.0   \n",
       "3   7     2     24                 0.0                      0.0   \n",
       "4   9     2     23                 0.0                      0.0   \n",
       "\n",
       "   imp_op_var39_comer_ult3  imp_op_var40_comer_ult1  imp_op_var40_comer_ult3  \\\n",
       "0                      0.0                      0.0                      0.0   \n",
       "1                      0.0                      0.0                      0.0   \n",
       "2                      0.0                      0.0                      0.0   \n",
       "3                      0.0                      0.0                      0.0   \n",
       "4                      0.0                      0.0                      0.0   \n",
       "\n",
       "   imp_op_var40_efect_ult1  imp_op_var40_efect_ult3    ...      \\\n",
       "0                      0.0                      0.0    ...       \n",
       "1                      0.0                      0.0    ...       \n",
       "2                      0.0                      0.0    ...       \n",
       "3                      0.0                      0.0    ...       \n",
       "4                      0.0                      0.0    ...       \n",
       "\n",
       "   saldo_medio_var29_ult3  saldo_medio_var33_hace2  saldo_medio_var33_hace3  \\\n",
       "0                     0.0                      0.0                      0.0   \n",
       "1                     0.0                      0.0                      0.0   \n",
       "2                     0.0                      0.0                      0.0   \n",
       "3                     0.0                      0.0                      0.0   \n",
       "4                     0.0                      0.0                      0.0   \n",
       "\n",
       "   saldo_medio_var33_ult1  saldo_medio_var33_ult3  saldo_medio_var44_hace2  \\\n",
       "0                     0.0                     0.0                      0.0   \n",
       "1                     0.0                     0.0                      0.0   \n",
       "2                     0.0                     0.0                      0.0   \n",
       "3                     0.0                     0.0                      0.0   \n",
       "4                     0.0                     0.0                      0.0   \n",
       "\n",
       "   saldo_medio_var44_hace3  saldo_medio_var44_ult1  saldo_medio_var44_ult3  \\\n",
       "0                      0.0                     0.0                     0.0   \n",
       "1                      0.0                     0.0                     0.0   \n",
       "2                      0.0                     0.0                     0.0   \n",
       "3                      0.0                     0.0                     0.0   \n",
       "4                      0.0                     0.0                     0.0   \n",
       "\n",
       "       var38  \n",
       "0   40532.10  \n",
       "1   45486.72  \n",
       "2   46993.95  \n",
       "3  187898.61  \n",
       "4   73649.73  \n",
       "\n",
       "[5 rows x 370 columns]"
      ]
     },
     "execution_count": 12,
     "metadata": {},
     "output_type": "execute_result"
    }
   ],
   "source": [
    "test.head()"
   ]
  },
  {
   "cell_type": "code",
   "execution_count": 13,
   "metadata": {
    "slideshow": {
     "slide_type": "subslide"
    }
   },
   "outputs": [
    {
     "data": {
      "image/png": "[encoded data removed]",
      "text/plain": [
       "<matplotlib.figure.Figure at 0x119929d68>"
      ]
     },
     "metadata": {},
     "output_type": "display_data"
    }
   ],
   "source": [
    "plt.figure(figsize=(45,10))\n",
    "plt.tick_params(labelsize=30)\n",
    "train.num_var4.hist(bins=100)\n",
    "\n",
    "plt.xlabel('Number of bank products', fontsize = 40)\n",
    "plt.ylabel('Number of customers in train', fontsize = 40)\n",
    "plt.title('Most customers have 1 product with the bank', fontsize = 50)\n",
    "plt.show()"
   ]
  },
  {
   "cell_type": "code",
   "execution_count": 14,
   "metadata": {
    "slideshow": {
     "slide_type": "subslide"
    }
   },
   "outputs": [
    {
     "data": {
      "image/png": "[encoded data removed]",
      "text/plain": [
       "<matplotlib.figure.Figure at 0x10e0f6cf8>"
      ]
     },
     "metadata": {},
     "output_type": "display_data"
    }
   ],
   "source": [
    "sns.FacetGrid(train, hue=\"TARGET\", size=6, aspect=2) \\\n",
    "   .map(plt.hist, \"num_var4\") \\\n",
    "   .add_legend()\n",
    "plt.title('Unhappy customers have fewer products', fontsize = 40)\n",
    "plt.show()"
   ]
  },
  {
   "cell_type": "code",
   "execution_count": 15,
   "metadata": {
    "slideshow": {
     "slide_type": "subslide"
    }
   },
   "outputs": [
    {
     "data": {
      "image/png": "[encoded data removed]",
      "text/plain": [
       "<matplotlib.figure.Figure at 0x10dcb6c18>"
      ]
     },
     "metadata": {},
     "output_type": "display_data"
    }
   ],
   "source": [
    "%matplotlib inline\n",
    "plt.figure(figsize=(10, 6))\n",
    "\n",
    "train[train.TARGET==1].num_var4.hist(bins=6)\n",
    "plt.title('Unhappy customers as function of the number of products', fontsize = 40);"
   ]
  },
  {
   "cell_type": "code",
   "execution_count": 8,
   "metadata": {
    "collapsed": true,
    "slideshow": {
     "slide_type": "skip"
    }
   },
   "outputs": [],
   "source": [
    "train = train.drop(['ID','TARGET'],axis=1)\n",
    "test = test.drop(['ID'],axis=1)"
   ]
  },
  {
   "cell_type": "code",
   "execution_count": 9,
   "metadata": {},
   "outputs": [
    {
     "name": "stdout",
     "output_type": "stream",
     "text": [
      "       var3  var15  imp_ent_var16_ult1  imp_op_var39_comer_ult1  \\\n",
      "0         2     23                 0.0                     0.00   \n",
      "1         2     34                 0.0                     0.00   \n",
      "2         2     23                 0.0                     0.00   \n",
      "3         2     37                 0.0                   195.00   \n",
      "4         2     39                 0.0                     0.00   \n",
      "5         2     23                 0.0                     0.00   \n",
      "6         2     27                 0.0                     0.00   \n",
      "7         2     26                 0.0                     0.00   \n",
      "8         2     45                 0.0                     0.00   \n",
      "9         2     25                 0.0                     0.00   \n",
      "10        2     42                 0.0                     0.00   \n",
      "11        2     26                 0.0                     0.00   \n",
      "12        2     51                 0.0                     0.00   \n",
      "13        2     43                 0.0                     0.00   \n",
      "14        2     33               600.0                  1086.48   \n",
      "15        2     30                 0.0                     0.00   \n",
      "16        2     44                 0.0                     0.00   \n",
      "17        2     36                 0.0                    55.20   \n",
      "18      229     55                 0.0                     0.00   \n",
      "19        2     28                 0.0                     0.00   \n",
      "20        2     23                 0.0                     0.00   \n",
      "21        2     27                 0.0                     0.00   \n",
      "22        2     35                 0.0                     0.00   \n",
      "23        2     54                 0.0                   117.75   \n",
      "24        2     42                 0.0                     0.00   \n",
      "25        2     40                 0.0                  1658.37   \n",
      "26        2     23                 0.0                     0.00   \n",
      "27        2     25                 0.0                     0.00   \n",
      "28        2     24                 0.0                     0.00   \n",
      "29        2     23                 0.0                    55.05   \n",
      "...     ...    ...                 ...                      ...   \n",
      "75990     2     59                 0.0                   188.40   \n",
      "75991     2     26                 0.0                     0.00   \n",
      "75992     2     24                 0.0                     0.00   \n",
      "75993     2     23                 0.0                     0.00   \n",
      "75994     2     23                 0.0                     0.00   \n",
      "75995     2     24                 0.0                     0.00   \n",
      "75996     2     30                 0.0                     0.00   \n",
      "75997     2     24                 0.0                     0.00   \n",
      "75998     2     67                 0.0                     0.00   \n",
      "75999     2     41                 0.0                   454.68   \n",
      "76000     2     75                 0.0                     0.00   \n",
      "76001     2     24                 0.0                     0.00   \n",
      "76002     2     37                 0.0                     0.00   \n",
      "76003     2     23                 0.0                   326.82   \n",
      "76004     2     45                 0.0                     0.00   \n",
      "76005     2     32                 0.0                     0.00   \n",
      "76006     2     45                 0.0                     0.00   \n",
      "76007     2     61                 0.0                     0.00   \n",
      "76008     2     23                 0.0                     0.00   \n",
      "76009     2     29                 0.0                   123.36   \n",
      "76010     2     25                 0.0                     0.00   \n",
      "76011     2     55                 0.0                    64.89   \n",
      "76012     4     50                 0.0                     2.67   \n",
      "76013     2     35                 0.0                   139.47   \n",
      "76014     2     39                 0.0                   375.99   \n",
      "76015     2     48                 0.0                     0.00   \n",
      "76016     2     39                 0.0                     0.00   \n",
      "76017     2     23                 0.0                     0.00   \n",
      "76018     2     25                 0.0                     0.00   \n",
      "76019     2     46                 0.0                     0.00   \n",
      "\n",
      "       imp_op_var39_comer_ult3  imp_op_var40_comer_ult1  \\\n",
      "0                         0.00                     0.00   \n",
      "1                         0.00                     0.00   \n",
      "2                         0.00                     0.00   \n",
      "3                       195.00                     0.00   \n",
      "4                         0.00                     0.00   \n",
      "5                         0.00                     0.00   \n",
      "6                         0.00                     0.00   \n",
      "7                         0.00                     0.00   \n",
      "8                         0.00                     0.00   \n",
      "9                         0.00                     0.00   \n",
      "10                        0.00                     0.00   \n",
      "11                        0.00                     0.00   \n",
      "12                        0.00                     0.00   \n",
      "13                        0.00                     0.00   \n",
      "14                     1952.91                     0.00   \n",
      "15                        0.00                     0.00   \n",
      "16                        0.00                     0.00   \n",
      "17                       70.95                     0.00   \n",
      "18                        0.00                     0.00   \n",
      "19                        0.00                     0.00   \n",
      "20                        0.00                     0.00   \n",
      "21                        0.00                     0.00   \n",
      "22                        0.00                     0.00   \n",
      "23                      122.25                     0.00   \n",
      "24                        0.00                     0.00   \n",
      "25                     5722.77                   247.56   \n",
      "26                        0.00                     0.00   \n",
      "27                        0.00                     0.00   \n",
      "28                        0.00                     0.00   \n",
      "29                      127.44                     0.00   \n",
      "...                        ...                      ...   \n",
      "75990                   188.40                     0.00   \n",
      "75991                     0.00                     0.00   \n",
      "75992                     0.00                     0.00   \n",
      "75993                     0.00                     0.00   \n",
      "75994                     0.00                     0.00   \n",
      "75995                     0.00                     0.00   \n",
      "75996                     0.00                     0.00   \n",
      "75997                     0.00                     0.00   \n",
      "75998                     0.00                     0.00   \n",
      "75999                   454.68                     0.00   \n",
      "76000                     0.00                     0.00   \n",
      "76001                     0.00                     0.00   \n",
      "76002                     0.00                     0.00   \n",
      "76003                   434.52                     0.00   \n",
      "76004                     0.00                     0.00   \n",
      "76005                     0.00                     0.00   \n",
      "76006                     0.00                     0.00   \n",
      "76007                     0.00                     0.00   \n",
      "76008                     0.00                     0.00   \n",
      "76009                   185.88                     0.00   \n",
      "76010                     0.00                     0.00   \n",
      "76011                    64.89                     0.00   \n",
      "76012                   269.58                     0.00   \n",
      "76013                   586.83                     0.00   \n",
      "76014                   405.33                     0.00   \n",
      "76015                     0.00                     0.00   \n",
      "76016                     0.00                     0.00   \n",
      "76017                     0.00                     0.00   \n",
      "76018                     0.00                     0.00   \n",
      "76019                     0.00                     0.00   \n",
      "\n",
      "       imp_op_var40_comer_ult3  imp_op_var40_efect_ult1  \\\n",
      "0                         0.00                      0.0   \n",
      "1                         0.00                      0.0   \n",
      "2                         0.00                      0.0   \n",
      "3                         0.00                      0.0   \n",
      "4                         0.00                      0.0   \n",
      "5                         0.00                      0.0   \n",
      "6                         0.00                      0.0   \n",
      "7                         0.00                      0.0   \n",
      "8                         0.00                      0.0   \n",
      "9                         0.00                      0.0   \n",
      "10                        0.00                      0.0   \n",
      "11                        0.00                      0.0   \n",
      "12                        0.00                      0.0   \n",
      "13                        0.00                      0.0   \n",
      "14                        0.00                      0.0   \n",
      "15                        0.00                      0.0   \n",
      "16                        0.00                      0.0   \n",
      "17                        0.00                      0.0   \n",
      "18                        0.00                      0.0   \n",
      "19                        0.00                      0.0   \n",
      "20                        0.00                      0.0   \n",
      "21                        0.00                      0.0   \n",
      "22                        0.00                      0.0   \n",
      "23                        0.00                      0.0   \n",
      "24                        0.00                      0.0   \n",
      "25                      835.86                      0.0   \n",
      "26                        0.00                      0.0   \n",
      "27                        0.00                      0.0   \n",
      "28                        0.00                      0.0   \n",
      "29                        0.00                      0.0   \n",
      "...                        ...                      ...   \n",
      "75990                     0.00                      0.0   \n",
      "75991                     0.00                      0.0   \n",
      "75992                     0.00                      0.0   \n",
      "75993                     0.00                      0.0   \n",
      "75994                     0.00                      0.0   \n",
      "75995                     0.00                      0.0   \n",
      "75996                     0.00                      0.0   \n",
      "75997                     0.00                      0.0   \n",
      "75998                     0.00                      0.0   \n",
      "75999                     0.00                      0.0   \n",
      "76000                     0.00                      0.0   \n",
      "76001                     0.00                      0.0   \n",
      "76002                     0.00                      0.0   \n",
      "76003                     0.00                      0.0   \n",
      "76004                     0.00                      0.0   \n",
      "76005                     0.00                      0.0   \n",
      "76006                     0.00                      0.0   \n",
      "76007                     0.00                      0.0   \n",
      "76008                     0.00                      0.0   \n",
      "76009                     0.00                      0.0   \n",
      "76010                     0.00                      0.0   \n",
      "76011                     0.00                      0.0   \n",
      "76012                     0.00                      0.0   \n",
      "76013                     0.00                      0.0   \n",
      "76014                     0.00                      0.0   \n",
      "76015                     0.00                      0.0   \n",
      "76016                     0.00                      0.0   \n",
      "76017                     0.00                      0.0   \n",
      "76018                     0.00                      0.0   \n",
      "76019                     0.00                      0.0   \n",
      "\n",
      "       imp_op_var40_efect_ult3  imp_op_var40_ult1      ...        \\\n",
      "0                          0.0               0.00      ...         \n",
      "1                          0.0               0.00      ...         \n",
      "2                          0.0               0.00      ...         \n",
      "3                          0.0               0.00      ...         \n",
      "4                          0.0               0.00      ...         \n",
      "5                          0.0               0.00      ...         \n",
      "6                          0.0               0.00      ...         \n",
      "7                          0.0               0.00      ...         \n",
      "8                          0.0               0.00      ...         \n",
      "9                          0.0               0.00      ...         \n",
      "10                         0.0               0.00      ...         \n",
      "11                         0.0               0.00      ...         \n",
      "12                         0.0               0.00      ...         \n",
      "13                         0.0               0.00      ...         \n",
      "14                         0.0               0.00      ...         \n",
      "15                         0.0               0.00      ...         \n",
      "16                         0.0               0.00      ...         \n",
      "17                         0.0               0.00      ...         \n",
      "18                         0.0               0.00      ...         \n",
      "19                         0.0               0.00      ...         \n",
      "20                         0.0               0.00      ...         \n",
      "21                         0.0               0.00      ...         \n",
      "22                         0.0               0.00      ...         \n",
      "23                         0.0               0.00      ...         \n",
      "24                         0.0               0.00      ...         \n",
      "25                       960.0            1585.86      ...         \n",
      "26                         0.0               0.00      ...         \n",
      "27                         0.0               0.00      ...         \n",
      "28                         0.0               0.00      ...         \n",
      "29                         0.0               0.00      ...         \n",
      "...                        ...                ...      ...         \n",
      "75990                      0.0               0.00      ...         \n",
      "75991                      0.0               0.00      ...         \n",
      "75992                      0.0               0.00      ...         \n",
      "75993                      0.0               0.00      ...         \n",
      "75994                      0.0               0.00      ...         \n",
      "75995                      0.0               0.00      ...         \n",
      "75996                      0.0               0.00      ...         \n",
      "75997                      0.0               0.00      ...         \n",
      "75998                      0.0               0.00      ...         \n",
      "75999                      0.0               0.00      ...         \n",
      "76000                      0.0               0.00      ...         \n",
      "76001                      0.0               0.00      ...         \n",
      "76002                      0.0               0.00      ...         \n",
      "76003                      0.0               0.00      ...         \n",
      "76004                      0.0               0.00      ...         \n",
      "76005                      0.0               0.00      ...         \n",
      "76006                      0.0               0.00      ...         \n",
      "76007                      0.0               0.00      ...         \n",
      "76008                      0.0               0.00      ...         \n",
      "76009                      0.0               0.00      ...         \n",
      "76010                      0.0               0.00      ...         \n",
      "76011                      0.0               0.00      ...         \n",
      "76012                      0.0               0.00      ...         \n",
      "76013                      0.0               0.00      ...         \n",
      "76014                      0.0               0.00      ...         \n",
      "76015                      0.0               0.00      ...         \n",
      "76016                      0.0               0.00      ...         \n",
      "76017                      0.0               0.00      ...         \n",
      "76018                      0.0               0.00      ...         \n",
      "76019                      0.0               0.00      ...         \n",
      "\n",
      "       saldo_medio_var29_ult3  saldo_medio_var33_hace2  \\\n",
      "0                         0.0                      0.0   \n",
      "1                         0.0                      0.0   \n",
      "2                         0.0                      0.0   \n",
      "3                         0.0                      0.0   \n",
      "4                         0.0                      0.0   \n",
      "5                         0.0                      0.0   \n",
      "6                         0.0                      0.0   \n",
      "7                         0.0                      0.0   \n",
      "8                         0.0                      0.0   \n",
      "9                         0.0                      0.0   \n",
      "10                        0.0                      0.0   \n",
      "11                        0.0                      0.0   \n",
      "12                        0.0                      0.0   \n",
      "13                        0.0                      0.0   \n",
      "14                        0.0                      0.0   \n",
      "15                        0.0                      0.0   \n",
      "16                        0.0                      0.0   \n",
      "17                        0.0                      0.0   \n",
      "18                        0.0                      0.0   \n",
      "19                        0.0                      0.0   \n",
      "20                        0.0                      0.0   \n",
      "21                        0.0                      0.0   \n",
      "22                        0.0                      0.0   \n",
      "23                        0.0                      0.0   \n",
      "24                        0.0                      0.0   \n",
      "25                        0.0                      0.0   \n",
      "26                        0.0                      0.0   \n",
      "27                        0.0                      0.0   \n",
      "28                        0.0                      0.0   \n",
      "29                        0.0                      0.0   \n",
      "...                       ...                      ...   \n",
      "75990                     0.0                      0.0   \n",
      "75991                     0.0                      0.0   \n",
      "75992                     0.0                      0.0   \n",
      "75993                     0.0                      0.0   \n",
      "75994                     0.0                      0.0   \n",
      "75995                     0.0                      0.0   \n",
      "75996                     0.0                      0.0   \n",
      "75997                     0.0                      0.0   \n",
      "75998                     0.0                      0.0   \n",
      "75999                     0.0                      0.0   \n",
      "76000                     0.0                      0.0   \n",
      "76001                     0.0                      0.0   \n",
      "76002                     0.0                      0.0   \n",
      "76003                     0.0                      0.0   \n",
      "76004                     0.0                      0.0   \n",
      "76005                     0.0                      0.0   \n",
      "76006                     0.0                      0.0   \n",
      "76007                     0.0                      0.0   \n",
      "76008                     0.0                      0.0   \n",
      "76009                     0.0                      0.0   \n",
      "76010                     0.0                      0.0   \n",
      "76011                     0.0                      0.0   \n",
      "76012                     0.0                      0.0   \n",
      "76013                     0.0                      0.0   \n",
      "76014                     0.0                      0.0   \n",
      "76015                     0.0                      0.0   \n",
      "76016                     0.0                      0.0   \n",
      "76017                     0.0                      0.0   \n",
      "76018                     0.0                      0.0   \n",
      "76019                     0.0                      0.0   \n",
      "\n",
      "       saldo_medio_var33_hace3  saldo_medio_var33_ult1  \\\n",
      "0                          0.0                     0.0   \n",
      "1                          0.0                     0.0   \n",
      "2                          0.0                     0.0   \n",
      "3                          0.0                     0.0   \n",
      "4                          0.0                     0.0   \n",
      "5                          0.0                     0.0   \n",
      "6                          0.0                     0.0   \n",
      "7                          0.0                     0.0   \n",
      "8                          0.0                     0.0   \n",
      "9                          0.0                     0.0   \n",
      "10                         0.0                     0.0   \n",
      "11                         0.0                     0.0   \n",
      "12                         0.0                     0.0   \n",
      "13                         0.0                     0.0   \n",
      "14                         0.0                     0.0   \n",
      "15                         0.0                     0.0   \n",
      "16                         0.0                     0.0   \n",
      "17                         0.0                     0.0   \n",
      "18                         0.0                     0.0   \n",
      "19                         0.0                     0.0   \n",
      "20                         0.0                     0.0   \n",
      "21                         0.0                     0.0   \n",
      "22                         0.0                     0.0   \n",
      "23                         0.0                     0.0   \n",
      "24                         0.0                     0.0   \n",
      "25                         0.0                     0.0   \n",
      "26                         0.0                     0.0   \n",
      "27                         0.0                     0.0   \n",
      "28                         0.0                     0.0   \n",
      "29                         0.0                     0.0   \n",
      "...                        ...                     ...   \n",
      "75990                      0.0                     0.0   \n",
      "75991                      0.0                     0.0   \n",
      "75992                      0.0                     0.0   \n",
      "75993                      0.0                     0.0   \n",
      "75994                      0.0                     0.0   \n",
      "75995                      0.0                     0.0   \n",
      "75996                      0.0                     0.0   \n",
      "75997                      0.0                     0.0   \n",
      "75998                      0.0                     0.0   \n",
      "75999                      0.0                     0.0   \n",
      "76000                      0.0                     0.0   \n",
      "76001                      0.0                     0.0   \n",
      "76002                      0.0                     0.0   \n",
      "76003                      0.0                     0.0   \n",
      "76004                      0.0                     0.0   \n",
      "76005                      0.0                     0.0   \n",
      "76006                      0.0                     0.0   \n",
      "76007                      0.0                     0.0   \n",
      "76008                      0.0                     0.0   \n",
      "76009                      0.0                     0.0   \n",
      "76010                      0.0                     0.0   \n",
      "76011                      0.0                     0.0   \n",
      "76012                      0.0                     0.0   \n",
      "76013                      0.0                     0.0   \n",
      "76014                      0.0                     0.0   \n",
      "76015                      0.0                     0.0   \n",
      "76016                      0.0                     0.0   \n",
      "76017                      0.0                     0.0   \n",
      "76018                      0.0                     0.0   \n",
      "76019                      0.0                     0.0   \n",
      "\n",
      "       saldo_medio_var33_ult3  saldo_medio_var44_hace2  \\\n",
      "0                         0.0                      0.0   \n",
      "1                         0.0                      0.0   \n",
      "2                         0.0                      0.0   \n",
      "3                         0.0                      0.0   \n",
      "4                         0.0                      0.0   \n",
      "5                         0.0                      0.0   \n",
      "6                         0.0                      0.0   \n",
      "7                         0.0                      0.0   \n",
      "8                         0.0                      0.0   \n",
      "9                         0.0                      0.0   \n",
      "10                        0.0                      0.0   \n",
      "11                        0.0                      0.0   \n",
      "12                        0.0                      0.0   \n",
      "13                        0.0                      0.0   \n",
      "14                        0.0                      0.0   \n",
      "15                        0.0                      0.0   \n",
      "16                        0.0                      0.0   \n",
      "17                        0.0                      0.0   \n",
      "18                        0.0                      0.0   \n",
      "19                        0.0                      0.0   \n",
      "20                        0.0                      0.0   \n",
      "21                        0.0                      0.0   \n",
      "22                        0.0                      0.0   \n",
      "23                        0.0                      0.0   \n",
      "24                        0.0                      0.0   \n",
      "25                        0.0                      0.0   \n",
      "26                        0.0                      0.0   \n",
      "27                        0.0                      0.0   \n",
      "28                        0.0                      0.0   \n",
      "29                        0.0                      0.0   \n",
      "...                       ...                      ...   \n",
      "75990                     0.0                      0.0   \n",
      "75991                     0.0                      0.0   \n",
      "75992                     0.0                      0.0   \n",
      "75993                     0.0                      0.0   \n",
      "75994                     0.0                      0.0   \n",
      "75995                     0.0                      0.0   \n",
      "75996                     0.0                      0.0   \n",
      "75997                     0.0                      0.0   \n",
      "75998                     0.0                      0.0   \n",
      "75999                     0.0                      0.0   \n",
      "76000                     0.0                      0.0   \n",
      "76001                     0.0                      0.0   \n",
      "76002                     0.0                      0.0   \n",
      "76003                     0.0                      0.0   \n",
      "76004                     0.0                      0.0   \n",
      "76005                     0.0                      0.0   \n",
      "76006                     0.0                      0.0   \n",
      "76007                     0.0                      0.0   \n",
      "76008                     0.0                      0.0   \n",
      "76009                     0.0                      0.0   \n",
      "76010                     0.0                      0.0   \n",
      "76011                     0.0                      0.0   \n",
      "76012                     0.0                      0.0   \n",
      "76013                     0.0                      0.0   \n",
      "76014                     0.0                      0.0   \n",
      "76015                     0.0                      0.0   \n",
      "76016                     0.0                      0.0   \n",
      "76017                     0.0                      0.0   \n",
      "76018                     0.0                      0.0   \n",
      "76019                     0.0                      0.0   \n",
      "\n",
      "       saldo_medio_var44_hace3  saldo_medio_var44_ult1  \\\n",
      "0                          0.0                     0.0   \n",
      "1                          0.0                     0.0   \n",
      "2                          0.0                     0.0   \n",
      "3                          0.0                     0.0   \n",
      "4                          0.0                     0.0   \n",
      "5                          0.0                     0.0   \n",
      "6                          0.0                     0.0   \n",
      "7                          0.0                     0.0   \n",
      "8                          0.0                     0.0   \n",
      "9                          0.0                     0.0   \n",
      "10                         0.0                     0.0   \n",
      "11                         0.0                     0.0   \n",
      "12                         0.0                     0.0   \n",
      "13                         0.0                     0.0   \n",
      "14                         0.0                     0.0   \n",
      "15                         0.0                     0.0   \n",
      "16                         0.0                     0.0   \n",
      "17                         0.0                     0.0   \n",
      "18                         0.0                     0.0   \n",
      "19                         0.0                     0.0   \n",
      "20                         0.0                     0.0   \n",
      "21                         0.0                     0.0   \n",
      "22                         0.0                     0.0   \n",
      "23                         0.0                     0.0   \n",
      "24                         0.0                     0.0   \n",
      "25                         0.0                     0.0   \n",
      "26                         0.0                     0.0   \n",
      "27                         0.0                     0.0   \n",
      "28                         0.0                     0.0   \n",
      "29                         0.0                     0.0   \n",
      "...                        ...                     ...   \n",
      "75990                      0.0                     0.0   \n",
      "75991                      0.0                     0.0   \n",
      "75992                      0.0                     0.0   \n",
      "75993                      0.0                     0.0   \n",
      "75994                      0.0                     0.0   \n",
      "75995                      0.0                     0.0   \n",
      "75996                      0.0                     0.0   \n",
      "75997                      0.0                     0.0   \n",
      "75998                      0.0                     0.0   \n",
      "75999                      0.0                     0.0   \n",
      "76000                      0.0                     0.0   \n",
      "76001                      0.0                     0.0   \n",
      "76002                      0.0                     0.0   \n",
      "76003                      0.0                     0.0   \n",
      "76004                      0.0                     0.0   \n",
      "76005                      0.0                     0.0   \n",
      "76006                      0.0                     0.0   \n",
      "76007                      0.0                     0.0   \n",
      "76008                      0.0                     0.0   \n",
      "76009                      0.0                     0.0   \n",
      "76010                      0.0                     0.0   \n",
      "76011                      0.0                     0.0   \n",
      "76012                      0.0                     0.0   \n",
      "76013                      0.0                     0.0   \n",
      "76014                      0.0                     0.0   \n",
      "76015                      0.0                     0.0   \n",
      "76016                      0.0                     0.0   \n",
      "76017                      0.0                     0.0   \n",
      "76018                      0.0                     0.0   \n",
      "76019                      0.0                     0.0   \n",
      "\n",
      "       saldo_medio_var44_ult3          var38  \n",
      "0                         0.0   39205.170000  \n",
      "1                         0.0   49278.030000  \n",
      "2                         0.0   67333.770000  \n",
      "3                         0.0   64007.970000  \n",
      "4                         0.0  117310.979016  \n",
      "5                         0.0   87975.750000  \n",
      "6                         0.0   94956.660000  \n",
      "7                         0.0  251638.950000  \n",
      "8                         0.0  101962.020000  \n",
      "9                         0.0  356463.060000  \n",
      "10                        0.0  125424.060000  \n",
      "11                        0.0   75368.520000  \n",
      "12                        0.0  122220.090000  \n",
      "13                        0.0  118436.970000  \n",
      "14                        0.0   95294.130000  \n",
      "15                        0.0  104403.870000  \n",
      "16                        0.0  117310.979016  \n",
      "17                        0.0  153014.130000  \n",
      "18                        0.0  168943.230000  \n",
      "19                        0.0   96601.140000  \n",
      "20                        0.0   69165.030000  \n",
      "21                        0.0   63445.560000  \n",
      "22                        0.0  117310.979016  \n",
      "23                        0.0   59575.620000  \n",
      "24                        0.0  117310.979016  \n",
      "25                        0.0   78390.810000  \n",
      "26                        0.0   86262.210000  \n",
      "27                        0.0   55568.100000  \n",
      "28                        0.0   34880.280000  \n",
      "29                        0.0  126815.970000  \n",
      "...                       ...            ...  \n",
      "75990                     0.0  493063.920000  \n",
      "75991                     0.0  117310.979016  \n",
      "75992                     0.0   99424.170000  \n",
      "75993                     0.0  124660.680000  \n",
      "75994                     0.0   91768.500000  \n",
      "75995                     0.0   95812.860000  \n",
      "75996                     0.0  117310.979016  \n",
      "75997                     0.0  108712.860000  \n",
      "75998                     0.0   55648.980000  \n",
      "75999                     0.0  113833.620000  \n",
      "76000                     0.0  117310.979016  \n",
      "76001                     0.0   80566.980000  \n",
      "76002                     0.0  394687.350000  \n",
      "76003                     0.0   86886.120000  \n",
      "76004                     0.0   75678.420000  \n",
      "76005                     0.0   64250.460000  \n",
      "76006                     0.0  117310.979016  \n",
      "76007                     0.0   83667.150000  \n",
      "76008                     0.0   73056.000000  \n",
      "76009                     0.0  176712.420000  \n",
      "76010                     0.0  165616.320000  \n",
      "76011                     0.0  128887.380000  \n",
      "76012                     0.0  117310.979016  \n",
      "76013                     0.0   31405.080000  \n",
      "76014                     0.0   90214.170000  \n",
      "76015                     0.0   60926.490000  \n",
      "76016                     0.0  118634.520000  \n",
      "76017                     0.0   74028.150000  \n",
      "76018                     0.0   84278.160000  \n",
      "76019                     0.0  117310.979016  \n",
      "\n",
      "[76020 rows x 369 columns]\n"
     ]
    }
   ],
   "source": [
    "print(train)"
   ]
  },
  {
   "cell_type": "code",
   "execution_count": 17,
   "metadata": {
    "collapsed": true,
    "slideshow": {
     "slide_type": "subslide"
    }
   },
   "outputs": [],
   "source": [
    "# removing placeholders\n",
    "train = train.replace(-999999, 2)\n",
    "test = test.replace(-999999, 2)"
   ]
  },
  {
   "cell_type": "code",
   "execution_count": 18,
   "metadata": {
    "slideshow": {
     "slide_type": "subslide"
    }
   },
   "outputs": [
    {
     "name": "stdout",
     "output_type": "stream",
     "text": [
      "(76020, 336) (75818, 336)\n"
     ]
    }
   ],
   "source": [
    "# adding zero counts\n",
    "train[\"zeroes\"] = (train == 0).astype(int).sum(axis=1)\n",
    "test[\"zeroes\"] = (test == 0).astype(int).sum(axis=1)\n",
    "\n",
    "# remove constant columns (std = 0)\n",
    "remove = []\n",
    "for col in train.columns:\n",
    "    if train[col].std() == 0:\n",
    "        remove.append(col)\n",
    "\n",
    "train.drop(remove, axis=1, inplace=True)\n",
    "test.drop(remove, axis=1, inplace=True)\n",
    "\n",
    "print(train.shape, test.shape)"
   ]
  },
  {
   "cell_type": "code",
   "execution_count": 19,
   "metadata": {
    "slideshow": {
     "slide_type": "subslide"
    }
   },
   "outputs": [
    {
     "name": "stdout",
     "output_type": "stream",
     "text": [
      "(76020, 50) (75818, 50)\n"
     ]
    }
   ],
   "source": [
    "Cols = train.columns.values.tolist()\n",
    "clf = GradientBoostingClassifier(random_state = 8001)\n",
    "\n",
    "selector = clf.fit(train, target)\n",
    "importances = selector.feature_importances_\n",
    "fs = SelectFromModel(selector, prefit=True)\n",
    "train = fs.transform(train)\n",
    "test = fs.transform(test)\n",
    "print(train.shape, test.shape)"
   ]
  },
  {
   "cell_type": "code",
   "execution_count": 20,
   "metadata": {
    "slideshow": {
     "slide_type": "subslide"
    }
   },
   "outputs": [
    {
     "name": "stdout",
     "output_type": "stream",
     "text": [
      "['delta_imp_amort_var18_1y3', 'delta_imp_amort_var34_1y3', 'delta_imp_aport_var13_1y3', 'delta_imp_aport_var17_1y3', 'delta_imp_aport_var33_1y3']\n"
     ]
    }
   ],
   "source": [
    "selectedCols = train.shape[1]\n",
    "sortedCols = [col for importance, col  in sorted(zip(importances, Cols))]\n",
    "sortedCols = sortedCols[0:selectedCols]\n",
    "train = pd.DataFrame(train)\n",
    "test = pd.DataFrame(test)\n",
    "train.columns = sortedCols\n",
    "test.columns = sortedCols\n",
    "\n",
    "print(sortedCols[0:5])"
   ]
  },
  {
   "cell_type": "code",
   "execution_count": 21,
   "metadata": {
    "collapsed": true,
    "slideshow": {
     "slide_type": "skip"
    }
   },
   "outputs": [],
   "source": [
    "train = train.replace(np.inf, 999999)\n",
    "train = train.replace(-np.inf, -999999)\n",
    "train = train.replace(np.nan, -1)\n",
    "test = test.replace(np.inf, 999999)\n",
    "test = test.replace(-np.inf, -999999)\n",
    "test = test.replace(np.nan, -1)"
   ]
  },
  {
   "cell_type": "code",
   "execution_count": 22,
   "metadata": {
    "slideshow": {
     "slide_type": "skip"
    }
   },
   "outputs": [
    {
     "name": "stdout",
     "output_type": "stream",
     "text": [
      "(76020, 15) (75818, 15)\n"
     ]
    }
   ],
   "source": [
    "# Second round of gradient boosting\n",
    "Cols = train.columns.values.tolist()\n",
    "clf = GradientBoostingClassifier(random_state=1729)\n",
    "selector = clf.fit(train, target)\n",
    "\n",
    "importances = selector.feature_importances_\n",
    "fs = SelectFromModel(selector, prefit=True)\n",
    "train = fs.transform(train)\n",
    "test = fs.transform(test)\n",
    "print(train.shape, test.shape)\n",
    "\n",
    "selectedCols = train.shape[1]\n",
    "sortedCols = [col for importance, col  in sorted(zip(importances, Cols))]\n",
    "sortedCols = sortedCols[0:selectedCols]"
   ]
  },
  {
   "cell_type": "code",
   "execution_count": 23,
   "metadata": {
    "collapsed": true,
    "scrolled": true,
    "slideshow": {
     "slide_type": "subslide"
    }
   },
   "outputs": [],
   "source": [
    "import xgboost as xgb"
   ]
  },
  {
   "cell_type": "code",
   "execution_count": 24,
   "metadata": {
    "collapsed": true,
    "slideshow": {
     "slide_type": "subslide"
    }
   },
   "outputs": [],
   "source": [
    "from sklearn.cross_validation import KFold"
   ]
  },
  {
   "cell_type": "code",
   "execution_count": 25,
   "metadata": {
    "slideshow": {
     "slide_type": "subslide"
    }
   },
   "outputs": [
    {
     "name": "stdout",
     "output_type": "stream",
     "text": [
      "0.836487426064\n",
      "0.836798285403\n",
      "0.8232672329\n",
      "0.831966713627\n",
      "0.843268800343\n",
      "0.839548695888\n",
      "0.842184643425\n",
      "0.862213695787\n",
      "0.847774466934\n",
      "0.825447708348\n"
     ]
    }
   ],
   "source": [
    "# Create an empty array for prediction\n",
    "predictedResult = np.zeros(train.shape[0])\n",
    "\n",
    "# Split dataset into k = 10 consecutive folds\n",
    "# Each fold is used once as a validation while the k - 1 remaining folds form the training set\n",
    "kf = KFold(train.shape[0], n_folds=10)\n",
    "\n",
    "testPred = []\n",
    "\n",
    "for trainIndex, testIndex in kf:\n",
    "    trainFold, testFold = train[trainIndex], train[testIndex]\n",
    "    trainFoldTarget, testFoldTarget = target[trainIndex], target[testIndex]\n",
    "    \n",
    "    xgbc = xgb.XGBClassifier(n_estimators = 560, # number of boosted trees\n",
    "                             learning_rate = 0.0202047, # step size shrinkage used in update to prevent overfitting\n",
    "                             max_depth = 5, # maximum depth of a tree\n",
    "                             subsample = 0.6815, # subsample ratio of the training set (Stochastic gradient boosting)\n",
    "                             colsample_bytree = 0.701) # subsample features\n",
    "    \n",
    "    xgbc.fit(trainFold, trainFoldTarget)\n",
    "    xgbpred =xgbc.predict_proba(testFold)[:,1]\n",
    "    testPred.append(xgbc.predict_proba(test)[:,1])\n",
    "    predictedResult[testIndex] = xgbpred\n",
    "    \n",
    "    # Print the AUC\n",
    "    print(roc_auc_score(testFoldTarget, xgbpred))"
   ]
  },
  {
   "cell_type": "code",
   "execution_count": 26,
   "metadata": {
    "slideshow": {
     "slide_type": "subslide"
    }
   },
   "outputs": [
    {
     "name": "stdout",
     "output_type": "stream",
     "text": [
      "0.838327659232\n"
     ]
    }
   ],
   "source": [
    "print(roc_auc_score(target, predictedResult))\n",
    "testPred = np.average(np.array(testPred), axis =0)\n",
    "pd.DataFrame({\"ID\": test_id, \"TARGET\": testPred}).to_csv('submission.csv',index=False)"
   ]
  },
  {
   "cell_type": "code",
   "execution_count": 27,
   "metadata": {},
   "outputs": [
    {
     "name": "stdout",
     "output_type": "stream",
     "text": [
      "(76020, 15)\n"
     ]
    }
   ],
   "source": [
    "print(train.shape)"
   ]
  },
  {
   "cell_type": "code",
   "execution_count": null,
   "metadata": {
    "collapsed": true
   },
   "outputs": [],
   "source": []
  }
 ],
 "metadata": {
  "kernelspec": {
   "display_name": "Python 3",
   "language": "python",
   "name": "python3"
  },
  "language_info": {
   "codemirror_mode": {
    "name": "ipython",
    "version": 3
   },
   "file_extension": ".py",
   "mimetype": "text/x-python",
   "name": "python",
   "nbconvert_exporter": "python",
   "pygments_lexer": "ipython3",
   "version": "3.6.1"
  }
 },
 "nbformat": 4,
 "nbformat_minor": 2
}
