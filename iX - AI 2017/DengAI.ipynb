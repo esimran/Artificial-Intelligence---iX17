{
 "cells": [
  {
   "cell_type": "code",
   "execution_count": 289,
   "metadata": {
    "collapsed": true
   },
   "outputs": [],
   "source": [
    "import tensorflow as tf\n",
    "import numpy as np\n",
    "import pandas as pd\n",
    "from sklearn import datasets\n",
    "from sklearn import metrics\n",
    "from sklearn import model_selection\n",
    "from sklearn.model_selection import train_test_split"
   ]
  },
  {
   "cell_type": "markdown",
   "metadata": {},
   "source": [
    "Baseline Approach: Linear Regression Model is the simplest form of neural network, so it should be a good baseline model to compare other approaches too. I don't expect the dengue outbreaks to be modeled linearly from my prior understanding of epidemiology. I anticipate it to follow some sort of logistic model. Average temperature, city, year, week of year, and average precipitation are good baseline features to use. City, year, and week of year will provide sufficient information for time and place. As the spread of diseases is highly dependent on the number of already infected people, this information is vital for a successful model. Temperature and precipitation are valuable features as they are useful in predicting the amount of mosquitos in an area. The disease vector (female mosquito) like damp, warm environments so these features should be useful in predicting future dengue outbreaks. For the sake of example, we will have 3 hidden layers with 10, 20, and 10 neurons."
   ]
  },
  {
   "cell_type": "markdown",
   "metadata": {},
   "source": [
    "A good model to try to use is the Long Short Term Memory Model. The LSTM model is recurrent, meaning data is can flow forward and backward throughout the network making it useful to model situations where there are many time gaps between important events. These time gaps are characteristic of the data we have present for the dengue fever outbreaks. Also, since the model is recurrent, it can make good use of the time stamps we have and are more likely to accurately predict future outbreaks as the spread of disease is heavily dependent on variables such as number of previous cases in an area."
   ]
  },
  {
   "cell_type": "markdown",
   "metadata": {},
   "source": [
    "Since the female mosquito population is the disease vector for Dengue fever, you can naturally assume a connection between their population in an area and the prevalence of the disease. Finding the mosquito population in SJ and IQ over a certain period of time can be helpful in increasing the accuracy of the model. This information can be ideally downloaded from the internet. If not, it may be possible to create a feature that can be used to represent the population of mosquitos as a function of the mosquito's preferred environmental conditions such as humidity, temperature, water content, etc. Reducing these factors into one feature can also provide a way for you to control the weigiht of each individual individual factor. For example, weighting the temperature twice as much as other factors if you think that it is more important"
   ]
  },
  {
   "cell_type": "markdown",
   "metadata": {},
   "source": [
    "Mosquitos are also daytime feeders so time of day may be important in determining the likelihood of infection. \"The peak biting periods are early in the morning and in the evening before dusk.\" (from WHO) A rough estimate of time of day can be derived from information about the time of year given from the features. This can be used to create a \"daytime\" scale that can be used to represent different amounts of sunlight in a given time period. For example, summer has comparatively longer and hotter days and this may be used to complement temperature data as well."
   ]
  },
  {
   "cell_type": "code",
   "execution_count": 290,
   "metadata": {
    "collapsed": true
   },
   "outputs": [],
   "source": [
    "total_labels = pd.read_csv('./input/dengue_labels_train.csv')\n",
    "total_features = pd.read_csv('./input/dengue_features_train.csv')\n",
    "total_test_features = pd.read_csv('./input/dengue_features_test.csv')"
   ]
  },
  {
   "cell_type": "markdown",
   "metadata": {},
   "source": [
    "This next line is for new Mosquitio Amount feature. Comment it out and just use the line after that if you want just the baseline approach."
   ]
  },
  {
   "cell_type": "code",
   "execution_count": 291,
   "metadata": {},
   "outputs": [],
   "source": [
    "# total_features = total_features.drop(total_features.columns[[0, 3]], axis=1) \n",
    "# total_features = total_features.drop(total_features.index[[1456]], axis=0) \n",
    "# total_labels = total_labels.drop(total_labels.columns[[0, 1, 2]], axis=1) \n",
    "# total_test_features = total_test_features.drop(total_test_features.columns[[0, 3]], axis=1)\n",
    "# total_features = total_features.apply(lambda x: x.fillna(x.mean()),axis=0)\n",
    "# total_test_features = total_test_features.apply(lambda x: x.fillna(x.mean()),axis=0)\n",
    "new_feature = total_features['reanalysis_precip_amt_kg_per_m2']+(total_features['reanalysis_avg_temp_k']/25)+(total_features['reanalysis_relative_humidity_percent']/10)\n",
    "total_features['new'] = new_feature\n",
    "new_test_feature = total_test_features['reanalysis_precip_amt_kg_per_m2']+(total_test_features['reanalysis_avg_temp_k']/25)+(total_test_features['reanalysis_relative_humidity_percent']/10)\n",
    "total_test_features['new'] = new_test_feature"
   ]
  },
  {
   "cell_type": "code",
   "execution_count": 292,
   "metadata": {},
   "outputs": [],
   "source": [
    "total_features = total_features.drop(total_features.columns[[0, 3, 4, 5, 6, 7, 9, 10, 11, 12, 13, 14, 15, 16, 17, 18, 20]], axis=1) \n",
    "total_features = total_features.drop(total_features.index[[1456]], axis=0) \n",
    "total_labels = total_labels.drop(total_labels.columns[[0, 1, 2]], axis=1) \n",
    "total_test_features = total_test_features.drop(total_test_features.columns[[0, 3, 4, 5, 6, 7, 9, 10, 11, 12, 13, 14, 15, 16, 17, 18, 20]], axis=1)\n",
    "total_features = total_features.apply(lambda x: x.fillna(x.mean()),axis=0)\n",
    "total_test_features = total_test_features.apply(lambda x: x.fillna(x.mean()),axis=0)"
   ]
  },
  {
   "cell_type": "code",
   "execution_count": 293,
   "metadata": {
    "collapsed": true
   },
   "outputs": [],
   "source": [
    "sj_features = total_features.loc[:935][:]\n",
    "iq_features = total_features.loc[936:][:]\n",
    "sj_labels = total_labels.loc[:935][:]\n",
    "iq_labels = total_labels.loc[936:][:]\n",
    "sj_test_features = total_test_features[:260][:]\n",
    "iq_test_features = total_test_features[260:][:]"
   ]
  },
  {
   "cell_type": "code",
   "execution_count": 228,
   "metadata": {
    "collapsed": true
   },
   "outputs": [],
   "source": [
    "sj_x_train, sj_x_test, sj_y_train, sj_y_test = model_selection.train_test_split(sj_features, sj_labels, \n",
    "                                                                    test_size=0.2, random_state=42)\n",
    "iq_x_train, iq_x_test, iq_y_train, iq_y_test = model_selection.train_test_split(iq_features, iq_labels, \n",
    "                                                                    test_size=0.2, random_state=42)"
   ]
  },
  {
   "cell_type": "code",
   "execution_count": 229,
   "metadata": {},
   "outputs": [
    {
     "name": "stdout",
     "output_type": "stream",
     "text": [
      "WARNING:tensorflow:float64 is not supported by many models, consider casting to float32.\n",
      "WARNING:tensorflow:float64 is not supported by many models, consider casting to float32.\n"
     ]
    }
   ],
   "source": [
    "sj_feature_columns = tf.contrib.learn.infer_real_valued_columns_from_input(sj_x_train)\n",
    "iq_feature_columns = tf.contrib.learn.infer_real_valued_columns_from_input(iq_x_train)"
   ]
  },
  {
   "cell_type": "code",
   "execution_count": 230,
   "metadata": {},
   "outputs": [
    {
     "name": "stdout",
     "output_type": "stream",
     "text": [
      "INFO:tensorflow:Using default config.\n",
      "INFO:tensorflow:Using config: {'_task_type': None, '_task_id': 0, '_cluster_spec': <tensorflow.python.training.server_lib.ClusterSpec object at 0x11e284be0>, '_master': '', '_num_ps_replicas': 0, '_num_worker_replicas': 0, '_environment': 'local', '_is_chief': True, '_evaluation_master': '', '_tf_config': gpu_options {\n",
      "  per_process_gpu_memory_fraction: 1\n",
      "}\n",
      ", '_tf_random_seed': None, '_save_summary_steps': 100, '_save_checkpoints_secs': 600, '_save_checkpoints_steps': None, '_keep_checkpoint_max': 5, '_keep_checkpoint_every_n_hours': 10000, '_model_dir': None}\n",
      "WARNING:tensorflow:Using temporary folder as model directory: /var/folders/3d/9yysmf897wj96_hjgtfwnjnw0000gn/T/tmpel27kh04\n",
      "INFO:tensorflow:Using default config.\n",
      "INFO:tensorflow:Using config: {'_task_type': None, '_task_id': 0, '_cluster_spec': <tensorflow.python.training.server_lib.ClusterSpec object at 0x11bdb8f98>, '_master': '', '_num_ps_replicas': 0, '_num_worker_replicas': 0, '_environment': 'local', '_is_chief': True, '_evaluation_master': '', '_tf_config': gpu_options {\n",
      "  per_process_gpu_memory_fraction: 1\n",
      "}\n",
      ", '_tf_random_seed': None, '_save_summary_steps': 100, '_save_checkpoints_secs': 600, '_save_checkpoints_steps': None, '_keep_checkpoint_max': 5, '_keep_checkpoint_every_n_hours': 10000, '_model_dir': None}\n",
      "WARNING:tensorflow:Using temporary folder as model directory: /var/folders/3d/9yysmf897wj96_hjgtfwnjnw0000gn/T/tmpk4u1wnia\n"
     ]
    }
   ],
   "source": [
    "sj_regressor = tf.contrib.learn.DNNRegressor(feature_columns=sj_feature_columns, \n",
    "                                            hidden_units=[10, 20, 10])\n",
    "iq_regressor = tf.contrib.learn.DNNRegressor(feature_columns=iq_feature_columns, \n",
    "                                            hidden_units=[10, 20, 10])"
   ]
  },
  {
   "cell_type": "code",
   "execution_count": 231,
   "metadata": {},
   "outputs": [
    {
     "name": "stdout",
     "output_type": "stream",
     "text": [
      "WARNING:tensorflow:From <ipython-input-231-4d1e5cc2ea28>:1: calling BaseEstimator.fit (from tensorflow.contrib.learn.python.learn.estimators.estimator) with x is deprecated and will be removed after 2016-12-01.\n",
      "Instructions for updating:\n",
      "Estimator is decoupled from Scikit Learn interface by moving into\n",
      "separate class SKCompat. Arguments x, y and batch_size are only\n",
      "available in the SKCompat class, Estimator will only accept input_fn.\n",
      "Example conversion:\n",
      "  est = Estimator(...) -> est = SKCompat(Estimator(...))\n",
      "WARNING:tensorflow:From <ipython-input-231-4d1e5cc2ea28>:1: calling BaseEstimator.fit (from tensorflow.contrib.learn.python.learn.estimators.estimator) with y is deprecated and will be removed after 2016-12-01.\n",
      "Instructions for updating:\n",
      "Estimator is decoupled from Scikit Learn interface by moving into\n",
      "separate class SKCompat. Arguments x, y and batch_size are only\n",
      "available in the SKCompat class, Estimator will only accept input_fn.\n",
      "Example conversion:\n",
      "  est = Estimator(...) -> est = SKCompat(Estimator(...))\n",
      "WARNING:tensorflow:float64 is not supported by many models, consider casting to float32.\n",
      "WARNING:tensorflow:From /Users/Simran/anaconda/lib/python3.6/site-packages/tensorflow/contrib/learn/python/learn/estimators/head.py:615: scalar_summary (from tensorflow.python.ops.logging_ops) is deprecated and will be removed after 2016-11-30.\n",
      "Instructions for updating:\n",
      "Please switch to tf.summary.scalar. Note that tf.summary.scalar uses the node name instead of the tag. This means that TensorFlow will automatically de-duplicate summary names based on the scope they are created in. Also, passing a tensor or list of tags to a scalar summary op is no longer supported.\n",
      "INFO:tensorflow:Create CheckpointSaverHook.\n",
      "INFO:tensorflow:Saving checkpoints for 1 into /var/folders/3d/9yysmf897wj96_hjgtfwnjnw0000gn/T/tmpel27kh04/model.ckpt.\n",
      "INFO:tensorflow:loss = 4027.14, step = 1\n",
      "INFO:tensorflow:global_step/sec: 386.937\n",
      "INFO:tensorflow:loss = 2637.19, step = 101 (0.259 sec)\n",
      "INFO:tensorflow:Saving checkpoints for 200 into /var/folders/3d/9yysmf897wj96_hjgtfwnjnw0000gn/T/tmpel27kh04/model.ckpt.\n",
      "INFO:tensorflow:Loss for final step: 2630.61.\n",
      "WARNING:tensorflow:From <ipython-input-231-4d1e5cc2ea28>:2: calling BaseEstimator.fit (from tensorflow.contrib.learn.python.learn.estimators.estimator) with x is deprecated and will be removed after 2016-12-01.\n",
      "Instructions for updating:\n",
      "Estimator is decoupled from Scikit Learn interface by moving into\n",
      "separate class SKCompat. Arguments x, y and batch_size are only\n",
      "available in the SKCompat class, Estimator will only accept input_fn.\n",
      "Example conversion:\n",
      "  est = Estimator(...) -> est = SKCompat(Estimator(...))\n",
      "WARNING:tensorflow:From <ipython-input-231-4d1e5cc2ea28>:2: calling BaseEstimator.fit (from tensorflow.contrib.learn.python.learn.estimators.estimator) with y is deprecated and will be removed after 2016-12-01.\n",
      "Instructions for updating:\n",
      "Estimator is decoupled from Scikit Learn interface by moving into\n",
      "separate class SKCompat. Arguments x, y and batch_size are only\n",
      "available in the SKCompat class, Estimator will only accept input_fn.\n",
      "Example conversion:\n",
      "  est = Estimator(...) -> est = SKCompat(Estimator(...))\n",
      "WARNING:tensorflow:float64 is not supported by many models, consider casting to float32.\n",
      "WARNING:tensorflow:From /Users/Simran/anaconda/lib/python3.6/site-packages/tensorflow/contrib/learn/python/learn/estimators/head.py:615: scalar_summary (from tensorflow.python.ops.logging_ops) is deprecated and will be removed after 2016-11-30.\n",
      "Instructions for updating:\n",
      "Please switch to tf.summary.scalar. Note that tf.summary.scalar uses the node name instead of the tag. This means that TensorFlow will automatically de-duplicate summary names based on the scope they are created in. Also, passing a tensor or list of tags to a scalar summary op is no longer supported.\n",
      "INFO:tensorflow:Create CheckpointSaverHook.\n",
      "INFO:tensorflow:Saving checkpoints for 1 into /var/folders/3d/9yysmf897wj96_hjgtfwnjnw0000gn/T/tmpk4u1wnia/model.ckpt.\n",
      "INFO:tensorflow:loss = 550.728, step = 1\n",
      "INFO:tensorflow:global_step/sec: 514.115\n",
      "INFO:tensorflow:loss = 130.851, step = 101 (0.195 sec)\n",
      "INFO:tensorflow:Saving checkpoints for 200 into /var/folders/3d/9yysmf897wj96_hjgtfwnjnw0000gn/T/tmpk4u1wnia/model.ckpt.\n",
      "INFO:tensorflow:Loss for final step: 126.288.\n"
     ]
    },
    {
     "data": {
      "text/plain": [
       "DNNRegressor(params={'head': <tensorflow.contrib.learn.python.learn.estimators.head._RegressionHead object at 0x11cc01550>, 'hidden_units': [10, 20, 10], 'feature_columns': (_RealValuedColumn(column_name='', dimension=8, default_value=None, dtype=tf.float64, normalizer=None),), 'optimizer': None, 'activation_fn': <function relu at 0x10c1da6a8>, 'dropout': None, 'gradient_clip_norm': None, 'embedding_lr_multipliers': None, 'input_layer_min_slice_size': None})"
      ]
     },
     "execution_count": 231,
     "metadata": {},
     "output_type": "execute_result"
    }
   ],
   "source": [
    "sj_regressor.fit(sj_x_train, sj_y_train, steps=200)\n",
    "iq_regressor.fit(iq_x_train, iq_y_train, steps=200)"
   ]
  },
  {
   "cell_type": "code",
   "execution_count": 232,
   "metadata": {},
   "outputs": [
    {
     "name": "stdout",
     "output_type": "stream",
     "text": [
      "WARNING:tensorflow:From /Users/Simran/anaconda/lib/python3.6/site-packages/tensorflow/python/util/deprecation.py:335: calling DNNRegressor.predict (from tensorflow.contrib.learn.python.learn.estimators.dnn) with outputs=None is deprecated and will be removed after 2017-03-01.\n",
      "Instructions for updating:\n",
      "Please switch to predict_scores, or set `outputs` argument.\n",
      "WARNING:tensorflow:From /Users/Simran/anaconda/lib/python3.6/site-packages/tensorflow/contrib/learn/python/learn/estimators/dnn.py:733: calling BaseEstimator.predict (from tensorflow.contrib.learn.python.learn.estimators.estimator) with x is deprecated and will be removed after 2016-12-01.\n",
      "Instructions for updating:\n",
      "Estimator is decoupled from Scikit Learn interface by moving into\n",
      "separate class SKCompat. Arguments x, y and batch_size are only\n",
      "available in the SKCompat class, Estimator will only accept input_fn.\n",
      "Example conversion:\n",
      "  est = Estimator(...) -> est = SKCompat(Estimator(...))\n",
      "WARNING:tensorflow:float64 is not supported by many models, consider casting to float32.\n",
      "INFO:tensorflow:Restoring parameters from /var/folders/3d/9yysmf897wj96_hjgtfwnjnw0000gn/T/tmpel27kh04/model.ckpt-200\n",
      "Loss: 29.068241\n"
     ]
    }
   ],
   "source": [
    "predictions = list(sj_regressor.predict(sj_x_test, as_iterable=True))\n",
    "score = metrics.mean_absolute_error(sj_y_test, predictions)\n",
    "print('Loss: {0:f}'.format(score))"
   ]
  },
  {
   "cell_type": "code",
   "execution_count": 233,
   "metadata": {},
   "outputs": [
    {
     "name": "stdout",
     "output_type": "stream",
     "text": [
      "WARNING:tensorflow:From /Users/Simran/anaconda/lib/python3.6/site-packages/tensorflow/python/util/deprecation.py:335: calling DNNRegressor.predict (from tensorflow.contrib.learn.python.learn.estimators.dnn) with outputs=None is deprecated and will be removed after 2017-03-01.\n",
      "Instructions for updating:\n",
      "Please switch to predict_scores, or set `outputs` argument.\n",
      "WARNING:tensorflow:From /Users/Simran/anaconda/lib/python3.6/site-packages/tensorflow/contrib/learn/python/learn/estimators/dnn.py:733: calling BaseEstimator.predict (from tensorflow.contrib.learn.python.learn.estimators.estimator) with x is deprecated and will be removed after 2016-12-01.\n",
      "Instructions for updating:\n",
      "Estimator is decoupled from Scikit Learn interface by moving into\n",
      "separate class SKCompat. Arguments x, y and batch_size are only\n",
      "available in the SKCompat class, Estimator will only accept input_fn.\n",
      "Example conversion:\n",
      "  est = Estimator(...) -> est = SKCompat(Estimator(...))\n",
      "WARNING:tensorflow:float64 is not supported by many models, consider casting to float32.\n",
      "INFO:tensorflow:Restoring parameters from /var/folders/3d/9yysmf897wj96_hjgtfwnjnw0000gn/T/tmpk4u1wnia/model.ckpt-200\n",
      "Loss: 6.260020\n"
     ]
    }
   ],
   "source": [
    "predictions = list(iq_regressor.predict(iq_x_test, as_iterable=True))\n",
    "score = metrics.mean_absolute_error(iq_y_test, predictions)\n",
    "print('Loss: {0:f}'.format(score))"
   ]
  },
  {
   "cell_type": "code",
   "execution_count": 240,
   "metadata": {
    "scrolled": true
   },
   "outputs": [
    {
     "name": "stdout",
     "output_type": "stream",
     "text": [
      "(260, 8)\n",
      "WARNING:tensorflow:From /Users/Simran/anaconda/lib/python3.6/site-packages/tensorflow/python/util/deprecation.py:335: calling DNNRegressor.predict (from tensorflow.contrib.learn.python.learn.estimators.dnn) with outputs=None is deprecated and will be removed after 2017-03-01.\n",
      "Instructions for updating:\n",
      "Please switch to predict_scores, or set `outputs` argument.\n",
      "WARNING:tensorflow:From /Users/Simran/anaconda/lib/python3.6/site-packages/tensorflow/contrib/learn/python/learn/estimators/dnn.py:733: calling BaseEstimator.predict (from tensorflow.contrib.learn.python.learn.estimators.estimator) with x is deprecated and will be removed after 2016-12-01.\n",
      "Instructions for updating:\n",
      "Estimator is decoupled from Scikit Learn interface by moving into\n",
      "separate class SKCompat. Arguments x, y and batch_size are only\n",
      "available in the SKCompat class, Estimator will only accept input_fn.\n",
      "Example conversion:\n",
      "  est = Estimator(...) -> est = SKCompat(Estimator(...))\n",
      "WARNING:tensorflow:float64 is not supported by many models, consider casting to float32.\n",
      "INFO:tensorflow:Restoring parameters from /var/folders/3d/9yysmf897wj96_hjgtfwnjnw0000gn/T/tmpel27kh04/model.ckpt-200\n",
      "WARNING:tensorflow:From /Users/Simran/anaconda/lib/python3.6/site-packages/tensorflow/python/util/deprecation.py:335: calling DNNRegressor.predict (from tensorflow.contrib.learn.python.learn.estimators.dnn) with outputs=None is deprecated and will be removed after 2017-03-01.\n",
      "Instructions for updating:\n",
      "Please switch to predict_scores, or set `outputs` argument.\n",
      "WARNING:tensorflow:From /Users/Simran/anaconda/lib/python3.6/site-packages/tensorflow/contrib/learn/python/learn/estimators/dnn.py:733: calling BaseEstimator.predict (from tensorflow.contrib.learn.python.learn.estimators.estimator) with x is deprecated and will be removed after 2016-12-01.\n",
      "Instructions for updating:\n",
      "Estimator is decoupled from Scikit Learn interface by moving into\n",
      "separate class SKCompat. Arguments x, y and batch_size are only\n",
      "available in the SKCompat class, Estimator will only accept input_fn.\n",
      "Example conversion:\n",
      "  est = Estimator(...) -> est = SKCompat(Estimator(...))\n",
      "WARNING:tensorflow:float64 is not supported by many models, consider casting to float32.\n",
      "INFO:tensorflow:Restoring parameters from /var/folders/3d/9yysmf897wj96_hjgtfwnjnw0000gn/T/tmpel27kh04/model.ckpt-200\n"
     ]
    }
   ],
   "source": [
    "sj_predictions = [int(round(i)) for i in list(sj_regressor.predict(sj_test_features))]\n",
    "iq_predictions = [int(round(i)) for i in list(sj_regressor.predict(iq_test_features))]\n",
    "\n",
    "submission = pd.read_csv('./input/submission_format.csv',\n",
    "                         index_col=[0, 1, 2])\n",
    "\n",
    "submission.total_cases = np.concatenate([sj_predictions, iq_predictions])\n",
    "submission.to_csv('./input/submission.csv')"
   ]
  },
  {
   "cell_type": "markdown",
   "metadata": {},
   "source": [
    "Multiple Layer Perceptron:"
   ]
  },
  {
   "cell_type": "code",
   "execution_count": 378,
   "metadata": {
    "collapsed": true
   },
   "outputs": [],
   "source": [
    "RANDOM_SEED = 42\n",
    "tf.set_random_seed(RANDOM_SEED)"
   ]
  },
  {
   "cell_type": "code",
   "execution_count": 379,
   "metadata": {
    "collapsed": true
   },
   "outputs": [],
   "source": [
    "def init_weights(shape):\n",
    "    weights = tf.random_normal(shape, stddev=0.1)\n",
    "    return tf.Variable(weights)"
   ]
  },
  {
   "cell_type": "code",
   "execution_count": 380,
   "metadata": {
    "collapsed": true
   },
   "outputs": [],
   "source": [
    "def forwardprop(X, w_1, w_2):\n",
    "    h = tf.nn.sigmoid(tf.matmul(X, w_1))  # The \\sigma function\n",
    "    yhat = tf.matmul(h, w_2)\n",
    "    return yhat"
   ]
  },
  {
   "cell_type": "code",
   "execution_count": 381,
   "metadata": {},
   "outputs": [],
   "source": [
    "def process_features(features, labels):\n",
    "    # Prepend the column of 1s for bias\n",
    "#     N, M  = features.shape\n",
    "#     all_X = np.ones((N, M + 1))\n",
    "#     all_X[:, 1:] = features\n",
    "    all_X = features\n",
    "    \n",
    "#     # Convert into one-hot vectors\n",
    "#     num_labels = len(np.unique(target))\n",
    "#     all_Y = np.eye(num_labels)[target]  # One liner trick!\n",
    "    return train_test_split(all_X, labels, test_size=0.33, random_state=RANDOM_SEED)"
   ]
  },
  {
   "cell_type": "code",
   "execution_count": 382,
   "metadata": {},
   "outputs": [],
   "source": [
    "sj_train_X, sj_test_X, sj_train_y, sj_test_y = process_features(sj_features, sj_labels)\n",
    "iq_train_X, iq_test_X, iq_train_y, iq_test_y = process_features(iq_features, iq_labels)"
   ]
  },
  {
   "cell_type": "code",
   "execution_count": 383,
   "metadata": {},
   "outputs": [],
   "source": [
    "# Layer's sizes\n",
    "x_size = sj_train_X.shape[1]\n",
    "h_size = 256\n",
    "y_size = sj_train_y.shape[1]"
   ]
  },
  {
   "cell_type": "code",
   "execution_count": 384,
   "metadata": {
    "collapsed": true
   },
   "outputs": [],
   "source": [
    "# Symbols\n",
    "X = tf.placeholder(\"float\", shape=[None, x_size])\n",
    "y = tf.placeholder(\"float\", shape=[None, y_size])"
   ]
  },
  {
   "cell_type": "code",
   "execution_count": 385,
   "metadata": {
    "collapsed": true
   },
   "outputs": [],
   "source": [
    "# Weight initializations\n",
    "w_1 = init_weights((x_size, h_size))\n",
    "w_2 = init_weights((h_size, y_size))"
   ]
  },
  {
   "cell_type": "code",
   "execution_count": 386,
   "metadata": {},
   "outputs": [],
   "source": [
    "# Forward propagation\n",
    "yhat    = forwardprop(X, w_1, w_2)\n",
    "predict = tf.to_int64(yhat)"
   ]
  },
  {
   "cell_type": "code",
   "execution_count": 387,
   "metadata": {},
   "outputs": [],
   "source": [
    "# Backward propagation\n",
    "cost    = tf.losses.mean_squared_error(labels=y, predictions=yhat)\n",
    "updates = tf.train.GradientDescentOptimizer(0.0000001).minimize(cost)"
   ]
  },
  {
   "cell_type": "code",
   "execution_count": 388,
   "metadata": {
    "scrolled": true
   },
   "outputs": [
    {
     "name": "stdout",
     "output_type": "stream",
     "text": [
      "Epoch = 1, train loss = 32.59, test loss = 34.51\n",
      "Epoch = 2, train loss = 32.55, test loss = 34.48\n",
      "Epoch = 3, train loss = 31.59, test loss = 33.51\n",
      "Epoch = 4, train loss = 31.59, test loss = 33.51\n",
      "Epoch = 5, train loss = 30.67, test loss = 32.60\n",
      "Epoch = 6, train loss = 30.67, test loss = 32.59\n",
      "Epoch = 7, train loss = 29.84, test loss = 31.73\n",
      "Epoch = 8, train loss = 29.07, test loss = 30.96\n",
      "Epoch = 9, train loss = 29.06, test loss = 30.95\n",
      "Epoch = 10, train loss = 29.05, test loss = 30.94\n",
      "Epoch = 11, train loss = 28.33, test loss = 30.20\n",
      "Epoch = 12, train loss = 28.33, test loss = 30.20\n",
      "Epoch = 13, train loss = 27.68, test loss = 29.55\n",
      "Epoch = 14, train loss = 27.68, test loss = 29.55\n",
      "Epoch = 15, train loss = 27.10, test loss = 28.98\n",
      "Epoch = 16, train loss = 27.09, test loss = 28.97\n",
      "Epoch = 17, train loss = 26.56, test loss = 28.47\n",
      "Epoch = 18, train loss = 26.56, test loss = 28.47\n",
      "Epoch = 19, train loss = 26.08, test loss = 27.98\n",
      "Epoch = 20, train loss = 26.08, test loss = 27.98\n",
      "Epoch = 21, train loss = 26.07, test loss = 27.98\n",
      "Epoch = 22, train loss = 25.66, test loss = 27.56\n",
      "Epoch = 23, train loss = 25.65, test loss = 27.56\n",
      "Epoch = 24, train loss = 25.65, test loss = 27.55\n",
      "Epoch = 25, train loss = 25.28, test loss = 27.19\n",
      "Epoch = 26, train loss = 25.28, test loss = 27.18\n",
      "Epoch = 27, train loss = 24.95, test loss = 26.85\n",
      "Epoch = 28, train loss = 24.95, test loss = 26.85\n",
      "Epoch = 29, train loss = 24.95, test loss = 26.85\n",
      "Epoch = 30, train loss = 24.68, test loss = 26.57\n",
      "Epoch = 31, train loss = 24.68, test loss = 26.57\n",
      "Epoch = 32, train loss = 24.68, test loss = 26.57\n",
      "Epoch = 33, train loss = 24.46, test loss = 26.35\n",
      "Epoch = 34, train loss = 24.47, test loss = 26.35\n",
      "Epoch = 35, train loss = 24.46, test loss = 26.35\n",
      "Epoch = 36, train loss = 24.29, test loss = 26.16\n",
      "Epoch = 37, train loss = 24.29, test loss = 26.17\n",
      "Epoch = 38, train loss = 24.29, test loss = 26.16\n",
      "Epoch = 39, train loss = 24.29, test loss = 26.16\n",
      "Epoch = 40, train loss = 24.17, test loss = 26.03\n",
      "Epoch = 41, train loss = 24.17, test loss = 26.03\n",
      "Epoch = 42, train loss = 24.16, test loss = 26.03\n",
      "Epoch = 43, train loss = 24.11, test loss = 25.97\n",
      "Epoch = 44, train loss = 24.11, test loss = 25.98\n",
      "Epoch = 45, train loss = 24.11, test loss = 25.97\n",
      "Epoch = 46, train loss = 24.11, test loss = 25.97\n",
      "Epoch = 47, train loss = 24.10, test loss = 25.95\n",
      "Epoch = 48, train loss = 24.10, test loss = 25.95\n",
      "Epoch = 49, train loss = 24.10, test loss = 25.95\n",
      "Epoch = 50, train loss = 24.10, test loss = 25.95\n"
     ]
    }
   ],
   "source": [
    "# Run SGD\n",
    "sess = tf.Session()\n",
    "init = tf.global_variables_initializer()\n",
    "sess.run(init)\n",
    "for epoch in range(50):\n",
    "        # Train with each example\n",
    "        for i in range(len(sj_train_X)):\n",
    "            sess.run(updates, feed_dict={X: sj_train_X[i: i + 1], y: sj_train_y[i: i + 1]})\n",
    "            \n",
    "        train_accuracy = metrics.mean_absolute_error(sj_train_y, sess.run(predict, feed_dict={X: sj_train_X}))\n",
    "        test_accuracy  = metrics.mean_absolute_error(sj_test_y, sess.run(predict, feed_dict={X: sj_test_X}))\n",
    "\n",
    "        print(\"Epoch = %d, train loss = %.2f, test loss = %.2f\"\n",
    "              % (epoch + 1, train_accuracy, test_accuracy))\n",
    "        \n",
    "mlp_sj_predictions = sess.run(predict, feed_dict={X: sj_test_features})"
   ]
  },
  {
   "cell_type": "code",
   "execution_count": 389,
   "metadata": {},
   "outputs": [
    {
     "name": "stdout",
     "output_type": "stream",
     "text": [
      "Epoch = 1, train loss = 7.66, test loss = 7.37\n",
      "Epoch = 2, train loss = 7.66, test loss = 7.37\n",
      "Epoch = 3, train loss = 7.66, test loss = 7.37\n",
      "Epoch = 4, train loss = 7.66, test loss = 7.37\n",
      "Epoch = 5, train loss = 7.58, test loss = 7.35\n",
      "Epoch = 6, train loss = 7.22, test loss = 7.02\n",
      "Epoch = 7, train loss = 7.15, test loss = 6.95\n",
      "Epoch = 8, train loss = 7.06, test loss = 6.83\n",
      "Epoch = 9, train loss = 7.04, test loss = 6.77\n",
      "Epoch = 10, train loss = 7.02, test loss = 6.76\n",
      "Epoch = 11, train loss = 7.02, test loss = 6.76\n",
      "Epoch = 12, train loss = 7.02, test loss = 6.76\n",
      "Epoch = 13, train loss = 7.02, test loss = 6.76\n",
      "Epoch = 14, train loss = 7.02, test loss = 6.76\n",
      "Epoch = 15, train loss = 7.02, test loss = 6.76\n",
      "Epoch = 16, train loss = 7.02, test loss = 6.76\n",
      "Epoch = 17, train loss = 7.02, test loss = 6.76\n",
      "Epoch = 18, train loss = 7.02, test loss = 6.76\n",
      "Epoch = 19, train loss = 7.02, test loss = 6.76\n",
      "Epoch = 20, train loss = 7.02, test loss = 6.76\n",
      "Epoch = 21, train loss = 6.68, test loss = 6.49\n",
      "Epoch = 22, train loss = 6.61, test loss = 6.42\n",
      "Epoch = 23, train loss = 6.59, test loss = 6.37\n",
      "Epoch = 24, train loss = 6.57, test loss = 6.36\n",
      "Epoch = 25, train loss = 6.56, test loss = 6.35\n",
      "Epoch = 26, train loss = 6.56, test loss = 6.34\n",
      "Epoch = 27, train loss = 6.56, test loss = 6.34\n",
      "Epoch = 28, train loss = 6.56, test loss = 6.34\n",
      "Epoch = 29, train loss = 6.56, test loss = 6.34\n",
      "Epoch = 30, train loss = 6.56, test loss = 6.34\n",
      "Epoch = 31, train loss = 6.56, test loss = 6.34\n",
      "Epoch = 32, train loss = 6.56, test loss = 6.34\n",
      "Epoch = 33, train loss = 6.56, test loss = 6.34\n",
      "Epoch = 34, train loss = 6.56, test loss = 6.34\n",
      "Epoch = 35, train loss = 6.56, test loss = 6.34\n",
      "Epoch = 36, train loss = 6.56, test loss = 6.34\n",
      "Epoch = 37, train loss = 6.56, test loss = 6.34\n",
      "Epoch = 38, train loss = 6.56, test loss = 6.34\n",
      "Epoch = 39, train loss = 6.55, test loss = 6.31\n",
      "Epoch = 40, train loss = 6.50, test loss = 6.27\n",
      "Epoch = 41, train loss = 6.31, test loss = 6.12\n",
      "Epoch = 42, train loss = 6.30, test loss = 6.10\n",
      "Epoch = 43, train loss = 6.30, test loss = 6.08\n",
      "Epoch = 44, train loss = 6.30, test loss = 6.06\n",
      "Epoch = 45, train loss = 6.29, test loss = 6.06\n",
      "Epoch = 46, train loss = 6.29, test loss = 6.06\n",
      "Epoch = 47, train loss = 6.29, test loss = 6.06\n",
      "Epoch = 48, train loss = 6.29, test loss = 6.06\n",
      "Epoch = 49, train loss = 6.29, test loss = 6.06\n",
      "Epoch = 50, train loss = 6.29, test loss = 6.06\n",
      "Epoch = 51, train loss = 6.29, test loss = 6.06\n",
      "Epoch = 52, train loss = 6.29, test loss = 6.06\n",
      "Epoch = 53, train loss = 6.29, test loss = 6.06\n",
      "Epoch = 54, train loss = 6.29, test loss = 6.06\n",
      "Epoch = 55, train loss = 6.29, test loss = 6.06\n",
      "Epoch = 56, train loss = 6.29, test loss = 6.06\n",
      "Epoch = 57, train loss = 6.29, test loss = 6.06\n",
      "Epoch = 58, train loss = 6.29, test loss = 6.06\n",
      "Epoch = 59, train loss = 6.29, test loss = 6.06\n",
      "Epoch = 60, train loss = 6.29, test loss = 6.06\n",
      "Epoch = 61, train loss = 6.29, test loss = 6.06\n",
      "Epoch = 62, train loss = 6.28, test loss = 6.06\n",
      "Epoch = 63, train loss = 6.18, test loss = 5.98\n",
      "Epoch = 64, train loss = 6.17, test loss = 5.97\n",
      "Epoch = 65, train loss = 6.17, test loss = 5.97\n",
      "Epoch = 66, train loss = 6.17, test loss = 5.95\n",
      "Epoch = 67, train loss = 6.16, test loss = 5.95\n",
      "Epoch = 68, train loss = 6.17, test loss = 5.94\n",
      "Epoch = 69, train loss = 6.17, test loss = 5.94\n",
      "Epoch = 70, train loss = 6.16, test loss = 5.92\n",
      "Epoch = 71, train loss = 6.16, test loss = 5.92\n",
      "Epoch = 72, train loss = 6.16, test loss = 5.92\n",
      "Epoch = 73, train loss = 6.16, test loss = 5.92\n",
      "Epoch = 74, train loss = 6.16, test loss = 5.92\n",
      "Epoch = 75, train loss = 6.16, test loss = 5.92\n",
      "Epoch = 76, train loss = 6.16, test loss = 5.92\n",
      "Epoch = 77, train loss = 6.16, test loss = 5.92\n",
      "Epoch = 78, train loss = 6.16, test loss = 5.92\n",
      "Epoch = 79, train loss = 6.16, test loss = 5.92\n",
      "Epoch = 80, train loss = 6.16, test loss = 5.92\n",
      "Epoch = 81, train loss = 6.16, test loss = 5.92\n",
      "Epoch = 82, train loss = 6.16, test loss = 5.92\n",
      "Epoch = 83, train loss = 6.16, test loss = 5.92\n",
      "Epoch = 84, train loss = 6.16, test loss = 5.92\n",
      "Epoch = 85, train loss = 6.16, test loss = 5.92\n",
      "Epoch = 86, train loss = 6.16, test loss = 5.92\n",
      "Epoch = 87, train loss = 6.16, test loss = 5.92\n",
      "Epoch = 88, train loss = 6.16, test loss = 5.92\n",
      "Epoch = 89, train loss = 6.16, test loss = 5.92\n",
      "Epoch = 90, train loss = 6.16, test loss = 5.92\n",
      "Epoch = 91, train loss = 6.16, test loss = 5.92\n",
      "Epoch = 92, train loss = 6.16, test loss = 5.92\n",
      "Epoch = 93, train loss = 6.16, test loss = 5.92\n",
      "Epoch = 94, train loss = 6.16, test loss = 5.92\n",
      "Epoch = 95, train loss = 6.05, test loss = 5.88\n",
      "Epoch = 96, train loss = 6.10, test loss = 5.91\n",
      "Epoch = 97, train loss = 6.10, test loss = 5.95\n",
      "Epoch = 98, train loss = 6.12, test loss = 5.98\n",
      "Epoch = 99, train loss = 6.12, test loss = 5.97\n",
      "Epoch = 100, train loss = 6.11, test loss = 5.97\n",
      "Epoch = 101, train loss = 6.11, test loss = 5.97\n",
      "Epoch = 102, train loss = 6.11, test loss = 5.96\n",
      "Epoch = 103, train loss = 6.11, test loss = 5.96\n",
      "Epoch = 104, train loss = 6.11, test loss = 5.96\n",
      "Epoch = 105, train loss = 6.11, test loss = 5.95\n",
      "Epoch = 106, train loss = 6.11, test loss = 5.95\n",
      "Epoch = 107, train loss = 6.10, test loss = 5.95\n",
      "Epoch = 108, train loss = 6.10, test loss = 5.94\n",
      "Epoch = 109, train loss = 6.10, test loss = 5.94\n",
      "Epoch = 110, train loss = 6.10, test loss = 5.94\n"
     ]
    }
   ],
   "source": [
    "# Run SGD\n",
    "sess = tf.Session()\n",
    "init = tf.global_variables_initializer()\n",
    "sess.run(init)\n",
    "for epoch in range(110):\n",
    "        # Train with each example\n",
    "        for i in range(len(iq_train_X)):\n",
    "            sess.run(updates, feed_dict={X: iq_train_X[i: i + 1], y: iq_train_y[i: i + 1]})\n",
    "            \n",
    "        train_accuracy = metrics.mean_absolute_error(iq_train_y, sess.run(predict, feed_dict={X: iq_train_X}))\n",
    "        test_accuracy  = metrics.mean_absolute_error(iq_test_y, sess.run(predict, feed_dict={X: iq_test_X}))\n",
    "\n",
    "        print(\"Epoch = %d, train loss = %.2f, test loss = %.2f\"\n",
    "              % (epoch + 1, train_accuracy, test_accuracy))\n",
    "        \n",
    "mlp_iq_predictions = sess.run(predict, feed_dict={X: iq_test_features})"
   ]
  },
  {
   "cell_type": "code",
   "execution_count": 390,
   "metadata": {
    "collapsed": true
   },
   "outputs": [],
   "source": [
    "submission = pd.read_csv('./input/submission_format.csv',\n",
    "                         index_col=[0, 1, 2])\n",
    "\n",
    "submission.total_cases = np.concatenate([mlp_sj_predictions, mlp_iq_predictions])\n",
    "submission.to_csv('./input/mlp_submission.csv')"
   ]
  }
 ],
 "metadata": {
  "kernelspec": {
   "display_name": "Python 3",
   "language": "python",
   "name": "python3"
  },
  "language_info": {
   "codemirror_mode": {
    "name": "ipython",
    "version": 3
   },
   "file_extension": ".py",
   "mimetype": "text/x-python",
   "name": "python",
   "nbconvert_exporter": "python",
   "pygments_lexer": "ipython3",
   "version": "3.6.1"
  }
 },
 "nbformat": 4,
 "nbformat_minor": 2
}
