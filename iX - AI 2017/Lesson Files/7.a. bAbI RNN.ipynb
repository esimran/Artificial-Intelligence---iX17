{
 "cells": [
  {
   "cell_type": "code",
   "execution_count": 2,
   "metadata": {},
   "outputs": [
    {
     "name": "stderr",
     "output_type": "stream",
     "text": [
      "Using TensorFlow backend.\n"
     ]
    }
   ],
   "source": [
    "import re\n",
    "import tarfile\n",
    "import functools\n",
    "\n",
    "import numpy as np\n",
    "\n",
    "from keras.utils.data_utils import get_file\n",
    "from keras.layers.embeddings import Embedding\n",
    "from keras import layers\n",
    "from keras.layers import recurrent\n",
    "from keras.models import Model\n",
    "from keras.preprocessing.sequence import pad_sequences"
   ]
  },
  {
   "cell_type": "code",
   "execution_count": 3,
   "metadata": {
    "collapsed": true
   },
   "outputs": [],
   "source": [
    "def tokenize(sent):\n",
    "    '''Return the tokens of a sentence including punctuation.\n",
    "    >>> tokenize('Bob dropped the apple. Where is the apple?')\n",
    "    ['Bob', 'dropped', 'the', 'apple', '.', 'Where', 'is', 'the', 'apple', '?']\n",
    "    '''\n",
    "    return [x.strip() for x in re.split('(\\W+)?', sent) if x.strip()]"
   ]
  },
  {
   "cell_type": "code",
   "execution_count": 4,
   "metadata": {
    "collapsed": true
   },
   "outputs": [],
   "source": [
    "def parse_stories(lines, only_supporting=False):\n",
    "    '''Parse stories provided in the bAbi tasks format\n",
    "    If only_supporting is true,\n",
    "    only the sentences that support the answer are kept.\n",
    "    '''\n",
    "    data = []\n",
    "    story = []\n",
    "    for line in lines:\n",
    "        line = line.decode('utf-8').strip()\n",
    "        nid, line = line.split(' ', 1)\n",
    "        nid = int(nid)\n",
    "        if nid == 1:\n",
    "            story = []\n",
    "        if '\\t' in line:\n",
    "            q, a, supporting = line.split('\\t')\n",
    "            q = tokenize(q)\n",
    "            substory = None\n",
    "            if only_supporting:\n",
    "                # Only select the related substory\n",
    "                supporting = map(int, supporting.split())\n",
    "                substory = [story[i - 1] for i in supporting]\n",
    "            else:\n",
    "                # Provide all the substories\n",
    "                substory = [x for x in story if x]\n",
    "            data.append((substory, q, a))\n",
    "            story.append('')\n",
    "        else:\n",
    "            sent = tokenize(line)\n",
    "            story.append(sent)\n",
    "    return data"
   ]
  },
  {
   "cell_type": "code",
   "execution_count": 5,
   "metadata": {
    "collapsed": true
   },
   "outputs": [],
   "source": [
    "def get_stories(f, only_supporting=False, max_length=None):\n",
    "    '''Given a file name, read the file, retrieve the stories,\n",
    "    and then convert the sentences into a single story.\n",
    "    If max_length is supplied,\n",
    "    any stories longer than max_length tokens will be discarded.\n",
    "    '''\n",
    "    data = parse_stories(f.readlines(), only_supporting=only_supporting)\n",
    "    flatten = lambda data: functools.reduce(lambda x, y: x + y, data)\n",
    "    data = [(flatten(story), q, answer) \n",
    "            for story, q, answer in data if not max_length or len(flatten(story)) < max_length]\n",
    "    return data"
   ]
  },
  {
   "cell_type": "code",
   "execution_count": 6,
   "metadata": {
    "collapsed": true
   },
   "outputs": [],
   "source": [
    "def vectorize_stories(data, word_idx, story_maxlen, query_maxlen):\n",
    "    xs = []\n",
    "    xqs = []\n",
    "    ys = []\n",
    "    for story, query, answer in data:\n",
    "        x = [word_idx[w] for w in story]\n",
    "        xq = [word_idx[w] for w in query]\n",
    "        # let's not forget that index 0 is reserved\n",
    "        y = np.zeros(len(word_idx) + 1)\n",
    "        y[word_idx[answer]] = 1\n",
    "        xs.append(x)\n",
    "        xqs.append(xq)\n",
    "        ys.append(y)\n",
    "    return pad_sequences(xs, maxlen=story_maxlen), pad_sequences(xqs, maxlen=query_maxlen), np.array(ys)"
   ]
  },
  {
   "cell_type": "code",
   "execution_count": 7,
   "metadata": {},
   "outputs": [
    {
     "name": "stdout",
     "output_type": "stream",
     "text": [
      "RNN / Embed / Sent / Query = <class 'keras.layers.recurrent.LSTM'>, 50, 100, 100\n"
     ]
    }
   ],
   "source": [
    "RNN = recurrent.LSTM\n",
    "EMBED_HIDDEN_SIZE = 50\n",
    "SENT_HIDDEN_SIZE = 100\n",
    "QUERY_HIDDEN_SIZE = 100\n",
    "BATCH_SIZE = 32\n",
    "EPOCHS = 20\n",
    "print('RNN / Embed / Sent / Query = {}, {}, {}, {}'.format(RNN,\n",
    "                                                           EMBED_HIDDEN_SIZE,\n",
    "                                                           SENT_HIDDEN_SIZE,\n",
    "                                                           QUERY_HIDDEN_SIZE))"
   ]
  },
  {
   "cell_type": "code",
   "execution_count": 8,
   "metadata": {
    "collapsed": true
   },
   "outputs": [],
   "source": [
    "try:\n",
    "    path = get_file('babi-tasks-v1-2.tar.gz', origin='https://s3.amazonaws.com/text-datasets/babi_tasks_1-20_v1-2.tar.gz')\n",
    "except:\n",
    "    print('Error downloading dataset, please download it manually:\\n'\n",
    "          '$ wget http://www.thespermwhale.com/jaseweston/babi/tasks_1-20_v1-2.tar.gz\\n'\n",
    "          '$ mv tasks_1-20_v1-2.tar.gz ~/.keras/datasets/babi-tasks-v1-2.tar.gz')\n",
    "    raise\n",
    "tar = tarfile.open(path)"
   ]
  },
  {
   "cell_type": "code",
   "execution_count": 9,
   "metadata": {},
   "outputs": [
    {
     "name": "stderr",
     "output_type": "stream",
     "text": [
      "/Users/Simran/anaconda/lib/python3.6/re.py:212: FutureWarning: split() requires a non-empty pattern match.\n",
      "  return _compile(pattern, flags).split(string, maxsplit)\n"
     ]
    }
   ],
   "source": [
    "# Default QA1 with 1000 samples\n",
    "# challenge = 'tasks_1-20_v1-2/en/qa1_single-supporting-fact_{}.txt'\n",
    "# QA1 with 10,000 samples\n",
    "challenge = 'tasks_1-20_v1-2/en-10k/qa1_single-supporting-fact_{}.txt'\n",
    "# QA2 with 1000 samples\n",
    "# challenge = 'tasks_1-20_v1-2/en/qa2_two-supporting-facts_{}.txt'\n",
    "# QA2 with 10,000 samples\n",
    "# challenge = 'tasks_1-20_v1-2/en-10k/qa2_two-supporting-facts_{}.txt'\n",
    "train = get_stories(tar.extractfile(challenge.format('train')))\n",
    "test = get_stories(tar.extractfile(challenge.format('test')))"
   ]
  },
  {
   "cell_type": "code",
   "execution_count": 10,
   "metadata": {
    "collapsed": true
   },
   "outputs": [],
   "source": [
    "vocab = set()\n",
    "for story, q, answer in train + test:\n",
    "    vocab |= set(story + q + [answer])\n",
    "vocab = sorted(vocab)"
   ]
  },
  {
   "cell_type": "code",
   "execution_count": 11,
   "metadata": {},
   "outputs": [
    {
     "name": "stdout",
     "output_type": "stream",
     "text": [
      "['.', '?', 'Daniel', 'John', 'Mary', 'Sandra', 'Where', 'back', 'bathroom', 'bedroom', 'garden', 'hallway', 'is', 'journeyed', 'kitchen', 'moved', 'office', 'the', 'to', 'travelled', 'went']\n"
     ]
    }
   ],
   "source": [
    "print(vocab)"
   ]
  },
  {
   "cell_type": "code",
   "execution_count": 12,
   "metadata": {
    "collapsed": true
   },
   "outputs": [],
   "source": [
    "# Reserve 0 for masking via pad_sequences\n",
    "vocab_size = len(vocab) + 1\n",
    "word_idx = dict((c, i + 1) for i, c in enumerate(vocab))\n",
    "story_maxlen = max(map(len, (x for x, _, _ in train + test)))\n",
    "query_maxlen = max(map(len, (x for _, x, _ in train + test)))"
   ]
  },
  {
   "cell_type": "code",
   "execution_count": 13,
   "metadata": {
    "collapsed": true
   },
   "outputs": [],
   "source": [
    "x, xq, y = vectorize_stories(train, word_idx, story_maxlen, query_maxlen)\n",
    "tx, txq, ty = vectorize_stories(test, word_idx, story_maxlen, query_maxlen)"
   ]
  },
  {
   "cell_type": "code",
   "execution_count": 14,
   "metadata": {
    "scrolled": true
   },
   "outputs": [
    {
     "name": "stdout",
     "output_type": "stream",
     "text": [
      "[[ 0  0  0 ..., 18  9  1]\n",
      " [ 0  0  0 ..., 18 10  1]\n",
      " [ 0  0  0 ..., 18 15  1]\n",
      " ..., \n",
      " [ 0  0  0 ..., 18 10  1]\n",
      " [ 0  0  0 ..., 18  9  1]\n",
      " [ 0  0  0 ..., 18 11  1]]\n"
     ]
    }
   ],
   "source": [
    "print(tx)"
   ]
  },
  {
   "cell_type": "code",
   "execution_count": 15,
   "metadata": {
    "scrolled": true
   },
   "outputs": [
    {
     "name": "stdout",
     "output_type": "stream",
     "text": [
      "['went', 'went', 'went', 'went', 'went', 'went', 'went', 'went', 'went', 'went', 'went', 'went', 'went', 'went', 'went', 'went', 'went', 'went', 'went', 'went', 'went', 'went', 'went', 'went', 'went', 'went', 'went', 'went', 'went', 'went', 'went', 'went', 'went', 'went', 'went', 'went', 'went', 'went', 'went', 'went', 'went', 'went', 'went', 'went', 'went', 'went', 'went', 'went', 'went', 'went', 'went', 'went', 'went', 'went', 'went', 'went', 'Mary', 'moved', 'to', 'the', 'bathroom', '.', 'John', 'went', 'to', 'the', 'hallway', '.']\n"
     ]
    }
   ],
   "source": [
    "print([vocab[word-1] for word in x[0]])"
   ]
  },
  {
   "cell_type": "code",
   "execution_count": 16,
   "metadata": {},
   "outputs": [
    {
     "name": "stdout",
     "output_type": "stream",
     "text": [
      "vocab = ['.', '?', 'Daniel', 'John', 'Mary', 'Sandra', 'Where', 'back', 'bathroom', 'bedroom', 'garden', 'hallway', 'is', 'journeyed', 'kitchen', 'moved', 'office', 'the', 'to', 'travelled', 'went']\n",
      "x.shape = (10000, 68)\n",
      "xq.shape = (10000, 4)\n",
      "y.shape = (10000, 22)\n",
      "story_maxlen, query_maxlen = 68, 4\n"
     ]
    }
   ],
   "source": [
    "print('vocab = {}'.format(vocab))\n",
    "print('x.shape = {}'.format(x.shape))\n",
    "print('xq.shape = {}'.format(xq.shape))\n",
    "print('y.shape = {}'.format(y.shape))\n",
    "print('story_maxlen, query_maxlen = {}, {}'.format(story_maxlen, query_maxlen))"
   ]
  },
  {
   "cell_type": "code",
   "execution_count": 17,
   "metadata": {},
   "outputs": [
    {
     "name": "stdout",
     "output_type": "stream",
     "text": [
      "Build model...\n"
     ]
    }
   ],
   "source": [
    "print('Build model...')\n",
    "\n",
    "sentence = layers.Input(shape=(story_maxlen,), dtype='int32')\n",
    "encoded_sentence = layers.Embedding(vocab_size, EMBED_HIDDEN_SIZE)(sentence)\n",
    "encoded_sentence = layers.Dropout(0.15)(encoded_sentence)\n",
    "\n",
    "question = layers.Input(shape=(query_maxlen,), dtype='int32')\n",
    "encoded_question = layers.Embedding(vocab_size, EMBED_HIDDEN_SIZE)(question)\n",
    "encoded_question = layers.Dropout(0.15)(encoded_question)\n",
    "encoded_question = RNN(EMBED_HIDDEN_SIZE)(encoded_question)\n",
    "encoded_question = layers.RepeatVector(story_maxlen)(encoded_question)\n",
    "\n",
    "merged = layers.add([encoded_sentence, encoded_question])\n",
    "merged = RNN(EMBED_HIDDEN_SIZE)(merged)\n",
    "merged = layers.Dropout(0.15)(merged)\n",
    "preds = layers.Dense(vocab_size, activation='softmax')(merged)\n",
    "\n",
    "model = Model([sentence, question], preds)\n",
    "model.compile(optimizer='adadelta',\n",
    "              loss='categorical_crossentropy',\n",
    "              metrics=['accuracy'])"
   ]
  },
  {
   "cell_type": "code",
   "execution_count": 18,
   "metadata": {},
   "outputs": [
    {
     "name": "stdout",
     "output_type": "stream",
     "text": [
      "Training\n",
      "Train on 9500 samples, validate on 500 samples\n",
      "Epoch 1/20\n",
      "9500/9500 [==============================] - 84s - loss: 1.9574 - acc: 0.1695 - val_loss: 1.7968 - val_acc: 0.1780\n",
      "Epoch 2/20\n",
      "9500/9500 [==============================] - 78s - loss: 1.7405 - acc: 0.2615 - val_loss: 1.6141 - val_acc: 0.3860\n",
      "Epoch 3/20\n",
      "9500/9500 [==============================] - 74s - loss: 1.4261 - acc: 0.4807 - val_loss: 1.3510 - val_acc: 0.4860\n",
      "Epoch 4/20\n",
      "9500/9500 [==============================] - 71s - loss: 1.2700 - acc: 0.5137 - val_loss: 1.2784 - val_acc: 0.4720\n",
      "Epoch 5/20\n",
      "9500/9500 [==============================] - 65s - loss: 1.2026 - acc: 0.5223 - val_loss: 1.2185 - val_acc: 0.5040\n",
      "Epoch 6/20\n",
      "9500/9500 [==============================] - 68s - loss: 1.1623 - acc: 0.5247 - val_loss: 1.2180 - val_acc: 0.5020\n",
      "Epoch 7/20\n",
      "9500/9500 [==============================] - 66s - loss: 1.1390 - acc: 0.5261 - val_loss: 1.1837 - val_acc: 0.5100\n",
      "Epoch 8/20\n",
      "9500/9500 [==============================] - 63s - loss: 1.1157 - acc: 0.5300 - val_loss: 1.1666 - val_acc: 0.5160\n",
      "Epoch 9/20\n",
      "9500/9500 [==============================] - 63s - loss: 1.1018 - acc: 0.5267 - val_loss: 1.1717 - val_acc: 0.5040\n",
      "Epoch 10/20\n",
      "9500/9500 [==============================] - 65s - loss: 1.0920 - acc: 0.5315 - val_loss: 1.1560 - val_acc: 0.5100\n",
      "Epoch 11/20\n",
      "9500/9500 [==============================] - 65s - loss: 1.0887 - acc: 0.5307 - val_loss: 1.1401 - val_acc: 0.4880\n",
      "Epoch 12/20\n",
      "9500/9500 [==============================] - 66s - loss: 1.0813 - acc: 0.5319 - val_loss: 1.1426 - val_acc: 0.4900\n",
      "Epoch 13/20\n",
      "9500/9500 [==============================] - 67s - loss: 1.0707 - acc: 0.5309 - val_loss: 1.1310 - val_acc: 0.5040\n",
      "Epoch 14/20\n",
      "9500/9500 [==============================] - 65s - loss: 1.0655 - acc: 0.5297 - val_loss: 1.1257 - val_acc: 0.5140\n",
      "Epoch 15/20\n",
      "9500/9500 [==============================] - 62s - loss: 1.0627 - acc: 0.5367 - val_loss: 1.1251 - val_acc: 0.5200\n",
      "Epoch 16/20\n",
      "9500/9500 [==============================] - 65s - loss: 1.0558 - acc: 0.5287 - val_loss: 1.1251 - val_acc: 0.5000\n",
      "Epoch 17/20\n",
      "9500/9500 [==============================] - 63s - loss: 1.0512 - acc: 0.5319 - val_loss: 1.1140 - val_acc: 0.5040\n",
      "Epoch 18/20\n",
      "9500/9500 [==============================] - 64s - loss: 1.0460 - acc: 0.5317 - val_loss: 1.1166 - val_acc: 0.5120\n",
      "Epoch 19/20\n",
      "9500/9500 [==============================] - 66s - loss: 1.0397 - acc: 0.5334 - val_loss: 1.1103 - val_acc: 0.5020\n",
      "Epoch 20/20\n",
      "9500/9500 [==============================] - 67s - loss: 1.0383 - acc: 0.5380 - val_loss: 1.1078 - val_acc: 0.5020\n",
      " 992/1000 [============================>.] - ETA: 0sTest loss / test accuracy = 1.0957 / 0.5120\n"
     ]
    }
   ],
   "source": [
    "print('Training')\n",
    "model.fit([x, xq], y,\n",
    "          batch_size=BATCH_SIZE,\n",
    "          epochs=EPOCHS,\n",
    "          validation_split=0.05)\n",
    "loss, acc = model.evaluate([tx, txq], ty,\n",
    "                           batch_size=BATCH_SIZE)\n",
    "print('Test loss / test accuracy = {:.4f} / {:.4f}'.format(loss, acc))"
   ]
  },
  {
   "cell_type": "code",
   "execution_count": 19,
   "metadata": {
    "collapsed": true
   },
   "outputs": [],
   "source": [
    "predictions_for = model.predict([tx, txq])"
   ]
  },
  {
   "cell_type": "code",
   "execution_count": 20,
   "metadata": {
    "collapsed": true
   },
   "outputs": [],
   "source": [
    "def mindex(array, maxval):\n",
    "    for index in range(len(array)):\n",
    "        entry = array[index]\n",
    "        if maxval == entry:\n",
    "            return index"
   ]
  },
  {
   "cell_type": "code",
   "execution_count": 21,
   "metadata": {
    "collapsed": true
   },
   "outputs": [],
   "source": [
    "potential_words = [mindex(array, max(array)) for array in predictions_for]"
   ]
  },
  {
   "cell_type": "code",
   "execution_count": 22,
   "metadata": {
    "collapsed": true
   },
   "outputs": [],
   "source": [
    "words = []\n",
    "for index in range(len(potential_words)):\n",
    "    words.append(vocab[potential_words[index]])"
   ]
  },
  {
   "cell_type": "code",
   "execution_count": 23,
   "metadata": {},
   "outputs": [
    {
     "name": "stdout",
     "output_type": "stream",
     "text": [
      "['bedroom', 'garden', 'moved', 'hallway', 'moved', 'is', 'hallway', 'is', 'is', 'the', 'moved', 'the', 'moved', 'hallway', 'garden', 'moved', 'hallway', 'moved', 'is', 'hallway', 'is', 'the', 'bedroom', 'garden', 'hallway', 'moved', 'garden', 'moved', 'hallway', 'moved', 'the', 'the', 'moved', 'moved', 'bedroom', 'the', 'is', 'moved', 'is', 'hallway', 'bedroom', 'hallway', 'hallway', 'moved', 'hallway', 'is', 'garden', 'hallway', 'the', 'garden', 'garden', 'garden', 'hallway', 'is', 'moved', 'bedroom', 'hallway', 'garden', 'moved', 'the', 'is', 'the', 'bedroom', 'hallway', 'bedroom', 'moved', 'moved', 'garden', 'the', 'is', 'hallway', 'the', 'hallway', 'garden', 'bedroom', 'moved', 'the', 'moved', 'garden', 'the', 'hallway', 'hallway', 'garden', 'the', 'the', 'hallway', 'hallway', 'garden', 'the', 'moved', 'bedroom', 'bedroom', 'is', 'bedroom', 'the', 'moved', 'moved', 'moved', 'garden', 'moved', 'garden', 'bedroom', 'is', 'hallway', 'garden', 'is', 'is', 'bedroom', 'hallway', 'moved', 'bedroom', 'bedroom', 'moved', 'moved', 'the', 'hallway', 'moved', 'bedroom', 'is', 'the', 'garden', 'bedroom', 'bedroom', 'bedroom', 'the', 'the', 'hallway', 'the', 'hallway', 'hallway', 'hallway', 'the', 'moved', 'garden', 'garden', 'bedroom', 'the', 'moved', 'bedroom', 'bedroom', 'the', 'is', 'the', 'bedroom', 'garden', 'moved', 'garden', 'moved', 'moved', 'hallway', 'hallway', 'hallway', 'the', 'the', 'garden', 'garden', 'garden', 'bedroom', 'the', 'is', 'is', 'bedroom', 'garden', 'the', 'bedroom', 'hallway', 'hallway', 'moved', 'moved', 'garden', 'the', 'hallway', 'hallway', 'bedroom', 'is', 'the', 'moved', 'garden', 'hallway', 'the', 'is', 'the', 'is', 'is', 'garden', 'moved', 'bedroom', 'bedroom', 'moved', 'is', 'is', 'moved', 'hallway', 'garden', 'is', 'hallway', 'moved', 'bedroom', 'bedroom', 'garden', 'the', 'the', 'garden', 'garden', 'garden', 'bedroom', 'hallway', 'is', 'garden', 'moved', 'hallway', 'garden', 'bedroom', 'bedroom', 'garden', 'is', 'hallway', 'is', 'is', 'hallway', 'is', 'is', 'bedroom', 'moved', 'garden', 'the', 'the', 'hallway', 'bedroom', 'the', 'the', 'moved', 'hallway', 'the', 'is', 'garden', 'bedroom', 'moved', 'garden', 'moved', 'is', 'moved', 'hallway', 'is', 'moved', 'moved', 'hallway', 'bedroom', 'moved', 'hallway', 'garden', 'garden', 'bedroom', 'garden', 'garden', 'garden', 'garden', 'hallway', 'hallway', 'hallway', 'hallway', 'the', 'is', 'the', 'hallway', 'hallway', 'hallway', 'bedroom', 'garden', 'garden', 'moved', 'the', 'hallway', 'moved', 'hallway', 'moved', 'moved', 'garden', 'is', 'hallway', 'bedroom', 'hallway', 'the', 'moved', 'hallway', 'the', 'hallway', 'is', 'hallway', 'bedroom', 'moved', 'is', 'garden', 'moved', 'moved', 'hallway', 'is', 'hallway', 'is', 'garden', 'bedroom', 'is', 'the', 'the', 'the', 'hallway', 'bedroom', 'bedroom', 'bedroom', 'moved', 'hallway', 'the', 'hallway', 'hallway', 'moved', 'the', 'garden', 'the', 'moved', 'moved', 'hallway', 'moved', 'moved', 'hallway', 'the', 'bedroom', 'garden', 'hallway', 'bedroom', 'the', 'moved', 'the', 'the', 'the', 'moved', 'hallway', 'is', 'hallway', 'is', 'the', 'is', 'garden', 'the', 'moved', 'hallway', 'the', 'hallway', 'is', 'moved', 'moved', 'hallway', 'garden', 'hallway', 'garden', 'bedroom', 'the', 'the', 'is', 'hallway', 'is', 'hallway', 'bedroom', 'hallway', 'hallway', 'hallway', 'hallway', 'moved', 'is', 'is', 'moved', 'is', 'is', 'garden', 'moved', 'the', 'garden', 'moved', 'the', 'hallway', 'hallway', 'bedroom', 'is', 'is', 'the', 'moved', 'bedroom', 'hallway', 'the', 'moved', 'is', 'moved', 'garden', 'hallway', 'garden', 'bedroom', 'the', 'hallway', 'hallway', 'garden', 'hallway', 'garden', 'hallway', 'the', 'moved', 'the', 'garden', 'the', 'the', 'garden', 'garden', 'garden', 'garden', 'bedroom', 'is', 'the', 'garden', 'hallway', 'hallway', 'hallway', 'the', 'moved', 'is', 'bedroom', 'is', 'garden', 'bedroom', 'moved', 'the', 'garden', 'garden', 'moved', 'moved', 'moved', 'is', 'garden', 'hallway', 'bedroom', 'garden', 'hallway', 'hallway', 'hallway', 'is', 'hallway', 'bedroom', 'hallway', 'garden', 'bedroom', 'moved', 'hallway', 'moved', 'moved', 'garden', 'moved', 'moved', 'bedroom', 'moved', 'moved', 'garden', 'hallway', 'is', 'the', 'hallway', 'the', 'the', 'the', 'hallway', 'moved', 'hallway', 'garden', 'the', 'garden', 'bedroom', 'is', 'hallway', 'bedroom', 'the', 'bedroom', 'moved', 'hallway', 'garden', 'moved', 'the', 'is', 'is', 'moved', 'garden', 'is', 'is', 'moved', 'bedroom', 'moved', 'moved', 'garden', 'garden', 'moved', 'garden', 'moved', 'garden', 'is', 'moved', 'moved', 'hallway', 'garden', 'moved', 'bedroom', 'moved', 'garden', 'bedroom', 'bedroom', 'garden', 'garden', 'garden', 'garden', 'bedroom', 'garden', 'bedroom', 'garden', 'bedroom', 'is', 'hallway', 'the', 'hallway', 'is', 'garden', 'hallway', 'is', 'the', 'hallway', 'the', 'is', 'hallway', 'the', 'hallway', 'garden', 'hallway', 'hallway', 'garden', 'is', 'hallway', 'garden', 'hallway', 'the', 'hallway', 'is', 'moved', 'hallway', 'moved', 'is', 'garden', 'garden', 'garden', 'is', 'moved', 'hallway', 'moved', 'is', 'the', 'garden', 'bedroom', 'bedroom', 'hallway', 'garden', 'garden', 'moved', 'hallway', 'hallway', 'hallway', 'moved', 'the', 'is', 'hallway', 'hallway', 'moved', 'the', 'hallway', 'bedroom', 'garden', 'bedroom', 'bedroom', 'bedroom', 'moved', 'moved', 'hallway', 'hallway', 'garden', 'garden', 'is', 'bedroom', 'garden', 'garden', 'the', 'the', 'the', 'hallway', 'hallway', 'bedroom', 'is', 'hallway', 'is', 'hallway', 'garden', 'garden', 'hallway', 'moved', 'the', 'hallway', 'the', 'hallway', 'garden', 'garden', 'moved', 'the', 'hallway', 'hallway', 'bedroom', 'bedroom', 'moved', 'bedroom', 'the', 'is', 'hallway', 'garden', 'bedroom', 'the', 'bedroom', 'garden', 'is', 'bedroom', 'garden', 'hallway', 'hallway', 'garden', 'moved', 'bedroom', 'bedroom', 'hallway', 'the', 'moved', 'hallway', 'bedroom', 'hallway', 'the', 'garden', 'the', 'hallway', 'moved', 'is', 'the', 'bedroom', 'garden', 'hallway', 'hallway', 'moved', 'moved', 'hallway', 'bedroom', 'moved', 'hallway', 'hallway', 'hallway', 'is', 'is', 'is', 'the', 'hallway', 'the', 'hallway', 'the', 'garden', 'is', 'garden', 'moved', 'the', 'moved', 'hallway', 'bedroom', 'is', 'is', 'garden', 'bedroom', 'moved', 'moved', 'moved', 'bedroom', 'hallway', 'hallway', 'bedroom', 'the', 'the', 'is', 'hallway', 'is', 'bedroom', 'is', 'the', 'hallway', 'bedroom', 'is', 'moved', 'hallway', 'is', 'is', 'moved', 'bedroom', 'bedroom', 'hallway', 'the', 'the', 'hallway', 'moved', 'hallway', 'hallway', 'moved', 'moved', 'is', 'hallway', 'is', 'the', 'the', 'the', 'hallway', 'is', 'bedroom', 'the', 'garden', 'hallway', 'the', 'moved', 'moved', 'bedroom', 'bedroom', 'is', 'is', 'the', 'is', 'is', 'bedroom', 'bedroom', 'bedroom', 'garden', 'hallway', 'moved', 'bedroom', 'moved', 'bedroom', 'the', 'hallway', 'is', 'bedroom', 'moved', 'the', 'garden', 'hallway', 'garden', 'hallway', 'hallway', 'moved', 'the', 'hallway', 'bedroom', 'bedroom', 'bedroom', 'the', 'hallway', 'moved', 'bedroom', 'garden', 'the', 'is', 'bedroom', 'hallway', 'the', 'the', 'bedroom', 'garden', 'moved', 'moved', 'bedroom', 'is', 'bedroom', 'is', 'is', 'moved', 'is', 'hallway', 'bedroom', 'bedroom', 'garden', 'hallway', 'is', 'hallway', 'garden', 'is', 'moved', 'hallway', 'the', 'the', 'garden', 'hallway', 'bedroom', 'hallway', 'garden', 'garden', 'moved', 'the', 'hallway', 'garden', 'hallway', 'is', 'moved', 'hallway', 'garden', 'hallway', 'is', 'moved', 'the', 'the', 'moved', 'the', 'bedroom', 'hallway', 'hallway', 'bedroom', 'moved', 'bedroom', 'the', 'is', 'garden', 'moved', 'moved', 'hallway', 'bedroom', 'garden', 'bedroom', 'garden', 'bedroom', 'bedroom', 'is', 'hallway', 'is', 'hallway', 'the', 'hallway', 'moved', 'moved', 'the', 'moved', 'the', 'bedroom', 'hallway', 'moved', 'is', 'hallway', 'garden', 'is', 'garden', 'garden', 'garden', 'moved', 'the', 'bedroom', 'is', 'is', 'moved', 'garden', 'hallway', 'garden', 'moved', 'moved', 'is', 'bedroom', 'hallway', 'is', 'is', 'hallway', 'hallway', 'moved', 'moved', 'hallway', 'moved', 'garden', 'the', 'bedroom', 'is', 'moved', 'garden', 'garden', 'the', 'bedroom', 'garden', 'the', 'the', 'hallway', 'bedroom', 'moved', 'the', 'hallway', 'hallway', 'the', 'bedroom', 'bedroom', 'the', 'hallway', 'hallway', 'moved', 'hallway', 'moved', 'hallway', 'bedroom', 'the', 'is', 'garden', 'bedroom', 'hallway', 'hallway', 'moved', 'is', 'hallway', 'the', 'the', 'moved', 'hallway', 'is', 'moved', 'garden', 'hallway', 'bedroom', 'bedroom', 'the', 'bedroom', 'bedroom', 'garden', 'hallway', 'the', 'moved', 'is', 'is', 'garden', 'garden', 'bedroom', 'garden', 'the', 'the', 'hallway', 'bedroom', 'the', 'bedroom', 'bedroom', 'hallway', 'moved', 'is', 'moved', 'moved', 'the', 'hallway', 'bedroom', 'bedroom', 'garden', 'hallway', 'garden', 'is', 'bedroom', 'moved', 'moved', 'the', 'hallway', 'bedroom', 'bedroom', 'bedroom', 'moved', 'bedroom', 'moved', 'bedroom', 'bedroom', 'hallway', 'bedroom', 'garden', 'garden', 'moved', 'is', 'garden', 'bedroom', 'hallway', 'hallway', 'hallway', 'moved', 'garden', 'bedroom', 'bedroom', 'bedroom', 'hallway', 'moved', 'hallway', 'bedroom', 'the', 'moved', 'is', 'garden', 'hallway', 'hallway']\n"
     ]
    }
   ],
   "source": [
    "print(words)"
   ]
  },
  {
   "cell_type": "code",
   "execution_count": null,
   "metadata": {
    "collapsed": true
   },
   "outputs": [],
   "source": []
  }
 ],
 "metadata": {
  "kernelspec": {
   "display_name": "Python 3",
   "language": "python",
   "name": "python3"
  },
  "language_info": {
   "codemirror_mode": {
    "name": "ipython",
    "version": 3
   },
   "file_extension": ".py",
   "mimetype": "text/x-python",
   "name": "python",
   "nbconvert_exporter": "python",
   "pygments_lexer": "ipython3",
   "version": "3.6.1"
  }
 },
 "nbformat": 4,
 "nbformat_minor": 2
}
