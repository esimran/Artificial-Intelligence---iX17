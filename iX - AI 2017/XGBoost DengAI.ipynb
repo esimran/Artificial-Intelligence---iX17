{
 "cells": [
  {
   "cell_type": "code",
   "execution_count": 12,
   "metadata": {},
   "outputs": [],
   "source": [
    "import numpy as np\n",
    "import pandas as pd\n",
    "\n",
    "import warnings\n",
    "warnings.filterwarnings(\"ignore\")\n",
    "\n",
    "import seaborn as sns\n",
    "sns.set(style=\"white\", color_codes=True)\n",
    "\n",
    "import matplotlib.pyplot as plt\n",
    "from sklearn.metrics import roc_auc_score\n",
    "from sklearn.ensemble import GradientBoostingRegressor\n",
    "from sklearn.ensemble import GradientBoostingClassifier\n",
    "from sklearn.feature_selection import SelectFromModel, VarianceThreshold\n",
    "from sklearn.cross_validation import KFold\n",
    "from sklearn import metrics\n",
    "import xgboost as xgb"
   ]
  },
  {
   "cell_type": "code",
   "execution_count": 13,
   "metadata": {
    "collapsed": true
   },
   "outputs": [],
   "source": [
    "total_labels = pd.read_csv('./input/dengue_labels_train.csv')\n",
    "total_features = pd.read_csv('./input/dengue_features_train.csv')\n",
    "total_test_features = pd.read_csv('./input/dengue_features_test.csv')\n",
    "target = total_labels.drop(total_labels.columns[[0, 1, 2]], axis=1) "
   ]
  },
  {
   "cell_type": "code",
   "execution_count": 14,
   "metadata": {
    "collapsed": true
   },
   "outputs": [],
   "source": [
    "train = total_features.drop(total_features.columns[[1, 2, 3]], axis=1) \n",
    "total_test_features = total_test_features.drop(total_test_features.columns[[1, 2, 3]], axis=1)"
   ]
  },
  {
   "cell_type": "code",
   "execution_count": 15,
   "metadata": {
    "collapsed": true
   },
   "outputs": [],
   "source": [
    "#differentiates the two cities with 0 or 1. XGBoost is decision tree based so this should not decrease accuracy\n",
    "mymap = {'sj':0, 'iq':1}\n",
    "train = train.applymap(lambda s: mymap.get(s) if s in mymap else s)\n",
    "total_test_features = total_test_features.applymap(lambda s: mymap.get(s) if s in mymap else s)"
   ]
  },
  {
   "cell_type": "code",
   "execution_count": 16,
   "metadata": {
    "collapsed": true
   },
   "outputs": [],
   "source": [
    "#frontfill the missing data as the features are in chronological order\n",
    "train = train.fillna(method='ffill')\n",
    "test = total_test_features.fillna(method='ffill')"
   ]
  },
  {
   "cell_type": "code",
   "execution_count": 17,
   "metadata": {},
   "outputs": [
    {
     "name": "stdout",
     "output_type": "stream",
     "text": [
      "(1456, 21) (416, 21)\n"
     ]
    }
   ],
   "source": [
    "#removes unnecessary columns, though none are present in this case\n",
    "remove = []\n",
    "for col in train.columns:\n",
    "    if train[col].std() == 0:\n",
    "        remove.append(col)\n",
    "\n",
    "train.drop(remove, axis=1, inplace=True)\n",
    "test.drop(remove, axis=1, inplace=True)\n",
    "\n",
    "print(train.shape, test.shape)"
   ]
  },
  {
   "cell_type": "markdown",
   "metadata": {},
   "source": [
    "The next lines of code before the model training reduce the training and testing features to the most important features"
   ]
  },
  {
   "cell_type": "code",
   "execution_count": 18,
   "metadata": {},
   "outputs": [],
   "source": [
    "Cols = train.columns.values.tolist()\n",
    "clf = GradientBoostingRegressor(random_state = 8001)"
   ]
  },
  {
   "cell_type": "code",
   "execution_count": 19,
   "metadata": {
    "collapsed": true
   },
   "outputs": [],
   "source": [
    "selector = clf.fit(train, target)"
   ]
  },
  {
   "cell_type": "code",
   "execution_count": 20,
   "metadata": {
    "collapsed": true
   },
   "outputs": [],
   "source": [
    "importances = selector.feature_importances_\n",
    "fs = SelectFromModel(selector, prefit=True)\n",
    "train = fs.transform(train)\n",
    "test = fs.transform(test)"
   ]
  },
  {
   "cell_type": "code",
   "execution_count": 21,
   "metadata": {},
   "outputs": [
    {
     "name": "stdout",
     "output_type": "stream",
     "text": [
      "['city', 'reanalysis_avg_temp_k', 'station_max_temp_c', 'reanalysis_max_air_temp_k', 'station_min_temp_c']\n"
     ]
    }
   ],
   "source": [
    "selectedCols = train.shape[1]\n",
    "sortedCols = [col for importance, col  in sorted(zip(importances, Cols))]\n",
    "sortedCols = sortedCols[0:selectedCols]\n",
    "train = pd.DataFrame(train)\n",
    "test = pd.DataFrame(test)\n",
    "train.columns = sortedCols\n",
    "test.columns = sortedCols\n",
    "\n",
    "print(sortedCols[0:5])"
   ]
  },
  {
   "cell_type": "code",
   "execution_count": 25,
   "metadata": {
    "collapsed": true
   },
   "outputs": [],
   "source": [
    "Cols = train.columns.values.tolist()\n",
    "clf = GradientBoostingRegressor(random_state=1729)\n",
    "selector = clf.fit(train, target)\n",
    "\n",
    "importances = selector.feature_importances_\n",
    "fs = SelectFromModel(selector, prefit=True)\n",
    "train = fs.transform(train)\n",
    "test = fs.transform(test)\n",
    "\n",
    "selectedCols = train.shape[1]\n",
    "sortedCols = [col for importance, col  in sorted(zip(importances, Cols))]\n",
    "sortedCols = sortedCols[0:selectedCols]"
   ]
  },
  {
   "cell_type": "code",
   "execution_count": 26,
   "metadata": {
    "collapsed": true
   },
   "outputs": [],
   "source": [
    "target = np.array(target)"
   ]
  },
  {
   "cell_type": "code",
   "execution_count": 27,
   "metadata": {},
   "outputs": [
    {
     "name": "stdout",
     "output_type": "stream",
     "text": [
      "28.69583868\n",
      "47.235344374\n",
      "29.7537791827\n",
      "17.714219949\n",
      "15.7721701713\n",
      "17.478118436\n",
      "15.233830276\n",
      "6.30928999473\n",
      "5.47018019578\n",
      "8.05103472841\n"
     ]
    }
   ],
   "source": [
    "predictedResult = np.zeros(train.shape[0])\n",
    "\n",
    "kf = KFold(train.shape[0], n_folds=10)\n",
    "\n",
    "testPred = []\n",
    "\n",
    "for trainIndex, testIndex in kf:\n",
    "    trainFold, testFold = train[trainIndex], train[testIndex]\n",
    "    trainFoldTarget, testFoldTarget = target[trainIndex], target[testIndex]\n",
    "    \n",
    "    xgbc = xgb.XGBRegressor(n_estimators = 125, # number of boosted trees\n",
    "                             learning_rate = 0.01, # step size shrinkage used in update to prevent overfitting\n",
    "                             max_depth = 8, # maximum depth of a tree\n",
    "                             subsample = 0.7, # subsample ratio of the training set (Stochastic gradient boosting)\n",
    "                             colsample_bytree = 0.75) # subsample features\n",
    "    \n",
    "    xgbc.fit(trainFold, trainFoldTarget)\n",
    "    \n",
    "    xgbpred =xgbc.predict(testFold)\n",
    "    testPred.append(xgbc.predict(test))\n",
    "    predictedResult[testIndex] = xgbpred\n",
    "    \n",
    "    # Print the AUC\n",
    "    print(metrics.mean_absolute_error(testFoldTarget, xgbpred))"
   ]
  },
  {
   "cell_type": "code",
   "execution_count": 49,
   "metadata": {
    "collapsed": true
   },
   "outputs": [],
   "source": [
    "xgbpred = [int(round(i)) for i in xgbc.predict(test)]"
   ]
  },
  {
   "cell_type": "code",
   "execution_count": 50,
   "metadata": {
    "collapsed": true
   },
   "outputs": [],
   "source": [
    "submission = pd.read_csv('./input/submission_format.csv',\n",
    "                         index_col=[0, 1, 2])\n",
    "\n",
    "submission.total_cases = xgbpred\n",
    "submission.to_csv('./input/xgb_submission.csv')"
   ]
  }
 ],
 "metadata": {
  "kernelspec": {
   "display_name": "Python 3",
   "language": "python",
   "name": "python3"
  },
  "language_info": {
   "codemirror_mode": {
    "name": "ipython",
    "version": 3
   },
   "file_extension": ".py",
   "mimetype": "text/x-python",
   "name": "python",
   "nbconvert_exporter": "python",
   "pygments_lexer": "ipython3",
   "version": "3.6.1"
  }
 },
 "nbformat": 4,
 "nbformat_minor": 2
}
