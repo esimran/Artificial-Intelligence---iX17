{
 "cells": [
  {
   "cell_type": "code",
   "execution_count": 169,
   "metadata": {},
   "outputs": [],
   "source": [
    "import numpy as np\n",
    "import pandas as pd\n",
    "\n",
    "import warnings\n",
    "warnings.filterwarnings(\"ignore\")\n",
    "\n",
    "import seaborn as sns\n",
    "sns.set(style=\"white\", color_codes=True)\n",
    "\n",
    "import matplotlib.pyplot as plt\n",
    "from sklearn.metrics import roc_auc_score\n",
    "from sklearn.ensemble import GradientBoostingRegressor\n",
    "from sklearn.ensemble import GradientBoostingClassifier\n",
    "from sklearn.feature_selection import SelectFromModel, VarianceThreshold\n",
    "from sklearn.cross_validation import KFold\n",
    "from sklearn import metrics\n",
    "import xgboost as xgb"
   ]
  },
  {
   "cell_type": "code",
   "execution_count": 170,
   "metadata": {
    "collapsed": true
   },
   "outputs": [],
   "source": [
    "total_labels = pd.read_csv('./input/dengue_labels_train.csv')\n",
    "total_features = pd.read_csv('./input/dengue_features_train.csv')\n",
    "total_test_features = pd.read_csv('./input/dengue_features_test.csv')\n",
    "train = total_features.drop(total_features.index[[1456]], axis=0) \n",
    "target = total_labels.drop(total_labels.columns[[0, 1, 2]], axis=1) "
   ]
  },
  {
   "cell_type": "code",
   "execution_count": 171,
   "metadata": {},
   "outputs": [],
   "source": [
    "train = train.drop(train.columns[[1, 2, 3]], axis=1) \n",
    "total_test_features = total_test_features.drop(total_test_features.columns[[1, 2, 3]], axis=1)"
   ]
  },
  {
   "cell_type": "code",
   "execution_count": 172,
   "metadata": {},
   "outputs": [],
   "source": [
    "mymap = {'sj':0, 'iq':1}\n",
    "train = train.applymap(lambda s: mymap.get(s) if s in mymap else s)\n",
    "total_test_features = total_test_features.applymap(lambda s: mymap.get(s) if s in mymap else s)"
   ]
  },
  {
   "cell_type": "code",
   "execution_count": 173,
   "metadata": {
    "collapsed": true
   },
   "outputs": [],
   "source": [
    "train = train.fillna(method='ffill')\n",
    "test = total_test_features.fillna(method='ffill')"
   ]
  },
  {
   "cell_type": "code",
   "execution_count": 174,
   "metadata": {},
   "outputs": [
    {
     "name": "stdout",
     "output_type": "stream",
     "text": [
      "(1456, 21) (416, 21)\n"
     ]
    }
   ],
   "source": [
    "remove = []\n",
    "for col in train.columns:\n",
    "    if train[col].std() == 0:\n",
    "        remove.append(col)\n",
    "\n",
    "train.drop(remove, axis=1, inplace=True)\n",
    "test.drop(remove, axis=1, inplace=True)\n",
    "\n",
    "print(train.shape, test.shape)"
   ]
  },
  {
   "cell_type": "code",
   "execution_count": 175,
   "metadata": {
    "collapsed": true
   },
   "outputs": [],
   "source": [
    "Cols = train.columns.values.tolist()\n",
    "clf = GradientBoostingRegressor(random_state = 8001)"
   ]
  },
  {
   "cell_type": "code",
   "execution_count": 176,
   "metadata": {},
   "outputs": [],
   "source": [
    "selector = clf.fit(train, target)"
   ]
  },
  {
   "cell_type": "code",
   "execution_count": 177,
   "metadata": {},
   "outputs": [],
   "source": [
    "importances = selector.feature_importances_\n",
    "fs = SelectFromModel(selector, prefit=True)\n",
    "train = fs.transform(train)\n",
    "test = fs.transform(test)"
   ]
  },
  {
   "cell_type": "code",
   "execution_count": 178,
   "metadata": {},
   "outputs": [
    {
     "name": "stdout",
     "output_type": "stream",
     "text": [
      "['city', 'reanalysis_avg_temp_k', 'station_max_temp_c', 'reanalysis_max_air_temp_k', 'station_min_temp_c']\n"
     ]
    }
   ],
   "source": [
    "selectedCols = train.shape[1]\n",
    "sortedCols = [col for importance, col  in sorted(zip(importances, Cols))]\n",
    "sortedCols = sortedCols[0:selectedCols]\n",
    "train = pd.DataFrame(train)\n",
    "test = pd.DataFrame(test)\n",
    "train.columns = sortedCols\n",
    "test.columns = sortedCols\n",
    "\n",
    "print(sortedCols[0:5])"
   ]
  },
  {
   "cell_type": "code",
   "execution_count": 179,
   "metadata": {
    "collapsed": true
   },
   "outputs": [],
   "source": [
    "Cols = train.columns.values.tolist()\n",
    "clf = GradientBoostingRegressor(random_state=1729)\n",
    "selector = clf.fit(train, target)\n",
    "\n",
    "importances = selector.feature_importances_\n",
    "fs = SelectFromModel(selector, prefit=True)\n",
    "train = fs.transform(train)\n",
    "test = fs.transform(test)\n",
    "\n",
    "selectedCols = train.shape[1]\n",
    "sortedCols = [col for importance, col  in sorted(zip(importances, Cols))]\n",
    "sortedCols = sortedCols[0:selectedCols]"
   ]
  },
  {
   "cell_type": "code",
   "execution_count": 180,
   "metadata": {},
   "outputs": [],
   "source": [
    "target = np.array(target)"
   ]
  },
  {
   "cell_type": "code",
   "execution_count": 181,
   "metadata": {},
   "outputs": [
    {
     "name": "stdout",
     "output_type": "stream",
     "text": [
      "26.9994906759\n",
      "50.2427002926\n",
      "31.0831054629\n",
      "22.385551193\n",
      "22.5675036777\n",
      "27.3523666859\n",
      "17.6863656044\n",
      "7.62555118265\n",
      "6.29291099022\n",
      "9.04750138316\n"
     ]
    }
   ],
   "source": [
    "predictedResult = np.zeros(train.shape[0])\n",
    "\n",
    "kf = KFold(train.shape[0], n_folds=10)\n",
    "\n",
    "testPred = []\n",
    "\n",
    "for trainIndex, testIndex in kf:\n",
    "    trainFold, testFold = train[trainIndex], train[testIndex]\n",
    "    trainFoldTarget, testFoldTarget = target[trainIndex], target[testIndex]\n",
    "    \n",
    "    xgbc = xgb.XGBRegressor(n_estimators = 100, # number of boosted trees\n",
    "                             learning_rate = 0.1, # step size shrinkage used in update to prevent overfitting\n",
    "                             max_depth = 5, # maximum depth of a tree\n",
    "                             subsample = 0.6815, # subsample ratio of the training set (Stochastic gradient boosting)\n",
    "                             colsample_bytree = 0.701) # subsample features\n",
    "    \n",
    "    xgbc.fit(trainFold, trainFoldTarget)\n",
    "    \n",
    "    xgbpred =xgbc.predict(testFold)\n",
    "    testPred.append(xgbc.predict(test))\n",
    "    predictedResult[testIndex] = xgbpred\n",
    "    \n",
    "    # Print the AUC\n",
    "    print(metrics.mean_absolute_error(testFoldTarget, xgbpred))"
   ]
  },
  {
   "cell_type": "code",
   "execution_count": 185,
   "metadata": {
    "collapsed": true
   },
   "outputs": [],
   "source": [
    "xgbpred = [int(round(i)) for i in xgbc.predict(test)]"
   ]
  },
  {
   "cell_type": "code",
   "execution_count": 186,
   "metadata": {},
   "outputs": [],
   "source": [
    "submission = pd.read_csv('./input/submission_format.csv',\n",
    "                         index_col=[0, 1, 2])\n",
    "\n",
    "submission.total_cases = xgbpred\n",
    "submission.to_csv('./input/xgb_submission.csv')"
   ]
  }
 ],
 "metadata": {
  "kernelspec": {
   "display_name": "Python 3",
   "language": "python",
   "name": "python3"
  },
  "language_info": {
   "codemirror_mode": {
    "name": "ipython",
    "version": 3
   },
   "file_extension": ".py",
   "mimetype": "text/x-python",
   "name": "python",
   "nbconvert_exporter": "python",
   "pygments_lexer": "ipython3",
   "version": "3.6.1"
  }
 },
 "nbformat": 4,
 "nbformat_minor": 2
}
