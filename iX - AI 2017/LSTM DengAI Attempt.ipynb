{
 "cells": [
  {
   "cell_type": "code",
   "execution_count": 3,
   "metadata": {},
   "outputs": [
    {
     "name": "stderr",
     "output_type": "stream",
     "text": [
      "Using TensorFlow backend.\n"
     ]
    }
   ],
   "source": [
    "import numpy as np\n",
    "import matplotlib.pyplot as plt\n",
    "import pandas as pd\n",
    "import math\n",
    "from keras.models import Sequential\n",
    "from keras.layers import Dense\n",
    "from keras.layers import LSTM\n",
    "from sklearn.preprocessing import MinMaxScaler\n",
    "from sklearn.metrics import mean_squared_error\n",
    "import datetime"
   ]
  },
  {
   "cell_type": "code",
   "execution_count": 6,
   "metadata": {},
   "outputs": [],
   "source": [
    "np.random.seed(7)"
   ]
  },
  {
   "cell_type": "code",
   "execution_count": 7,
   "metadata": {
    "collapsed": true
   },
   "outputs": [],
   "source": [
    "def normalize(column):\n",
    "    new_column = []\n",
    "    min_val = min(column)\n",
    "    max_val = max(column)\n",
    "    range_val = max_val-min_val\n",
    "    for entry in column:\n",
    "        new_column.append((entry-min_val)/range_val)\n",
    "    return new_column"
   ]
  },
  {
   "cell_type": "code",
   "execution_count": 29,
   "metadata": {},
   "outputs": [],
   "source": [
    "train_labels = pd.read_csv('./input/dengue_labels_train.csv', engine='python')\n",
    "total_test_features = pd.read_csv('./input/dengue_features_test.csv')\n",
    "train_labels = np.ravel(train_labels.drop(train_labels.columns[[0, 1, 2]], axis=1).values.astype('float32'))\n",
    "# test_labels = pd.read_csv('./input/dengue_labelste.csv')\n",
    "# sj_final_test = test_labels[:260]\n",
    "# iq_final_test = test_labels[261:]\n",
    "sj_labels = total_labels[935:]\n",
    "iq_labels = total_labels[:936]"
   ]
  },
  {
   "cell_type": "code",
   "execution_count": 41,
   "metadata": {},
   "outputs": [
    {
     "name": "stderr",
     "output_type": "stream",
     "text": [
      "/Users/Simran/anaconda/lib/python3.6/site-packages/sklearn/preprocessing/data.py:321: DeprecationWarning: Passing 1d arrays as data is deprecated in 0.17 and will raise ValueError in 0.19. Reshape your data either using X.reshape(-1, 1) if your data has a single feature or X.reshape(1, -1) if it contains a single sample.\n",
      "  warnings.warn(DEPRECATION_MSG_1D, DeprecationWarning)\n",
      "/Users/Simran/anaconda/lib/python3.6/site-packages/sklearn/preprocessing/data.py:356: DeprecationWarning: Passing 1d arrays as data is deprecated in 0.17 and will raise ValueError in 0.19. Reshape your data either using X.reshape(-1, 1) if your data has a single feature or X.reshape(1, -1) if it contains a single sample.\n",
      "  warnings.warn(DEPRECATION_MSG_1D, DeprecationWarning)\n",
      "/Users/Simran/anaconda/lib/python3.6/site-packages/sklearn/preprocessing/data.py:321: DeprecationWarning: Passing 1d arrays as data is deprecated in 0.17 and will raise ValueError in 0.19. Reshape your data either using X.reshape(-1, 1) if your data has a single feature or X.reshape(1, -1) if it contains a single sample.\n",
      "  warnings.warn(DEPRECATION_MSG_1D, DeprecationWarning)\n",
      "/Users/Simran/anaconda/lib/python3.6/site-packages/sklearn/preprocessing/data.py:356: DeprecationWarning: Passing 1d arrays as data is deprecated in 0.17 and will raise ValueError in 0.19. Reshape your data either using X.reshape(-1, 1) if your data has a single feature or X.reshape(1, -1) if it contains a single sample.\n",
      "  warnings.warn(DEPRECATION_MSG_1D, DeprecationWarning)\n"
     ]
    }
   ],
   "source": [
    "dataset = sj_labels\n",
    "scaler = MinMaxScaler(feature_range=(0, 1))\n",
    "scaler.fit_transform(dataset)\n",
    "train_size = int(len(dataset) * 0.67)\n",
    "test_size = len(dataset) - train_size\n",
    "sj_train, sj_test = dataset[0:train_size], dataset[train_size:len(dataset)]\n",
    "\n",
    "dataset = iq_labels\n",
    "scaler = MinMaxScaler(feature_range=(0, 1))\n",
    "scaler.fit_transform(dataset)\n",
    "train_size = int(len(dataset) * 0.67)\n",
    "test_size = len(dataset) - train_size\n",
    "iq_train, iq_test = dataset[0:train_size], dataset[train_size:len(dataset)]"
   ]
  },
  {
   "cell_type": "code",
   "execution_count": 42,
   "metadata": {
    "collapsed": true
   },
   "outputs": [],
   "source": [
    "def create_dataset(dataset, look_back=1):\n",
    "    dataX, dataY = [], []\n",
    "    for i in range(len(dataset)-look_back-1):\n",
    "        a = dataset[i:(i+look_back)]\n",
    "        dataX.append(a)\n",
    "        dataY.append(dataset[i + look_back])\n",
    "    return np.array(dataX), np.array(dataY)"
   ]
  },
  {
   "cell_type": "code",
   "execution_count": 44,
   "metadata": {},
   "outputs": [],
   "source": [
    "look_back = 1\n",
    "sj_trainX, sj_trainY = create_dataset(sj_train, look_back)\n",
    "sj_testX, sj_testY = create_dataset(sj_test, look_back)\n",
    "iq_trainX, iq_trainY = create_dataset(iq_train, look_back)\n",
    "iq_testX, iq_testY = create_dataset(iq_test, look_back)\n",
    "# sj_x, sj_y = create_dataset(sj_final_test, look_back)\n",
    "# iq_x, iq_y = create_dataset(iq_final_test, look_back)"
   ]
  },
  {
   "cell_type": "code",
   "execution_count": 47,
   "metadata": {},
   "outputs": [],
   "source": [
    "# reshape input to be [samples, time steps, features]\n",
    "sj_trainX = np.reshape(sj_trainX, (sj_trainX.shape[0], 1, sj_trainX.shape[1]))\n",
    "sj_testX = np.reshape(sj_testX, (sj_testX.shape[0], 1, sj_testX.shape[1]))\n",
    "\n",
    "# reshape input to be [samples, time steps, features]\n",
    "iq_trainX = np.reshape(iq_trainX, (iq_trainX.shape[0], 1, iq_trainX.shape[1]))\n",
    "iq_testX = np.reshape(iq_testX, (iq_testX.shape[0], 1, iq_testX.shape[1]))\n",
    "\n",
    "# sj_x = np.reshape(sj_x, (sj_x.shape[0], 1, sj_x.shape[1]))\n",
    "# iq_x = np.reshape(iq_x, (iq_x.shape[0], 1, iq_x.shape[1]))"
   ]
  },
  {
   "cell_type": "code",
   "execution_count": 48,
   "metadata": {},
   "outputs": [
    {
     "name": "stdout",
     "output_type": "stream",
     "text": [
      "[   0.    0.    0.    0.    0.    0.    0.    0.    0.    0.    1.    0.\n",
      "    0.    0.    0.    1.    1.    0.    0.    0.    0.    0.    0.    0.\n",
      "    1.    0.    0.    0.    0.    0.    0.    0.    0.    0.    0.    0.\n",
      "    0.    0.    0.    0.    0.    1.    0.    0.    0.    0.    1.    1.\n",
      "    0.    0.    1.    0.    0.    0.    0.    0.    0.    0.    0.    0.\n",
      "    0.    0.    0.    0.    0.    0.    0.    0.    0.    0.    0.    0.\n",
      "    1.    1.    1.    2.    4.    1.    4.   11.   16.   23.   12.   14.\n",
      "   18.    8.    7.   10.    7.   10.    5.   11.    8.   18.   13.    9.\n",
      "   22.   10.    5.   13.    2.   11.   11.    3.    7.    7.    4.    5.\n",
      "    6.    7.    7.    4.    9.   17.    8.   22.   18.   21.   16.   31.\n",
      "   25.   28.   26.   18.   27.   11.   38.   29.   21.   11.   10.    5.\n",
      "    6.    2.    1.    2.    2.    3.    5.    1.    4.    2.    4.    0.\n",
      "    0.    0.    0.    1.    1.    1.    1.    1.    2.    3.    4.    6.\n",
      "    2.    2.    5.    1.    1.    0.    0.    0.    0.    2.    0.    3.\n",
      "    0.    0.    0.    2.    2.    3.    3.    3.    1.    2.    3.    6.\n",
      "    5.    1.    4.    5.    8.    5.    2.    3.    3.    1.    6.    4.\n",
      "    1.    2.    3.    1.    8.    4.    6.    7.    5.    8.    6.    5.\n",
      "    6.    6.   13.    2.   10.    3.   12.    7.    6.    5.    6.    6.\n",
      "    6.    8.    6.    9.   12.   19.    8.   16.   21.    6.   22.   37.\n",
      "   33.   18.   83.  116.   32.    7.    9.   10.    5.    8.    7.    8.\n",
      "   11.    6.    7.    7.   14.    7.    9.   13.   16.    7.    9.    2.\n",
      "   13.    8.    3.    5.    4.    8.    2.    3.    5.    7.    3.    5.\n",
      "    6.    5.    5.    4.    0.    0.    0.    0.    0.    2.    4.    4.\n",
      "    3.    3.    5.    6.   14.    3.    7.   11.    2.    6.    8.   25.\n",
      "   21.   10.   28.   39.   20.   24.   28.   26.    8.    9.   12.   18.\n",
      "    9.    9.    6.    6.    8.    5.    7.    6.    5.    3.    1.    0.\n",
      "    1.    2.    3.    2.    2.    2.    2.    2.    4.    0.    6.    3.\n",
      "    2.    6.    2.    7.    4.    6.    6.    2.   13.   10.    5.    2.\n",
      "    0.    1.    0.   14.    6.   10.    5.   12.    9.    5.   11.]\n"
     ]
    }
   ],
   "source": [
    "print(sj_trainY)"
   ]
  },
  {
   "cell_type": "code",
   "execution_count": 52,
   "metadata": {},
   "outputs": [
    {
     "data": {
      "text/plain": [
       "array([   0.,    0.,    0.,    0.,    0.,    0.,    0.,    0.,    0.,\n",
       "          0.,    1.,    0.,    0.,    0.,    0.,    1.,    1.,    0.,\n",
       "          0.,    0.,    0.,    0.,    0.,    0.,    1.,    0.,    0.,\n",
       "          0.,    0.,    0.,    0.,    0.,    0.,    0.,    0.,    0.,\n",
       "          0.,    0.,    0.,    0.,    0.,    1.,    0.,    0.,    0.,\n",
       "          0.,    1.,    1.,    0.,    0.,    1.,    0.,    0.,    0.,\n",
       "          0.,    0.,    0.,    0.,    0.,    0.,    0.,    0.,    0.,\n",
       "          0.,    0.,    0.,    0.,    0.,    0.,    0.,    0.,    0.,\n",
       "          1.,    1.,    1.,    2.,    4.,    1.,    4.,   11.,   16.,\n",
       "         23.,   12.,   14.,   18.,    8.,    7.,   10.,    7.,   10.,\n",
       "          5.,   11.,    8.,   18.,   13.,    9.,   22.,   10.,    5.,\n",
       "         13.,    2.,   11.,   11.,    3.,    7.,    7.,    4.,    5.,\n",
       "          6.,    7.,    7.,    4.,    9.,   17.,    8.,   22.,   18.,\n",
       "         21.,   16.,   31.,   25.,   28.,   26.,   18.,   27.,   11.,\n",
       "         38.,   29.,   21.,   11.,   10.,    5.,    6.,    2.,    1.,\n",
       "          2.,    2.,    3.,    5.,    1.,    4.,    2.,    4.,    0.,\n",
       "          0.,    0.,    0.,    1.,    1.,    1.,    1.,    1.,    2.,\n",
       "          3.,    4.,    6.,    2.,    2.,    5.,    1.,    1.,    0.,\n",
       "          0.,    0.,    0.,    2.,    0.,    3.,    0.,    0.,    0.,\n",
       "          2.,    2.,    3.,    3.,    3.,    1.,    2.,    3.,    6.,\n",
       "          5.,    1.,    4.,    5.,    8.,    5.,    2.,    3.,    3.,\n",
       "          1.,    6.,    4.,    1.,    2.,    3.,    1.,    8.,    4.,\n",
       "          6.,    7.,    5.,    8.,    6.,    5.,    6.,    6.,   13.,\n",
       "          2.,   10.,    3.,   12.,    7.,    6.,    5.,    6.,    6.,\n",
       "          6.,    8.,    6.,    9.,   12.,   19.,    8.,   16.,   21.,\n",
       "          6.,   22.,   37.,   33.,   18.,   83.,  116.,   32.,    7.,\n",
       "          9.,   10.,    5.,    8.,    7.,    8.,   11.,    6.,    7.,\n",
       "          7.,   14.,    7.,    9.,   13.,   16.,    7.,    9.,    2.,\n",
       "         13.,    8.,    3.,    5.,    4.,    8.,    2.,    3.,    5.,\n",
       "          7.,    3.,    5.,    6.,    5.,    5.,    4.,    0.,    0.,\n",
       "          0.,    0.,    0.,    2.,    4.,    4.,    3.,    3.,    5.,\n",
       "          6.,   14.,    3.,    7.,   11.,    2.,    6.,    8.,   25.,\n",
       "         21.,   10.,   28.,   39.,   20.,   24.,   28.,   26.,    8.,\n",
       "          9.,   12.,   18.,    9.,    9.,    6.,    6.,    8.,    5.,\n",
       "          7.,    6.,    5.,    3.,    1.,    0.,    1.,    2.,    3.,\n",
       "          2.,    2.,    2.,    2.,    2.,    4.,    0.,    6.,    3.,\n",
       "          2.,    6.,    2.,    7.,    4.,    6.,    6.,    2.,   13.,\n",
       "         10.,    5.,    2.,    0.,    1.,    0.,   14.,    6.,   10.,\n",
       "          5.,   12.,    9.,    5.,   11.], dtype=float32)"
      ]
     },
     "execution_count": 52,
     "metadata": {},
     "output_type": "execute_result"
    }
   ],
   "source": [
    "sj_trainY"
   ]
  },
  {
   "cell_type": "code",
   "execution_count": 49,
   "metadata": {},
   "outputs": [
    {
     "name": "stdout",
     "output_type": "stream",
     "text": [
      "Epoch 1/100\n",
      "5s - loss: 140.8208\n",
      "Epoch 2/100\n",
      "2s - loss: 130.3388\n",
      "Epoch 3/100\n",
      "2s - loss: 123.7421\n",
      "Epoch 4/100\n",
      "2s - loss: 118.9274\n",
      "Epoch 5/100\n",
      "3s - loss: 114.8861\n",
      "Epoch 6/100\n",
      "2s - loss: 111.4296\n",
      "Epoch 7/100\n",
      "3s - loss: 108.3594\n",
      "Epoch 8/100\n",
      "2s - loss: 105.6781\n",
      "Epoch 9/100\n",
      "2s - loss: 103.3232\n",
      "Epoch 10/100\n",
      "2s - loss: 101.2203\n",
      "Epoch 11/100\n",
      "2s - loss: 99.3314\n",
      "Epoch 12/100\n",
      "2s - loss: 97.6510\n",
      "Epoch 13/100\n",
      "2s - loss: 96.1166\n",
      "Epoch 14/100\n",
      "2s - loss: 94.6689\n",
      "Epoch 15/100\n",
      "2s - loss: 93.3444\n",
      "Epoch 16/100\n",
      "3s - loss: 92.1244\n",
      "Epoch 17/100\n",
      "3s - loss: 90.9757\n",
      "Epoch 18/100\n",
      "2s - loss: 89.9037\n",
      "Epoch 19/100\n",
      "3s - loss: 88.9125\n",
      "Epoch 20/100\n",
      "2s - loss: 87.9666\n",
      "Epoch 21/100\n",
      "2s - loss: 87.0908\n",
      "Epoch 22/100\n",
      "2s - loss: 86.2434\n",
      "Epoch 23/100\n",
      "2s - loss: 85.4608\n",
      "Epoch 24/100\n",
      "2s - loss: 84.6847\n",
      "Epoch 25/100\n",
      "2s - loss: 83.9594\n",
      "Epoch 26/100\n",
      "2s - loss: 83.2924\n",
      "Epoch 27/100\n",
      "2s - loss: 82.5993\n",
      "Epoch 28/100\n",
      "3s - loss: 81.9736\n",
      "Epoch 29/100\n",
      "2s - loss: 81.2862\n",
      "Epoch 30/100\n",
      "2s - loss: 80.7048\n",
      "Epoch 31/100\n",
      "2s - loss: 80.1303\n",
      "Epoch 32/100\n",
      "2s - loss: 79.5449\n",
      "Epoch 33/100\n",
      "3s - loss: 78.9936\n",
      "Epoch 34/100\n",
      "2s - loss: 78.5352\n",
      "Epoch 35/100\n",
      "2s - loss: 78.0255\n",
      "Epoch 36/100\n",
      "3s - loss: 77.5526\n",
      "Epoch 37/100\n",
      "2s - loss: 77.0890\n",
      "Epoch 38/100\n",
      "2s - loss: 76.7058\n",
      "Epoch 39/100\n",
      "2s - loss: 76.2726\n",
      "Epoch 40/100\n",
      "2s - loss: 75.8728\n",
      "Epoch 41/100\n",
      "2s - loss: 75.4653\n",
      "Epoch 42/100\n",
      "2s - loss: 75.1856\n",
      "Epoch 43/100\n",
      "2s - loss: 74.7420\n",
      "Epoch 44/100\n",
      "2s - loss: 74.4845\n",
      "Epoch 45/100\n",
      "2s - loss: 74.0966\n",
      "Epoch 46/100\n",
      "2s - loss: 73.7939\n",
      "Epoch 47/100\n",
      "2s - loss: 73.5126\n",
      "Epoch 48/100\n",
      "2s - loss: 73.1135\n",
      "Epoch 49/100\n",
      "2s - loss: 72.8160\n",
      "Epoch 50/100\n",
      "2s - loss: 72.5305\n",
      "Epoch 51/100\n",
      "2s - loss: 72.2461\n",
      "Epoch 52/100\n",
      "2s - loss: 72.0422\n",
      "Epoch 53/100\n",
      "2s - loss: 71.7175\n",
      "Epoch 54/100\n",
      "2s - loss: 71.4796\n",
      "Epoch 55/100\n",
      "2s - loss: 71.1688\n",
      "Epoch 56/100\n",
      "2s - loss: 70.9845\n",
      "Epoch 57/100\n",
      "2s - loss: 70.8438\n",
      "Epoch 58/100\n",
      "3s - loss: 70.5802\n",
      "Epoch 59/100\n",
      "3s - loss: 70.3481\n",
      "Epoch 60/100\n",
      "3s - loss: 70.2427\n",
      "Epoch 61/100\n",
      "2s - loss: 69.9129\n",
      "Epoch 62/100\n",
      "2s - loss: 69.6999\n",
      "Epoch 63/100\n",
      "2s - loss: 69.5255\n",
      "Epoch 64/100\n",
      "2s - loss: 69.3408\n",
      "Epoch 65/100\n",
      "2s - loss: 69.1687\n",
      "Epoch 66/100\n",
      "2s - loss: 69.0393\n",
      "Epoch 67/100\n",
      "2s - loss: 68.7965\n",
      "Epoch 68/100\n",
      "2s - loss: 68.3720\n",
      "Epoch 69/100\n",
      "2s - loss: 68.5583\n",
      "Epoch 70/100\n",
      "2s - loss: 68.2567\n",
      "Epoch 71/100\n",
      "3s - loss: 68.2488\n",
      "Epoch 72/100\n",
      "2s - loss: 68.0555\n",
      "Epoch 73/100\n",
      "2s - loss: 67.8079\n",
      "Epoch 74/100\n",
      "2s - loss: 67.7908\n",
      "Epoch 75/100\n",
      "2s - loss: 67.5978\n",
      "Epoch 76/100\n",
      "2s - loss: 67.3726\n",
      "Epoch 77/100\n",
      "2s - loss: 67.4629\n",
      "Epoch 78/100\n",
      "2s - loss: 67.2242\n",
      "Epoch 79/100\n",
      "2s - loss: 66.9844\n",
      "Epoch 80/100\n",
      "2s - loss: 67.1456\n",
      "Epoch 81/100\n",
      "2s - loss: 66.9537\n",
      "Epoch 82/100\n",
      "2s - loss: 66.6195\n",
      "Epoch 83/100\n",
      "2s - loss: 66.6198\n",
      "Epoch 84/100\n",
      "2s - loss: 66.3616\n",
      "Epoch 85/100\n",
      "2s - loss: 66.4456\n",
      "Epoch 86/100\n",
      "2s - loss: 66.2261\n",
      "Epoch 87/100\n",
      "2s - loss: 66.1718\n",
      "Epoch 88/100\n",
      "2s - loss: 66.1340\n",
      "Epoch 89/100\n",
      "2s - loss: 65.8563\n",
      "Epoch 90/100\n",
      "2s - loss: 65.7403\n",
      "Epoch 91/100\n",
      "2s - loss: 65.6888\n",
      "Epoch 92/100\n",
      "2s - loss: 65.5844\n",
      "Epoch 93/100\n",
      "2s - loss: 65.6412\n",
      "Epoch 94/100\n",
      "2s - loss: 65.3762\n",
      "Epoch 95/100\n",
      "2s - loss: 65.4950\n",
      "Epoch 96/100\n",
      "2s - loss: 65.3165\n",
      "Epoch 97/100\n",
      "2s - loss: 65.2466\n",
      "Epoch 98/100\n",
      "3s - loss: 65.1988\n",
      "Epoch 99/100\n",
      "3s - loss: 64.8246\n",
      "Epoch 100/100\n",
      "2s - loss: 64.9216\n"
     ]
    },
    {
     "data": {
      "text/plain": [
       "<keras.callbacks.History at 0x11da58710>"
      ]
     },
     "execution_count": 49,
     "metadata": {},
     "output_type": "execute_result"
    }
   ],
   "source": [
    "# create and fit the LSTM network\n",
    "model = Sequential()\n",
    "model.add(LSTM(4, input_shape=(1, look_back)))\n",
    "model.add(Dense(1))\n",
    "model.compile(loss='mean_squared_error', optimizer='adam')\n",
    "model.fit(sj_trainX, sj_trainY, epochs=100, batch_size=1, verbose=2)"
   ]
  },
  {
   "cell_type": "code",
   "execution_count": 50,
   "metadata": {},
   "outputs": [
    {
     "ename": "NameError",
     "evalue": "name 'sj_x' is not defined",
     "output_type": "error",
     "traceback": [
      "\u001b[0;31m---------------------------------------------------------------------------\u001b[0m",
      "\u001b[0;31mNameError\u001b[0m                                 Traceback (most recent call last)",
      "\u001b[0;32m<ipython-input-50-a11ad84708a5>\u001b[0m in \u001b[0;36m<module>\u001b[0;34m()\u001b[0m\n\u001b[1;32m      2\u001b[0m \u001b[0mtrainPredict\u001b[0m \u001b[0;34m=\u001b[0m \u001b[0mmodel\u001b[0m\u001b[0;34m.\u001b[0m\u001b[0mpredict\u001b[0m\u001b[0;34m(\u001b[0m\u001b[0msj_trainX\u001b[0m\u001b[0;34m)\u001b[0m\u001b[0;34m\u001b[0m\u001b[0m\n\u001b[1;32m      3\u001b[0m \u001b[0mtestPredict\u001b[0m \u001b[0;34m=\u001b[0m \u001b[0mmodel\u001b[0m\u001b[0;34m.\u001b[0m\u001b[0mpredict\u001b[0m\u001b[0;34m(\u001b[0m\u001b[0msj_testX\u001b[0m\u001b[0;34m)\u001b[0m\u001b[0;34m\u001b[0m\u001b[0m\n\u001b[0;32m----> 4\u001b[0;31m \u001b[0msj_predictions\u001b[0m \u001b[0;34m=\u001b[0m \u001b[0;34m[\u001b[0m\u001b[0mint\u001b[0m\u001b[0;34m(\u001b[0m\u001b[0mi\u001b[0m\u001b[0;34m)\u001b[0m \u001b[0;32mfor\u001b[0m \u001b[0mi\u001b[0m \u001b[0;32min\u001b[0m \u001b[0mmodel\u001b[0m\u001b[0;34m.\u001b[0m\u001b[0mpredict\u001b[0m\u001b[0;34m(\u001b[0m\u001b[0msj_x\u001b[0m\u001b[0;34m)\u001b[0m\u001b[0;34m]\u001b[0m\u001b[0;34m\u001b[0m\u001b[0m\n\u001b[0m\u001b[1;32m      5\u001b[0m \u001b[0;31m# invert predictions\u001b[0m\u001b[0;34m\u001b[0m\u001b[0;34m\u001b[0m\u001b[0m\n\u001b[1;32m      6\u001b[0m \u001b[0mtrainPredict\u001b[0m \u001b[0;34m=\u001b[0m \u001b[0mscaler\u001b[0m\u001b[0;34m.\u001b[0m\u001b[0minverse_transform\u001b[0m\u001b[0;34m(\u001b[0m\u001b[0mtrainPredict\u001b[0m\u001b[0;34m)\u001b[0m\u001b[0;34m\u001b[0m\u001b[0m\n",
      "\u001b[0;31mNameError\u001b[0m: name 'sj_x' is not defined"
     ]
    }
   ],
   "source": [
    "# make predictions\n",
    "trainPredict = model.predict(sj_trainX)\n",
    "testPredict = model.predict(sj_testX)\n",
    "sj_predictions = [int(i) for i in model.predict(sj_x)]\n",
    "# invert predictions\n",
    "trainPredict = scaler.inverse_transform(trainPredict)\n",
    "trainY = scaler.inverse_transform([sj_trainY])\n",
    "testPredict = scaler.inverse_transform(testPredict)\n",
    "testY = scaler.inverse_transform([sj_testY])\n",
    "# calculate root mean squared error\n",
    "trainScore = math.sqrt(mean_squared_error(trainY[0], trainPredict[:,0]))\n",
    "print('Train Score: %.2f RMSE' % (trainScore))\n",
    "testScore = math.sqrt(mean_squared_error(testY[0], testPredict[:,0]))\n",
    "print('Test Score: %.2f RMSE' % (testScore))"
   ]
  },
  {
   "cell_type": "code",
   "execution_count": null,
   "metadata": {},
   "outputs": [],
   "source": [
    "# create and fit the LSTM network\n",
    "model = Sequential()\n",
    "model.add(LSTM(4, input_shape=(1, look_back)))\n",
    "model.add(Dense(1))\n",
    "model.compile(loss='mean_squared_error', optimizer='adam')\n",
    "model.fit(iq_trainX, iq_trainY, epochs=100, batch_size=1, verbose=2)"
   ]
  },
  {
   "cell_type": "code",
   "execution_count": null,
   "metadata": {},
   "outputs": [],
   "source": [
    "# make predictions\n",
    "trainPredict = model.predict(iq_trainX)\n",
    "testPredict = model.predict(iq_testX)\n",
    "iq_predictions = [int(i) for i in model.predict(iq_x)]\n",
    "# invert predictions\n",
    "trainPredict = scaler.inverse_transform(trainPredict)\n",
    "trainY = scaler.inverse_transform([iq_trainY])\n",
    "testPredict = scaler.inverse_transform(testPredict)\n",
    "testY = scaler.inverse_transform([iq_testY])\n",
    "# calculate root mean squared error\n",
    "trainScore = math.sqrt(mean_squared_error(trainY[0], trainPredict[:,0]))\n",
    "print('Train Score: %.2f RMSE' % (trainScore))\n",
    "testScore = math.sqrt(mean_squared_error(testY[0], testPredict[:,0]))\n",
    "print('Test Score: %.2f RMSE' % (testScore))"
   ]
  },
  {
   "cell_type": "code",
   "execution_count": null,
   "metadata": {},
   "outputs": [],
   "source": [
    "print(iq_trainX)"
   ]
  },
  {
   "cell_type": "code",
   "execution_count": null,
   "metadata": {},
   "outputs": [],
   "source": [
    "print(iq_testX)"
   ]
  },
  {
   "cell_type": "code",
   "execution_count": 339,
   "metadata": {},
   "outputs": [
    {
     "name": "stdout",
     "output_type": "stream",
     "text": [
      "518\n"
     ]
    }
   ],
   "source": [
    "print((len(iq_x.ravel())))"
   ]
  },
  {
   "cell_type": "code",
   "execution_count": 335,
   "metadata": {},
   "outputs": [
    {
     "name": "stdout",
     "output_type": "stream",
     "text": [
      "518\n"
     ]
    }
   ],
   "source": [
    "print(len(iq_predictions))"
   ]
  },
  {
   "cell_type": "code",
   "execution_count": 334,
   "metadata": {},
   "outputs": [
    {
     "ename": "ValueError",
     "evalue": "Length of values does not match length of index",
     "output_type": "error",
     "traceback": [
      "\u001b[0;31m---------------------------------------------------------------------------\u001b[0m",
      "\u001b[0;31mValueError\u001b[0m                                Traceback (most recent call last)",
      "\u001b[0;32m<ipython-input-334-220eba26cafc>\u001b[0m in \u001b[0;36m<module>\u001b[0;34m()\u001b[0m\n\u001b[1;32m      2\u001b[0m                          index_col=[0, 1, 2])\n\u001b[1;32m      3\u001b[0m \u001b[0;34m\u001b[0m\u001b[0m\n\u001b[0;32m----> 4\u001b[0;31m \u001b[0msubmission\u001b[0m\u001b[0;34m.\u001b[0m\u001b[0mtotal_cases\u001b[0m \u001b[0;34m=\u001b[0m \u001b[0mnp\u001b[0m\u001b[0;34m.\u001b[0m\u001b[0mconcatenate\u001b[0m\u001b[0;34m(\u001b[0m\u001b[0;34m[\u001b[0m\u001b[0msj_predictions\u001b[0m\u001b[0;34m,\u001b[0m \u001b[0miq_predictions\u001b[0m\u001b[0;34m]\u001b[0m\u001b[0;34m)\u001b[0m\u001b[0;34m\u001b[0m\u001b[0m\n\u001b[0m\u001b[1;32m      5\u001b[0m \u001b[0msubmission\u001b[0m\u001b[0;34m.\u001b[0m\u001b[0mto_csv\u001b[0m\u001b[0;34m(\u001b[0m\u001b[0;34m'./input/lstm_submission.csv'\u001b[0m\u001b[0;34m)\u001b[0m\u001b[0;34m\u001b[0m\u001b[0m\n",
      "\u001b[0;32m/Users/Simran/anaconda/lib/python3.6/site-packages/pandas/core/generic.py\u001b[0m in \u001b[0;36m__setattr__\u001b[0;34m(self, name, value)\u001b[0m\n\u001b[1;32m   2997\u001b[0m                     \u001b[0mobject\u001b[0m\u001b[0;34m.\u001b[0m\u001b[0m__setattr__\u001b[0m\u001b[0;34m(\u001b[0m\u001b[0mself\u001b[0m\u001b[0;34m,\u001b[0m \u001b[0mname\u001b[0m\u001b[0;34m,\u001b[0m \u001b[0mvalue\u001b[0m\u001b[0;34m)\u001b[0m\u001b[0;34m\u001b[0m\u001b[0m\n\u001b[1;32m   2998\u001b[0m                 \u001b[0;32melif\u001b[0m \u001b[0mname\u001b[0m \u001b[0;32min\u001b[0m \u001b[0mself\u001b[0m\u001b[0;34m.\u001b[0m\u001b[0m_info_axis\u001b[0m\u001b[0;34m:\u001b[0m\u001b[0;34m\u001b[0m\u001b[0m\n\u001b[0;32m-> 2999\u001b[0;31m                     \u001b[0mself\u001b[0m\u001b[0;34m[\u001b[0m\u001b[0mname\u001b[0m\u001b[0;34m]\u001b[0m \u001b[0;34m=\u001b[0m \u001b[0mvalue\u001b[0m\u001b[0;34m\u001b[0m\u001b[0m\n\u001b[0m\u001b[1;32m   3000\u001b[0m                 \u001b[0;32melse\u001b[0m\u001b[0;34m:\u001b[0m\u001b[0;34m\u001b[0m\u001b[0m\n\u001b[1;32m   3001\u001b[0m                     \u001b[0mobject\u001b[0m\u001b[0;34m.\u001b[0m\u001b[0m__setattr__\u001b[0m\u001b[0;34m(\u001b[0m\u001b[0mself\u001b[0m\u001b[0;34m,\u001b[0m \u001b[0mname\u001b[0m\u001b[0;34m,\u001b[0m \u001b[0mvalue\u001b[0m\u001b[0;34m)\u001b[0m\u001b[0;34m\u001b[0m\u001b[0m\n",
      "\u001b[0;32m/Users/Simran/anaconda/lib/python3.6/site-packages/pandas/core/frame.py\u001b[0m in \u001b[0;36m__setitem__\u001b[0;34m(self, key, value)\u001b[0m\n\u001b[1;32m   2427\u001b[0m         \u001b[0;32melse\u001b[0m\u001b[0;34m:\u001b[0m\u001b[0;34m\u001b[0m\u001b[0m\n\u001b[1;32m   2428\u001b[0m             \u001b[0;31m# set column\u001b[0m\u001b[0;34m\u001b[0m\u001b[0;34m\u001b[0m\u001b[0m\n\u001b[0;32m-> 2429\u001b[0;31m             \u001b[0mself\u001b[0m\u001b[0;34m.\u001b[0m\u001b[0m_set_item\u001b[0m\u001b[0;34m(\u001b[0m\u001b[0mkey\u001b[0m\u001b[0;34m,\u001b[0m \u001b[0mvalue\u001b[0m\u001b[0;34m)\u001b[0m\u001b[0;34m\u001b[0m\u001b[0m\n\u001b[0m\u001b[1;32m   2430\u001b[0m \u001b[0;34m\u001b[0m\u001b[0m\n\u001b[1;32m   2431\u001b[0m     \u001b[0;32mdef\u001b[0m \u001b[0m_setitem_slice\u001b[0m\u001b[0;34m(\u001b[0m\u001b[0mself\u001b[0m\u001b[0;34m,\u001b[0m \u001b[0mkey\u001b[0m\u001b[0;34m,\u001b[0m \u001b[0mvalue\u001b[0m\u001b[0;34m)\u001b[0m\u001b[0;34m:\u001b[0m\u001b[0;34m\u001b[0m\u001b[0m\n",
      "\u001b[0;32m/Users/Simran/anaconda/lib/python3.6/site-packages/pandas/core/frame.py\u001b[0m in \u001b[0;36m_set_item\u001b[0;34m(self, key, value)\u001b[0m\n\u001b[1;32m   2493\u001b[0m \u001b[0;34m\u001b[0m\u001b[0m\n\u001b[1;32m   2494\u001b[0m         \u001b[0mself\u001b[0m\u001b[0;34m.\u001b[0m\u001b[0m_ensure_valid_index\u001b[0m\u001b[0;34m(\u001b[0m\u001b[0mvalue\u001b[0m\u001b[0;34m)\u001b[0m\u001b[0;34m\u001b[0m\u001b[0m\n\u001b[0;32m-> 2495\u001b[0;31m         \u001b[0mvalue\u001b[0m \u001b[0;34m=\u001b[0m \u001b[0mself\u001b[0m\u001b[0;34m.\u001b[0m\u001b[0m_sanitize_column\u001b[0m\u001b[0;34m(\u001b[0m\u001b[0mkey\u001b[0m\u001b[0;34m,\u001b[0m \u001b[0mvalue\u001b[0m\u001b[0;34m)\u001b[0m\u001b[0;34m\u001b[0m\u001b[0m\n\u001b[0m\u001b[1;32m   2496\u001b[0m         \u001b[0mNDFrame\u001b[0m\u001b[0;34m.\u001b[0m\u001b[0m_set_item\u001b[0m\u001b[0;34m(\u001b[0m\u001b[0mself\u001b[0m\u001b[0;34m,\u001b[0m \u001b[0mkey\u001b[0m\u001b[0;34m,\u001b[0m \u001b[0mvalue\u001b[0m\u001b[0;34m)\u001b[0m\u001b[0;34m\u001b[0m\u001b[0m\n\u001b[1;32m   2497\u001b[0m \u001b[0;34m\u001b[0m\u001b[0m\n",
      "\u001b[0;32m/Users/Simran/anaconda/lib/python3.6/site-packages/pandas/core/frame.py\u001b[0m in \u001b[0;36m_sanitize_column\u001b[0;34m(self, key, value, broadcast)\u001b[0m\n\u001b[1;32m   2664\u001b[0m \u001b[0;34m\u001b[0m\u001b[0m\n\u001b[1;32m   2665\u001b[0m             \u001b[0;31m# turn me into an ndarray\u001b[0m\u001b[0;34m\u001b[0m\u001b[0;34m\u001b[0m\u001b[0m\n\u001b[0;32m-> 2666\u001b[0;31m             \u001b[0mvalue\u001b[0m \u001b[0;34m=\u001b[0m \u001b[0m_sanitize_index\u001b[0m\u001b[0;34m(\u001b[0m\u001b[0mvalue\u001b[0m\u001b[0;34m,\u001b[0m \u001b[0mself\u001b[0m\u001b[0;34m.\u001b[0m\u001b[0mindex\u001b[0m\u001b[0;34m,\u001b[0m \u001b[0mcopy\u001b[0m\u001b[0;34m=\u001b[0m\u001b[0;32mFalse\u001b[0m\u001b[0;34m)\u001b[0m\u001b[0;34m\u001b[0m\u001b[0m\n\u001b[0m\u001b[1;32m   2667\u001b[0m             \u001b[0;32mif\u001b[0m \u001b[0;32mnot\u001b[0m \u001b[0misinstance\u001b[0m\u001b[0;34m(\u001b[0m\u001b[0mvalue\u001b[0m\u001b[0;34m,\u001b[0m \u001b[0;34m(\u001b[0m\u001b[0mnp\u001b[0m\u001b[0;34m.\u001b[0m\u001b[0mndarray\u001b[0m\u001b[0;34m,\u001b[0m \u001b[0mIndex\u001b[0m\u001b[0;34m)\u001b[0m\u001b[0;34m)\u001b[0m\u001b[0;34m:\u001b[0m\u001b[0;34m\u001b[0m\u001b[0m\n\u001b[1;32m   2668\u001b[0m                 \u001b[0;32mif\u001b[0m \u001b[0misinstance\u001b[0m\u001b[0;34m(\u001b[0m\u001b[0mvalue\u001b[0m\u001b[0;34m,\u001b[0m \u001b[0mlist\u001b[0m\u001b[0;34m)\u001b[0m \u001b[0;32mand\u001b[0m \u001b[0mlen\u001b[0m\u001b[0;34m(\u001b[0m\u001b[0mvalue\u001b[0m\u001b[0;34m)\u001b[0m \u001b[0;34m>\u001b[0m \u001b[0;36m0\u001b[0m\u001b[0;34m:\u001b[0m\u001b[0;34m\u001b[0m\u001b[0m\n",
      "\u001b[0;32m/Users/Simran/anaconda/lib/python3.6/site-packages/pandas/core/series.py\u001b[0m in \u001b[0;36m_sanitize_index\u001b[0;34m(data, index, copy)\u001b[0m\n\u001b[1;32m   2877\u001b[0m \u001b[0;34m\u001b[0m\u001b[0m\n\u001b[1;32m   2878\u001b[0m     \u001b[0;32mif\u001b[0m \u001b[0mlen\u001b[0m\u001b[0;34m(\u001b[0m\u001b[0mdata\u001b[0m\u001b[0;34m)\u001b[0m \u001b[0;34m!=\u001b[0m \u001b[0mlen\u001b[0m\u001b[0;34m(\u001b[0m\u001b[0mindex\u001b[0m\u001b[0;34m)\u001b[0m\u001b[0;34m:\u001b[0m\u001b[0;34m\u001b[0m\u001b[0m\n\u001b[0;32m-> 2879\u001b[0;31m         \u001b[0;32mraise\u001b[0m \u001b[0mValueError\u001b[0m\u001b[0;34m(\u001b[0m\u001b[0;34m'Length of values does not match length of '\u001b[0m \u001b[0;34m'index'\u001b[0m\u001b[0;34m)\u001b[0m\u001b[0;34m\u001b[0m\u001b[0m\n\u001b[0m\u001b[1;32m   2880\u001b[0m \u001b[0;34m\u001b[0m\u001b[0m\n\u001b[1;32m   2881\u001b[0m     \u001b[0;32mif\u001b[0m \u001b[0misinstance\u001b[0m\u001b[0;34m(\u001b[0m\u001b[0mdata\u001b[0m\u001b[0;34m,\u001b[0m \u001b[0mPeriodIndex\u001b[0m\u001b[0;34m)\u001b[0m\u001b[0;34m:\u001b[0m\u001b[0;34m\u001b[0m\u001b[0m\n",
      "\u001b[0;31mValueError\u001b[0m: Length of values does not match length of index"
     ]
    }
   ],
   "source": [
    "submission = pd.read_csv('./input/submission_format.csv',\n",
    "                         index_col=[0, 1, 2])\n",
    "\n",
    "submission.total_cases = np.concatenate([sj_predictions, iq_predictions])\n",
    "submission.to_csv('./input/lstm_submission.csv')"
   ]
  },
  {
   "cell_type": "code",
   "execution_count": null,
   "metadata": {
    "collapsed": true
   },
   "outputs": [],
   "source": []
  }
 ],
 "metadata": {
  "kernelspec": {
   "display_name": "Python 3",
   "language": "python",
   "name": "python3"
  },
  "language_info": {
   "codemirror_mode": {
    "name": "ipython",
    "version": 3
   },
   "file_extension": ".py",
   "mimetype": "text/x-python",
   "name": "python",
   "nbconvert_exporter": "python",
   "pygments_lexer": "ipython3",
   "version": "3.6.1"
  }
 },
 "nbformat": 4,
 "nbformat_minor": 2
}
