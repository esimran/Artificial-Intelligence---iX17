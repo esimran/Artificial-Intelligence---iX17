{
 "cells": [
  {
   "cell_type": "code",
   "execution_count": 19,
   "metadata": {
    "collapsed": true
   },
   "outputs": [],
   "source": [
    "import numpy as np\n",
    "import matplotlib.pyplot as plt\n",
    "import pandas as pd\n",
    "import math\n",
    "from keras.utils import np_utils\n",
    "from pandas import Series , DataFrame, Panel\n",
    "from keras.models import Sequential\n",
    "from keras.layers import Dense\n",
    "from keras.layers import Dropout\n",
    "from keras.layers import Conv2D, MaxPooling2D, Flatten\n",
    "from keras.callbacks import EarlyStopping\n",
    "from keras import metrics\n",
    "from sklearn.decomposition import PCA"
   ]
  },
  {
   "cell_type": "code",
   "execution_count": 20,
   "metadata": {
    "collapsed": true
   },
   "outputs": [],
   "source": [
    "train = pd.read_csv('./Digit_Recognizer/train.csv')\n",
    "TestX = pd.read_csv('./Digit_Recognizer/test.csv')"
   ]
  },
  {
   "cell_type": "code",
   "execution_count": 21,
   "metadata": {
    "collapsed": true
   },
   "outputs": [],
   "source": [
    "labels = train.iloc[1:,0].values\n",
    "TrainX = (train.iloc[1:,1:].values).astype(float)\n",
    "TrainY = np_utils.to_categorical(labels)"
   ]
  },
  {
   "cell_type": "code",
   "execution_count": 22,
   "metadata": {
    "collapsed": true
   },
   "outputs": [],
   "source": [
    "#Convert from 0-255 to 0-1\n",
    "TrainX /= 255\n",
    "TrainX -= np.std(TrainX)"
   ]
  },
  {
   "cell_type": "code",
   "execution_count": 23,
   "metadata": {},
   "outputs": [
    {
     "name": "stdout",
     "output_type": "stream",
     "text": [
      "(41999, 784)\n"
     ]
    }
   ],
   "source": [
    "print(TrainX.shape)"
   ]
  },
  {
   "cell_type": "code",
   "execution_count": 24,
   "metadata": {
    "collapsed": true
   },
   "outputs": [],
   "source": [
    "#PCA reduces the dimensionality ofo the data to increase speed of training\n",
    "# pca = PCA(n_components=256)\n",
    "# pca.fit(TrainX)\n",
    "# TrainX = pca.transform(TrainX)\n",
    "TrainX= TrainX.reshape(TrainX.shape[0],28,28,1)"
   ]
  },
  {
   "cell_type": "code",
   "execution_count": null,
   "metadata": {
    "collapsed": true
   },
   "outputs": [],
   "source": [
    "#adding layers to model. Pooling is a compression technique.\n",
    "np.random.seed(42)\n",
    "\n",
    "model = Sequential()\n",
    "model.add(Conv2D(64, kernel_size=(4,4),\n",
    "                 activation='relu',\n",
    "                 input_shape=(28,28,1)))\n",
    "model.add(Dropout(0.20))\n",
    "model.add(Conv2D(32, kernel_size=(4, 4),activation='relu',))\n",
    "model.add(Dropout(0.20))\n",
    "model.add(Conv2D(16, kernel_size=(4, 4),activation='relu',))\n",
    "model.add(Dropout(0.20))\n",
    "# model.add(MaxPooling2D(pool_size=(3, 3)))\n",
    "model.add(Flatten())\n",
    "model.add(Dense(128, activation = 'relu'))\n",
    "model.add(Dense(TrainY.shape[1],activation  = 'softmax'))\n",
    "early_stopping_monitor = EarlyStopping(monitor=\"acc\",min_delta=0.05,patience=2)\n",
    "\n",
    "model.compile(loss='categorical_crossentropy', optimizer='adam', metrics=['accuracy'])"
   ]
  },
  {
   "cell_type": "code",
   "execution_count": null,
   "metadata": {},
   "outputs": [
    {
     "name": "stdout",
     "output_type": "stream",
     "text": [
      "Epoch 1/16\n",
      "378s - loss: 0.1538 - acc: 0.9523\n",
      "Epoch 2/16\n"
     ]
    }
   ],
   "source": [
    "model.fit(TrainX,TrainY, epochs = 16, verbose = 2, batch_size =50)"
   ]
  },
  {
   "cell_type": "code",
   "execution_count": null,
   "metadata": {
    "collapsed": true
   },
   "outputs": [],
   "source": [
    "TestX /= 255\n",
    "TestX -= np.std(TrainX)\n",
    "TestX= TestX.reshape(TestX.shape[0],28,28,1)\n",
    "Prediction = model.predict_classes(TestX , verbose = 2)"
   ]
  },
  {
   "cell_type": "code",
   "execution_count": null,
   "metadata": {
    "collapsed": true
   },
   "outputs": [],
   "source": [
    "pd.DataFrame({\"ImageId\": list(range(1,len(Prediction)+1)), \"Label\": Prediction}).to_csv(\"submissionC.csv\", index=False, header=True)"
   ]
  }
 ],
 "metadata": {
  "kernelspec": {
   "display_name": "Python 3",
   "language": "python",
   "name": "python3"
  },
  "language_info": {
   "codemirror_mode": {
    "name": "ipython",
    "version": 3
   },
   "file_extension": ".py",
   "mimetype": "text/x-python",
   "name": "python",
   "nbconvert_exporter": "python",
   "pygments_lexer": "ipython3",
   "version": "3.6.1"
  }
 },
 "nbformat": 4,
 "nbformat_minor": 2
}
